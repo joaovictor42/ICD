{
  "nbformat": 4,
  "nbformat_minor": 0,
  "metadata": {
    "kernelspec": {
      "display_name": "Python 3",
      "language": "python",
      "name": "python3"
    },
    "language_info": {
      "codemirror_mode": {
        "name": "ipython",
        "version": 3
      },
      "file_extension": ".py",
      "mimetype": "text/x-python",
      "name": "python",
      "nbconvert_exporter": "python",
      "pygments_lexer": "ipython3",
      "version": "3.7.6"
    },
    "colab": {
      "name": "5 - Relatorio Final.ipynb",
      "provenance": [],
      "collapsed_sections": [
        "bg7Img6gtP39",
        "XFi_c1P3tP39",
        "_N0zjnqutP3_",
        "1hID4ia1tP4B",
        "Eikm5VzytP4D",
        "LBJdF0eZtP4D",
        "uJEqLozUtP4E",
        "ODidt8yNtP4F",
        "TIwr_Gx1tP4F",
        "aQk5CPEZtP4G",
        "LsIM7NzatP4G",
        "wD5PHrmBtP4H",
        "66fECz6DtP4H",
        "TkJ99jJEtP4I",
        "hcXCCiojtP4J",
        "ADqYMnHitP4K",
        "QGN6TEs6tP4L",
        "LfEs_6kxtP4L",
        "NBe0Zs1CtP4M",
        "N2xUMPfb6Nx2",
        "JCQiK6WBx3Ju",
        "yqBsUwIhAqfT",
        "RevbkStStP4P",
        "5E1wBmq6tP4V"
      ]
    }
  },
  "cells": [
    {
      "cell_type": "markdown",
      "metadata": {
        "id": "0a-0tyTftP35"
      },
      "source": [
        "## Covid-19 no Nordeste Brasileiro: análise da Campanha de Vacinação e monitoramento dos casos de Síndrome Respiratória Aguda Grave  \n",
        "\n",
        "**Professor:** Yuri Malheiros  \n",
        "**Alunos:** João Victor Alcoforado de Araújo  \n",
        "&nbsp; &nbsp; &nbsp; &nbsp; &nbsp; &nbsp; &nbsp; Lívia Noêmia Morais Rocha   \n",
        "&nbsp; &nbsp; &nbsp; &nbsp; &nbsp; &nbsp; &nbsp; Matheus Rocha dos Santos Rangel  \n",
        "\n",
        "---"
      ]
    },
    {
      "cell_type": "markdown",
      "metadata": {
        "id": "tqgZYSZttP38"
      },
      "source": [
        "## **1 Introdução**"
      ]
    },
    {
      "cell_type": "markdown",
      "metadata": {
        "id": "ksWW8U9KtP38"
      },
      "source": [
        "O final do ano de 2019 foi marcado pela aparição de um novo coronavírus em Wuhan, China. Por conta da sua rápida disseminação, o surto da síndrome respiratória aguda grave coronavírus 2 (SARS-CoV-2), rapidamente foi declarado como uma pandemia global. \n",
        "\n",
        "O primeiro caso notificado no Brasil foi registrado em 26 de fevereiro, e depois disso o número de casos cresceu rapidamente. Felizmente, através de um árduo trabalho cooperativo da comunidade científica, vacinas foram desenvolvidas e aprovadas para uso completo. No entanto, no Brasil, o fornecimento e distribuição dessas vacinas ainda encontram entraves para atender às necessidades atuais. Considerando a magnitude do problema, ressalta-se a importância de produção de informações e análises que demonstrem as características e perfis epidemiológicos da doença no contexto brasileiro, a fim de auxiliar processos de tomada de decisão.\n",
        "\n",
        "Dessa forma, este estudo tem como objetivo monitorar a evolução dos casos de Síndrome Respiratória Aguda Grave (SRAG), bem como analisar a campanha de vacinação contra Covid-19 no nordeste do Brasil. Para tanto, foram compilados e analisados os dados epidemiológicos da SRAG e campanha de vacinação disponibilizados pelo OpenDatasus (https://opendatasus.saude.gov.br/).\n"
      ]
    },
    {
      "cell_type": "markdown",
      "metadata": {
        "id": "bg7Img6gtP39"
      },
      "source": [
        "## **2 Dados utilizados**"
      ]
    },
    {
      "cell_type": "markdown",
      "metadata": {
        "id": "nje0YnyDtP39"
      },
      "source": [
        "Como dito anteriormente, este é um estudo epidemiológico descritivo, realizado através da utilização de dados extraídos do OpenDatasus, acessíveis online e gratuitamente. O OpenDatasus disponibiliza informações que podem servir para subsidiar análises objetivas da situação sanitária, tomadas de decisão baseadas em evidências e elaboração de programas de ações de saúde. Para realizar as nossas análises, predições e visualizações de dados, utilizamos os conjuntos de dados SRAG 2021 - Banco de Dados de Síndrome Respiratória Aguda Grave e Campanha Nacional de Vacinação Contra Covid-19 (CNVCC)."
      ]
    },
    {
      "cell_type": "markdown",
      "metadata": {
        "id": "32Ki60G-xM6S"
      },
      "source": [
        "### **2.1 SRAG 2021 - Banco de Dados de Síndrome Respiratória Aguda Grave**"
      ]
    },
    {
      "cell_type": "markdown",
      "metadata": {
        "id": "LQf7F2aWxYSl"
      },
      "source": [
        "O banco de dados epidemiológico de SRAG contém informações das fichas de notificação de registro individual para casos de SRAG, incluindo os casos de Covid-19. O dicionário de dados do conjunto de dados pode ser acessado através do seguinte link: Modelo de Casos de Uso (saude.gov.br). O conjunto de dados disponibilizado passa por tratamento que envolve a anonimização, em cumprimento a legislação. Além disso, os dados de 2021 são disponibilizados semanalmente, às quartas-feiras, podendo, excepcionalmente, haver atualização em outro dia. "
      ]
    },
    {
      "cell_type": "markdown",
      "metadata": {
        "id": "ShKoTWikxcP7"
      },
      "source": [
        "### **2.2 Campanha Nacional de Vacinação contra Covid-19**"
      ]
    },
    {
      "cell_type": "markdown",
      "metadata": {
        "id": "hTmG2xrExib9"
      },
      "source": [
        "O conjunto de dados da Campanha Nacional de Vacinação contra Covid-19 contém os registros de vacinação contra Covid-19 contidos na Rede Nacional de Dados em Saúde (RNDS), desde o início da campanha. O dicionário de dados do conjunto de dados pode ser acessado através do seguinte link: Campanha de Vacinação (saude.gov.br). Os dados disponíveis englobam o número de doses aplicadas, por UF e municípios, por um determinado período, por gênero, por faixa etária e por tipo de vacina. "
      ]
    },
    {
      "cell_type": "markdown",
      "metadata": {
        "id": "JpRENnztx65M"
      },
      "source": [
        "## **3 Exploração Inicial dos Dados**"
      ]
    },
    {
      "cell_type": "markdown",
      "metadata": {
        "id": "Gn7gHnIiyDmB"
      },
      "source": [
        "Inicialmente, os conjuntos de dados foram analisados com diferentes métodos de exploração e visualização de dados a fim de fornecer informações ainda mais claras sobre a evolução dos casos de SRAG e o andamento da campanha de vacinação contra Covid-19 no nordeste do Brasil. Ambas as análises foram guiadas por perguntas definidas previamente pelo grupo de trabalho e serão apresentadas a seguir.\n"
      ]
    },
    {
      "cell_type": "markdown",
      "metadata": {
        "id": "XFi_c1P3tP39"
      },
      "source": [
        "#### **Dependências e Configurações Gerais**"
      ]
    },
    {
      "cell_type": "code",
      "metadata": {
        "id": "25pNW5WStP3-"
      },
      "source": [
        "#Dependencias\n",
        "import pandas as pd\n",
        "import numpy as np\n",
        "import seaborn as sns\n",
        "import matplotlib.pyplot as plt\n",
        "from sklearn import metrics     \n",
        "from collections import Counter\n",
        "from sklearn.utils import resample\n",
        "from sklearn.preprocessing import StandardScaler\n",
        "from sklearn.model_selection import train_test_split\n",
        "from sklearn.cluster import KMeans\n",
        "from sklearn.linear_model import LogisticRegression\n",
        "from sklearn.ensemble import RandomForestClassifier\n",
        "from sklearn.tree import DecisionTreeClassifier\n",
        "from sklearn.naive_bayes import GaussianNB\n",
        "from sklearn.ensemble import RandomForestClassifier\n",
        "from sklearn.metrics import confusion_matrix, accuracy_score, classification_report\n",
        "from sklearn.inspection import permutation_importance\n",
        "from sklearn.model_selection import KFold, StratifiedKFold, train_test_split, cross_validate, cross_val_score"
      ],
      "execution_count": null,
      "outputs": []
    },
    {
      "cell_type": "code",
      "metadata": {
        "id": "NPM44iCJtP3-"
      },
      "source": [
        "#Configurações da visualização do DataFrame\n",
        "pd.set_option('max_rows', None)\n",
        "pd.set_option('max_columns', None)\n",
        "pd.set_option('max_colwidth', None)"
      ],
      "execution_count": null,
      "outputs": []
    },
    {
      "cell_type": "markdown",
      "metadata": {
        "id": "q-JhCGlVtP3_"
      },
      "source": [
        "### **3.1 Exploração Inicial - CNVCC**"
      ]
    },
    {
      "cell_type": "markdown",
      "metadata": {
        "id": "_N0zjnqutP3_"
      },
      "source": [
        "#### **Pré-exploração**"
      ]
    },
    {
      "cell_type": "markdown",
      "metadata": {
        "id": "j_Bkx-10tP3_"
      },
      "source": [
        "Antes da exploração inicial, como o dataset é muito grande e demora a ser precessado analisou-se a partir do dicionário de dados quais seriam as features que seriam úteis para a análise pretendida. Posteriormente, os datasets respectivos a campanha nacional de vacinação de cada estado do nordeste brasileiro foram reunidos em um único dataset como segue abaixo."
      ]
    },
    {
      "cell_type": "code",
      "metadata": {
        "id": "eDu8LBbgtP4A"
      },
      "source": [
        "#Acesso local\n",
        "caminho = 'Datasets/CNVCC/'\n",
        "arquivos = os.listdir(caminho)"
      ],
      "execution_count": null,
      "outputs": []
    },
    {
      "cell_type": "markdown",
      "metadata": {
        "id": "7srs54FstP4A"
      },
      "source": [
        "Abaixo seguem as features selecionadas para compor a análise. "
      ]
    },
    {
      "cell_type": "code",
      "metadata": {
        "id": "_HzBzOHJtP4A"
      },
      "source": [
        "#Features selecionadas para compor a analise\n",
        "colunas = ['paciente_id', 'paciente_idade', 'paciente_enumSexoBiologico', \n",
        "           'estabelecimento_uf', 'vacina_categoria_nome', 'vacina_dataAplicacao', \n",
        "           'vacina_descricao_dose', 'vacina_nome']"
      ],
      "execution_count": null,
      "outputs": []
    },
    {
      "cell_type": "code",
      "metadata": {
        "id": "34YqMNEWtP4A"
      },
      "source": [
        "#Reune os datasets dos estados em um único dataset\n",
        "nordeste_cnvcc = pd.read_csv(caminho+arquivos.pop(), usecols=colunas, sep=';')[colunas]\n",
        "\n",
        "for arquivo in arquivos:\n",
        "    estado = pd.read_csv(caminho+arquivo, usecols=colunas, sep=';')[colunas]\n",
        "    nordeste_cnvcc = nordeste_cnvcc.append(estado, ignore_index=True)"
      ],
      "execution_count": null,
      "outputs": []
    },
    {
      "cell_type": "markdown",
      "metadata": {
        "id": "qQ3uqFZQtP4B"
      },
      "source": [
        "Posteriormente, verificou-se que o dataset continha instâncias duplicadas, provavelmente devido a alguma incosistência no banco de dados. Como consequência, instâncias duplicadas foram removidas."
      ]
    },
    {
      "cell_type": "code",
      "metadata": {
        "id": "JI9JcOVJtP4B"
      },
      "source": [
        "#Remove as instancias duplicadas\n",
        "nordeste_cnvcc = nordeste.drop_duplicates()"
      ],
      "execution_count": null,
      "outputs": []
    },
    {
      "cell_type": "markdown",
      "metadata": {
        "id": "ULnGtUM_tP4B"
      },
      "source": [
        "Por fim, o dataset foi exportado para uso posterior. "
      ]
    },
    {
      "cell_type": "code",
      "metadata": {
        "id": "_rUTUhW8tP4B"
      },
      "source": [
        "#Exporta Dataset\n",
        "nordeste_cnvcc.to_csv('Datasets/CNVCC/CNVCC - Nordeste.csv', index=False)"
      ],
      "execution_count": null,
      "outputs": []
    },
    {
      "cell_type": "markdown",
      "metadata": {
        "id": "1hID4ia1tP4B"
      },
      "source": [
        "#### **Inicio da exploração**"
      ]
    },
    {
      "cell_type": "code",
      "metadata": {
        "id": "avr8bVAltP4C"
      },
      "source": [
        "cnvcc = pd.read_csv('Datasets/CNVCC - Nordeste.csv')"
      ],
      "execution_count": null,
      "outputs": []
    },
    {
      "cell_type": "code",
      "metadata": {
        "id": "HaMpHPDFtP4C",
        "outputId": "9e0cc808-3e4a-4373-ee92-8503bfa3a1bc"
      },
      "source": [
        "cnvcc.head()"
      ],
      "execution_count": null,
      "outputs": [
        {
          "output_type": "execute_result",
          "data": {
            "text/html": [
              "<div>\n",
              "<style scoped>\n",
              "    .dataframe tbody tr th:only-of-type {\n",
              "        vertical-align: middle;\n",
              "    }\n",
              "\n",
              "    .dataframe tbody tr th {\n",
              "        vertical-align: top;\n",
              "    }\n",
              "\n",
              "    .dataframe thead th {\n",
              "        text-align: right;\n",
              "    }\n",
              "</style>\n",
              "<table border=\"1\" class=\"dataframe\">\n",
              "  <thead>\n",
              "    <tr style=\"text-align: right;\">\n",
              "      <th></th>\n",
              "      <th>paciente_id</th>\n",
              "      <th>paciente_idade</th>\n",
              "      <th>paciente_enumSexoBiologico</th>\n",
              "      <th>estabelecimento_uf</th>\n",
              "      <th>vacina_categoria_nome</th>\n",
              "      <th>vacina_dataAplicacao</th>\n",
              "      <th>vacina_descricao_dose</th>\n",
              "      <th>vacina_nome</th>\n",
              "    </tr>\n",
              "  </thead>\n",
              "  <tbody>\n",
              "    <tr>\n",
              "      <th>0</th>\n",
              "      <td>6b16f0c5e10a74e22ad7f043d723f475cf6b1f349db2d159965d2b76eee68964</td>\n",
              "      <td>23.0</td>\n",
              "      <td>F</td>\n",
              "      <td>MA</td>\n",
              "      <td>Trabalhadores de Saúde</td>\n",
              "      <td>2021-04-30T03:00:00.000Z</td>\n",
              "      <td>1ª Dose</td>\n",
              "      <td>Vacina Covid-19 - Covishield</td>\n",
              "    </tr>\n",
              "    <tr>\n",
              "      <th>1</th>\n",
              "      <td>d7390505c9f33725adf5af0de73e5924bdd4db1154b3ad9960902207e71dacee</td>\n",
              "      <td>73.0</td>\n",
              "      <td>F</td>\n",
              "      <td>MA</td>\n",
              "      <td>Faixa Etária</td>\n",
              "      <td>2021-03-11T03:00:00.000Z</td>\n",
              "      <td>2ª Dose</td>\n",
              "      <td>Covid-19-Coronavac-Sinovac/Butantan</td>\n",
              "    </tr>\n",
              "    <tr>\n",
              "      <th>2</th>\n",
              "      <td>3aec5e352cba8ad396136966088797ec45e9b29aebd136bb744164da0bffa571</td>\n",
              "      <td>61.0</td>\n",
              "      <td>F</td>\n",
              "      <td>MA</td>\n",
              "      <td>Faixa Etária</td>\n",
              "      <td>2021-04-29T03:00:00.000Z</td>\n",
              "      <td>1ª Dose</td>\n",
              "      <td>Vacina Covid-19 - Covishield</td>\n",
              "    </tr>\n",
              "    <tr>\n",
              "      <th>3</th>\n",
              "      <td>fafb9a784ebdf54d418b37c1b0e0260cf371c16ead72c6cbafff9fd8c196a00e</td>\n",
              "      <td>23.0</td>\n",
              "      <td>F</td>\n",
              "      <td>MA</td>\n",
              "      <td>Povos Indígenas</td>\n",
              "      <td>2021-03-12T03:00:00.000Z</td>\n",
              "      <td>2ª Dose</td>\n",
              "      <td>Covid-19-Coronavac-Sinovac/Butantan</td>\n",
              "    </tr>\n",
              "    <tr>\n",
              "      <th>4</th>\n",
              "      <td>1b518f76d0415ffdb07e65f875db7f6a8a6ec741748375818a635a4182463620</td>\n",
              "      <td>70.0</td>\n",
              "      <td>F</td>\n",
              "      <td>MA</td>\n",
              "      <td>Faixa Etária</td>\n",
              "      <td>2021-04-29T03:00:00.000Z</td>\n",
              "      <td>2ª Dose</td>\n",
              "      <td>Covid-19-Coronavac-Sinovac/Butantan</td>\n",
              "    </tr>\n",
              "  </tbody>\n",
              "</table>\n",
              "</div>"
            ],
            "text/plain": [
              "                                                        paciente_id  \\\n",
              "0  6b16f0c5e10a74e22ad7f043d723f475cf6b1f349db2d159965d2b76eee68964   \n",
              "1  d7390505c9f33725adf5af0de73e5924bdd4db1154b3ad9960902207e71dacee   \n",
              "2  3aec5e352cba8ad396136966088797ec45e9b29aebd136bb744164da0bffa571   \n",
              "3  fafb9a784ebdf54d418b37c1b0e0260cf371c16ead72c6cbafff9fd8c196a00e   \n",
              "4  1b518f76d0415ffdb07e65f875db7f6a8a6ec741748375818a635a4182463620   \n",
              "\n",
              "   paciente_idade paciente_enumSexoBiologico estabelecimento_uf  \\\n",
              "0            23.0                          F                 MA   \n",
              "1            73.0                          F                 MA   \n",
              "2            61.0                          F                 MA   \n",
              "3            23.0                          F                 MA   \n",
              "4            70.0                          F                 MA   \n",
              "\n",
              "    vacina_categoria_nome      vacina_dataAplicacao vacina_descricao_dose  \\\n",
              "0  Trabalhadores de Saúde  2021-04-30T03:00:00.000Z               1ª Dose   \n",
              "1            Faixa Etária  2021-03-11T03:00:00.000Z               2ª Dose   \n",
              "2            Faixa Etária  2021-04-29T03:00:00.000Z               1ª Dose   \n",
              "3         Povos Indígenas  2021-03-12T03:00:00.000Z               2ª Dose   \n",
              "4            Faixa Etária  2021-04-29T03:00:00.000Z               2ª Dose   \n",
              "\n",
              "                           vacina_nome  \n",
              "0         Vacina Covid-19 - Covishield  \n",
              "1  Covid-19-Coronavac-Sinovac/Butantan  \n",
              "2         Vacina Covid-19 - Covishield  \n",
              "3  Covid-19-Coronavac-Sinovac/Butantan  \n",
              "4  Covid-19-Coronavac-Sinovac/Butantan  "
            ]
          },
          "metadata": {
            "tags": []
          },
          "execution_count": 4
        }
      ]
    },
    {
      "cell_type": "markdown",
      "metadata": {
        "id": "Eikm5VzytP4D"
      },
      "source": [
        "#### **Análise de valores nulos**"
      ]
    },
    {
      "cell_type": "markdown",
      "metadata": {
        "id": "mqUzJPEttP4D"
      },
      "source": [
        "Verificou-se que o dataset tem poucos dados ausentes. Entretanto, a feature `vacina_categoria_nome` marece atenção."
      ]
    },
    {
      "cell_type": "code",
      "metadata": {
        "id": "9tFyzeMCtP4D",
        "outputId": "272536ce-db19-457c-c38c-c723523e2284"
      },
      "source": [
        "cnvcc.info(null_counts=True)"
      ],
      "execution_count": null,
      "outputs": [
        {
          "output_type": "stream",
          "text": [
            "<class 'pandas.core.frame.DataFrame'>\n",
            "RangeIndex: 11503873 entries, 0 to 11503872\n",
            "Data columns (total 8 columns):\n",
            " #   Column                      Non-Null Count     Dtype  \n",
            "---  ------                      --------------     -----  \n",
            " 0   paciente_id                 11503872 non-null  object \n",
            " 1   paciente_idade              11503872 non-null  float64\n",
            " 2   paciente_enumSexoBiologico  11503872 non-null  object \n",
            " 3   estabelecimento_uf          11503873 non-null  object \n",
            " 4   vacina_categoria_nome       11445764 non-null  object \n",
            " 5   vacina_dataAplicacao        11503873 non-null  object \n",
            " 6   vacina_descricao_dose       11503873 non-null  object \n",
            " 7   vacina_nome                 11503873 non-null  object \n",
            "dtypes: float64(1), object(7)\n",
            "memory usage: 702.1+ MB\n"
          ],
          "name": "stdout"
        }
      ]
    },
    {
      "cell_type": "markdown",
      "metadata": {
        "id": "LBJdF0eZtP4D"
      },
      "source": [
        "#### **Centralidade, dispersão e boxplot da Idade**"
      ]
    },
    {
      "cell_type": "markdown",
      "metadata": {
        "id": "id_4vTAKtP4D"
      },
      "source": [
        "Verifica-se uma grande variabilidade na idade dos grupos vacinados. No dataset consta muitos pacientes com mais de 120 anos. Além disso, verifica-se a existência de outiliers, pacientes com mais de 130 anos. "
      ]
    },
    {
      "cell_type": "code",
      "metadata": {
        "id": "sH2iSxhptP4E",
        "outputId": "69aeb2ec-2d9b-49cd-b4ab-dd171856fe5a"
      },
      "source": [
        "cnvcc['paciente_idade'].describe()"
      ],
      "execution_count": null,
      "outputs": [
        {
          "output_type": "execute_result",
          "data": {
            "text/plain": [
              "count    1.150387e+07\n",
              "mean     6.441079e+01\n",
              "std      1.692392e+01\n",
              "min      0.000000e+00\n",
              "25%      6.000000e+01\n",
              "50%      6.800000e+01\n",
              "75%      7.500000e+01\n",
              "max      2.210000e+02\n",
              "Name: paciente_idade, dtype: float64"
            ]
          },
          "metadata": {
            "tags": []
          },
          "execution_count": 9
        }
      ]
    },
    {
      "cell_type": "code",
      "metadata": {
        "id": "LzlMqNZRtP4E",
        "outputId": "a2dcba7f-c316-41e9-e4dc-6ceb88d86602"
      },
      "source": [
        "cnvcc.boxplot('paciente_idade')"
      ],
      "execution_count": null,
      "outputs": [
        {
          "output_type": "execute_result",
          "data": {
            "text/plain": [
              "<matplotlib.axes._subplots.AxesSubplot at 0x7fe1f1ed8dd0>"
            ]
          },
          "metadata": {
            "tags": []
          },
          "execution_count": 11
        },
        {
          "output_type": "display_data",
          "data": {
            "image/png": "[encoded data removed]",
            "text/plain": [
              "<Figure size 432x288 with 1 Axes>"
            ]
          },
          "metadata": {
            "tags": [],
            "needs_background": "light"
          }
        }
      ]
    },
    {
      "cell_type": "markdown",
      "metadata": {
        "id": "uJEqLozUtP4E"
      },
      "source": [
        "#### **Frequência de pessoas por quantidade de doses**"
      ]
    },
    {
      "cell_type": "markdown",
      "metadata": {
        "id": "ifpyfdJ5tP4E"
      },
      "source": [
        "Cada paciente possui um id único no dataset. A partir desta exploração verificou-se a existência de pacientes que tomaram mais que duas doses da vacina. Esse resultado pode demonstrar algumas fragilidades no sistema de vacinação, uma vez que permitiu-se o cadastro do mesmo paciente varias vezes no sistema. Por fim, vale ressaltar como evidência desse fato, o caso de um paciente que teoricamente tomou 59 vacinas. "
      ]
    },
    {
      "cell_type": "code",
      "metadata": {
        "id": "gOZdl5T-tP4F",
        "outputId": "a81254f0-f90a-43b9-828f-977efc2ab30a"
      },
      "source": [
        "cnvcc.groupby('paciente_id').size().value_counts(dropna=False)"
      ],
      "execution_count": null,
      "outputs": [
        {
          "output_type": "execute_result",
          "data": {
            "text/plain": [
              "1     4346394\n",
              "2     3420694\n",
              "3       82940\n",
              "4       16564\n",
              "5         179\n",
              "6          10\n",
              "59          1\n",
              "dtype: int64"
            ]
          },
          "metadata": {
            "tags": []
          },
          "execution_count": 13
        }
      ]
    },
    {
      "cell_type": "markdown",
      "metadata": {
        "id": "ODidt8yNtP4F"
      },
      "source": [
        "#### **Frequência de pessoas por sexo biológico**"
      ]
    },
    {
      "cell_type": "code",
      "metadata": {
        "id": "nXrKAuvOtP4F",
        "outputId": "2b60f438-335c-4616-ecc0-afd9f5c76f00"
      },
      "source": [
        "cnvcc['paciente_enumSexoBiologico'].value_counts(dropna=False)"
      ],
      "execution_count": null,
      "outputs": [
        {
          "output_type": "execute_result",
          "data": {
            "text/plain": [
              "F      6730116\n",
              "M      4773746\n",
              "I           10\n",
              "NaN          1\n",
              "Name: paciente_enumSexoBiologico, dtype: int64"
            ]
          },
          "metadata": {
            "tags": []
          },
          "execution_count": 15
        }
      ]
    },
    {
      "cell_type": "markdown",
      "metadata": {
        "id": "TIwr_Gx1tP4F"
      },
      "source": [
        "#### **Frequência de pessoas por categoria de vacinação**"
      ]
    },
    {
      "cell_type": "markdown",
      "metadata": {
        "id": "MyAPeoMutP4F"
      },
      "source": [
        "A exploração abaixo expõe o número de paciente vacinados por grupo prioritário até a data da obtenção do dataset. Vale ressaltar que esta é a feature com mais dados ausentes."
      ]
    },
    {
      "cell_type": "code",
      "metadata": {
        "id": "PZfu102vtP4G",
        "outputId": "fcc1f37b-7969-4789-d491-60dd329f073d"
      },
      "source": [
        "cnvcc['vacina_categoria_nome'].value_counts(sort=True, ascending=False, dropna=False)"
      ],
      "execution_count": null,
      "outputs": [
        {
          "output_type": "execute_result",
          "data": {
            "text/plain": [
              "Faixa Etária                                       7926542\n",
              "Trabalhadores de Saúde                             2608180\n",
              "Povos e Comunidades Tradicionais                    246014\n",
              "Pessoas de 60 anos ou mais institucionalizadas      184401\n",
              "Povos Indígenas                                     166532\n",
              "Comorbidades                                        142096\n",
              "Trabalhadores da Educação                            89597\n",
              "Forças de Segurança e Salvamento                     62946\n",
              "NaN                                                  58109\n",
              "Pessoas com Deficiência                              10142\n",
              "Funcionário do Sistema de Privação de Liberdade       6064\n",
              "Forças Armadas (membros ativos)                       2195\n",
              "Pessoas em Situação de Rua                             435\n",
              "Trabalhadores Portuários                               237\n",
              "População Privada de Liberdade                         202\n",
              "Trabalhadores Industriais                              181\n",
              "Name: vacina_categoria_nome, dtype: int64"
            ]
          },
          "metadata": {
            "tags": []
          },
          "execution_count": 16
        }
      ]
    },
    {
      "cell_type": "markdown",
      "metadata": {
        "id": "aQk5CPEZtP4G"
      },
      "source": [
        "#### **Frequência de pessoas por fabricante de vacina**"
      ]
    },
    {
      "cell_type": "code",
      "metadata": {
        "id": "Re31kWETtP4G",
        "outputId": "b8952a4f-6404-431d-c0b1-9de6eb44870e"
      },
      "source": [
        "cnvcc['vacina_nome'].value_counts(sort=True, ascending=False, dropna=False)"
      ],
      "execution_count": null,
      "outputs": [
        {
          "output_type": "execute_result",
          "data": {
            "text/plain": [
              "Covid-19-Coronavac-Sinovac/Butantan                          8411103\n",
              "Vacina Covid-19 - Covishield                                 2824612\n",
              "Covid-19-AstraZeneca                                          265506\n",
              "Vacina covid-19 - BNT162b2 - BioNTech/Fosun Pharma/Pfizer       2601\n",
              "Vacina covid-19 - Ad26.COV2.S - Janssen-Cilag                     51\n",
              "Name: vacina_nome, dtype: int64"
            ]
          },
          "metadata": {
            "tags": []
          },
          "execution_count": 17
        }
      ]
    },
    {
      "cell_type": "markdown",
      "metadata": {
        "id": "LsIM7NzatP4G"
      },
      "source": [
        "#### **Frequência de vacinados por estado**"
      ]
    },
    {
      "cell_type": "code",
      "metadata": {
        "id": "2ewRoiNCtP4G",
        "outputId": "443f0211-b8e6-4e40-f8e7-b744c32ef51f"
      },
      "source": [
        "cnvcc['estabelecimento_uf'].value_counts(sort=True, ascending=False, dropna=False)"
      ],
      "execution_count": null,
      "outputs": [
        {
          "output_type": "execute_result",
          "data": {
            "text/plain": [
              "BA    3234512\n",
              "PE    1930605\n",
              "CE    1522101\n",
              "MA    1341954\n",
              "PB     993469\n",
              "RN     764167\n",
              "AL     679551\n",
              "PI     643880\n",
              "SE     393634\n",
              "Name: estabelecimento_uf, dtype: int64"
            ]
          },
          "metadata": {
            "tags": []
          },
          "execution_count": 18
        }
      ]
    },
    {
      "cell_type": "markdown",
      "metadata": {
        "id": "wD5PHrmBtP4H"
      },
      "source": [
        "### **3.2 Exploração Inicial - SRAG**"
      ]
    },
    {
      "cell_type": "markdown",
      "metadata": {
        "id": "66fECz6DtP4H"
      },
      "source": [
        "#### **Pré-exploração**"
      ]
    },
    {
      "cell_type": "markdown",
      "metadata": {
        "id": "v2vd57UatP4H"
      },
      "source": [
        "Antes da exploração inicial, analisou-se a partir do dicionário de dados, quais seriam as features que seriam úteis para a análise pretendida. Posteriormente, são mantidos apenas os casos de notificação pertencentes aos estados do nordeste brasileiro. Ademais, para fins de simplficação da análise, os casos sem classificação final, ou seja, sem classificação da doença do paciente foram removidos."
      ]
    },
    {
      "cell_type": "code",
      "metadata": {
        "id": "OneIai8ZtP4H"
      },
      "source": [
        "#Features selecionadas para compor a analise\n",
        "colunas = ['DT_NOTIFIC', 'SEM_NOT', 'DT_SIN_PRI', 'CS_SEXO', 'NU_IDADE_N', 'TP_IDADE',\n",
        "           'SG_UF', 'FEBRE', 'TOSSE', 'GARGANTA', 'DISPNEIA', 'DESC_RESP', 'SATURACAO', \n",
        "           'DIARREIA', 'VOMITO', 'DOR_ABD', 'FADIGA', 'PERD_OLFT', 'PERD_PALA',\n",
        "           'FATOR_RISC', 'PUERPERA', 'CARDIOPATI', 'HEMATOLOGI', 'SIND_DOWN', 'HEPATICA', \n",
        "           'ASMA', 'DIABETES', 'NEUROLOGIC', 'PNEUMOPATI', 'IMUNODEPRE', 'RENAL', \n",
        "           'OBESIDADE', 'HOSPITAL', 'DT_INTERNA', 'UTI', 'DT_ENTUTI', 'DT_SAIDUTI',\n",
        "           'SUPORT_VEN', 'CLASSI_FIN', 'EVOLUCAO', 'DT_EVOLUCA']\n",
        "\n",
        "srag = pd.read_csv('Datasets/SRAG/SRAG - 2021.csv', usecols=colunas)[colunas]"
      ],
      "execution_count": null,
      "outputs": []
    },
    {
      "cell_type": "code",
      "metadata": {
        "id": "Sj89dnshtP4I"
      },
      "source": [
        "#Mantém apenas os casos de notificações pertencentes aos estados do nordeste\n",
        "nordeste = ['AL', 'BA', 'CE', 'MA', 'PB', 'PE', 'PI', 'RN', 'SE']\n",
        "srag = srag[srag['SG_UF'].isin(nordeste)]\n",
        "\n",
        "#Remove casos sem classificação final \n",
        "srag = srag.dropna(subset=['CLASSI_FIN'])"
      ],
      "execution_count": null,
      "outputs": []
    },
    {
      "cell_type": "code",
      "metadata": {
        "id": "NH_TdJmGtP4I"
      },
      "source": [
        "#Exporta Dataset\n",
        "srag.to_csv('Datasets/SRAG/SRAG - Nordeste.csv', index=False)"
      ],
      "execution_count": null,
      "outputs": []
    },
    {
      "cell_type": "markdown",
      "metadata": {
        "id": "TkJ99jJEtP4I"
      },
      "source": [
        "#### **Inicio da exploração**"
      ]
    },
    {
      "cell_type": "code",
      "metadata": {
        "id": "D1UYpqrTtP4I"
      },
      "source": [
        "srag = pd.read_csv('Datasets/SRAG/SRAG - Nordeste.csv')"
      ],
      "execution_count": null,
      "outputs": []
    },
    {
      "cell_type": "code",
      "metadata": {
        "id": "Yik_6pjktP4J",
        "outputId": "2ba36709-5029-4d93-cbaa-d03c093ad08f"
      },
      "source": [
        "srag.head()"
      ],
      "execution_count": null,
      "outputs": [
        {
          "output_type": "execute_result",
          "data": {
            "text/html": [
              "<div>\n",
              "<style scoped>\n",
              "    .dataframe tbody tr th:only-of-type {\n",
              "        vertical-align: middle;\n",
              "    }\n",
              "\n",
              "    .dataframe tbody tr th {\n",
              "        vertical-align: top;\n",
              "    }\n",
              "\n",
              "    .dataframe thead th {\n",
              "        text-align: right;\n",
              "    }\n",
              "</style>\n",
              "<table border=\"1\" class=\"dataframe\">\n",
              "  <thead>\n",
              "    <tr style=\"text-align: right;\">\n",
              "      <th></th>\n",
              "      <th>DT_NOTIFIC</th>\n",
              "      <th>SEM_NOT</th>\n",
              "      <th>DT_SIN_PRI</th>\n",
              "      <th>CS_SEXO</th>\n",
              "      <th>NU_IDADE_N</th>\n",
              "      <th>TP_IDADE</th>\n",
              "      <th>SG_UF</th>\n",
              "      <th>FEBRE</th>\n",
              "      <th>TOSSE</th>\n",
              "      <th>GARGANTA</th>\n",
              "      <th>DISPNEIA</th>\n",
              "      <th>DESC_RESP</th>\n",
              "      <th>SATURACAO</th>\n",
              "      <th>DIARREIA</th>\n",
              "      <th>VOMITO</th>\n",
              "      <th>DOR_ABD</th>\n",
              "      <th>FADIGA</th>\n",
              "      <th>PERD_OLFT</th>\n",
              "      <th>PERD_PALA</th>\n",
              "      <th>FATOR_RISC</th>\n",
              "      <th>PUERPERA</th>\n",
              "      <th>CARDIOPATI</th>\n",
              "      <th>HEMATOLOGI</th>\n",
              "      <th>SIND_DOWN</th>\n",
              "      <th>HEPATICA</th>\n",
              "      <th>ASMA</th>\n",
              "      <th>DIABETES</th>\n",
              "      <th>NEUROLOGIC</th>\n",
              "      <th>PNEUMOPATI</th>\n",
              "      <th>IMUNODEPRE</th>\n",
              "      <th>RENAL</th>\n",
              "      <th>OBESIDADE</th>\n",
              "      <th>HOSPITAL</th>\n",
              "      <th>DT_INTERNA</th>\n",
              "      <th>UTI</th>\n",
              "      <th>DT_ENTUTI</th>\n",
              "      <th>DT_SAIDUTI</th>\n",
              "      <th>SUPORT_VEN</th>\n",
              "      <th>CLASSI_FIN</th>\n",
              "      <th>EVOLUCAO</th>\n",
              "      <th>DT_EVOLUCA</th>\n",
              "    </tr>\n",
              "  </thead>\n",
              "  <tbody>\n",
              "    <tr>\n",
              "      <th>0</th>\n",
              "      <td>06/01/2021</td>\n",
              "      <td>1</td>\n",
              "      <td>03/01/2021</td>\n",
              "      <td>F</td>\n",
              "      <td>80</td>\n",
              "      <td>3</td>\n",
              "      <td>PE</td>\n",
              "      <td>1.0</td>\n",
              "      <td>1.0</td>\n",
              "      <td>NaN</td>\n",
              "      <td>1.0</td>\n",
              "      <td>NaN</td>\n",
              "      <td>1.0</td>\n",
              "      <td>1.0</td>\n",
              "      <td>NaN</td>\n",
              "      <td>NaN</td>\n",
              "      <td>NaN</td>\n",
              "      <td>NaN</td>\n",
              "      <td>NaN</td>\n",
              "      <td>S</td>\n",
              "      <td>NaN</td>\n",
              "      <td>1.0</td>\n",
              "      <td>NaN</td>\n",
              "      <td>NaN</td>\n",
              "      <td>NaN</td>\n",
              "      <td>NaN</td>\n",
              "      <td>NaN</td>\n",
              "      <td>1.0</td>\n",
              "      <td>NaN</td>\n",
              "      <td>NaN</td>\n",
              "      <td>NaN</td>\n",
              "      <td>NaN</td>\n",
              "      <td>1.0</td>\n",
              "      <td>05/01/2021</td>\n",
              "      <td>2.0</td>\n",
              "      <td>NaN</td>\n",
              "      <td>NaN</td>\n",
              "      <td>2.0</td>\n",
              "      <td>5.0</td>\n",
              "      <td>2.0</td>\n",
              "      <td>13/01/2021</td>\n",
              "    </tr>\n",
              "    <tr>\n",
              "      <th>1</th>\n",
              "      <td>08/01/2021</td>\n",
              "      <td>1</td>\n",
              "      <td>04/01/2021</td>\n",
              "      <td>F</td>\n",
              "      <td>1</td>\n",
              "      <td>3</td>\n",
              "      <td>PB</td>\n",
              "      <td>1.0</td>\n",
              "      <td>1.0</td>\n",
              "      <td>2.0</td>\n",
              "      <td>1.0</td>\n",
              "      <td>1.0</td>\n",
              "      <td>2.0</td>\n",
              "      <td>2.0</td>\n",
              "      <td>2.0</td>\n",
              "      <td>2.0</td>\n",
              "      <td>2.0</td>\n",
              "      <td>2.0</td>\n",
              "      <td>2.0</td>\n",
              "      <td>N</td>\n",
              "      <td>NaN</td>\n",
              "      <td>NaN</td>\n",
              "      <td>NaN</td>\n",
              "      <td>NaN</td>\n",
              "      <td>NaN</td>\n",
              "      <td>NaN</td>\n",
              "      <td>NaN</td>\n",
              "      <td>NaN</td>\n",
              "      <td>NaN</td>\n",
              "      <td>NaN</td>\n",
              "      <td>NaN</td>\n",
              "      <td>NaN</td>\n",
              "      <td>1.0</td>\n",
              "      <td>08/01/2021</td>\n",
              "      <td>2.0</td>\n",
              "      <td>NaN</td>\n",
              "      <td>NaN</td>\n",
              "      <td>3.0</td>\n",
              "      <td>5.0</td>\n",
              "      <td>1.0</td>\n",
              "      <td>10/01/2021</td>\n",
              "    </tr>\n",
              "    <tr>\n",
              "      <th>2</th>\n",
              "      <td>11/01/2021</td>\n",
              "      <td>2</td>\n",
              "      <td>05/01/2021</td>\n",
              "      <td>F</td>\n",
              "      <td>68</td>\n",
              "      <td>3</td>\n",
              "      <td>BA</td>\n",
              "      <td>2.0</td>\n",
              "      <td>2.0</td>\n",
              "      <td>2.0</td>\n",
              "      <td>2.0</td>\n",
              "      <td>2.0</td>\n",
              "      <td>2.0</td>\n",
              "      <td>2.0</td>\n",
              "      <td>1.0</td>\n",
              "      <td>2.0</td>\n",
              "      <td>2.0</td>\n",
              "      <td>2.0</td>\n",
              "      <td>2.0</td>\n",
              "      <td>S</td>\n",
              "      <td>2.0</td>\n",
              "      <td>1.0</td>\n",
              "      <td>2.0</td>\n",
              "      <td>2.0</td>\n",
              "      <td>2.0</td>\n",
              "      <td>2.0</td>\n",
              "      <td>1.0</td>\n",
              "      <td>2.0</td>\n",
              "      <td>2.0</td>\n",
              "      <td>2.0</td>\n",
              "      <td>2.0</td>\n",
              "      <td>2.0</td>\n",
              "      <td>1.0</td>\n",
              "      <td>09/01/2021</td>\n",
              "      <td>1.0</td>\n",
              "      <td>09/01/2021</td>\n",
              "      <td>19/01/2021</td>\n",
              "      <td>3.0</td>\n",
              "      <td>4.0</td>\n",
              "      <td>1.0</td>\n",
              "      <td>25/01/2021</td>\n",
              "    </tr>\n",
              "    <tr>\n",
              "      <th>3</th>\n",
              "      <td>14/04/2021</td>\n",
              "      <td>15</td>\n",
              "      <td>12/04/2021</td>\n",
              "      <td>M</td>\n",
              "      <td>87</td>\n",
              "      <td>3</td>\n",
              "      <td>BA</td>\n",
              "      <td>1.0</td>\n",
              "      <td>2.0</td>\n",
              "      <td>2.0</td>\n",
              "      <td>2.0</td>\n",
              "      <td>2.0</td>\n",
              "      <td>2.0</td>\n",
              "      <td>2.0</td>\n",
              "      <td>2.0</td>\n",
              "      <td>2.0</td>\n",
              "      <td>2.0</td>\n",
              "      <td>2.0</td>\n",
              "      <td>2.0</td>\n",
              "      <td>S</td>\n",
              "      <td>2.0</td>\n",
              "      <td>2.0</td>\n",
              "      <td>2.0</td>\n",
              "      <td>2.0</td>\n",
              "      <td>2.0</td>\n",
              "      <td>2.0</td>\n",
              "      <td>2.0</td>\n",
              "      <td>2.0</td>\n",
              "      <td>2.0</td>\n",
              "      <td>1.0</td>\n",
              "      <td>2.0</td>\n",
              "      <td>2.0</td>\n",
              "      <td>1.0</td>\n",
              "      <td>05/04/2021</td>\n",
              "      <td>2.0</td>\n",
              "      <td>NaN</td>\n",
              "      <td>NaN</td>\n",
              "      <td>3.0</td>\n",
              "      <td>4.0</td>\n",
              "      <td>NaN</td>\n",
              "      <td>NaN</td>\n",
              "    </tr>\n",
              "    <tr>\n",
              "      <th>4</th>\n",
              "      <td>03/01/2021</td>\n",
              "      <td>1</td>\n",
              "      <td>03/01/2021</td>\n",
              "      <td>F</td>\n",
              "      <td>54</td>\n",
              "      <td>3</td>\n",
              "      <td>AL</td>\n",
              "      <td>NaN</td>\n",
              "      <td>1.0</td>\n",
              "      <td>NaN</td>\n",
              "      <td>NaN</td>\n",
              "      <td>NaN</td>\n",
              "      <td>1.0</td>\n",
              "      <td>NaN</td>\n",
              "      <td>NaN</td>\n",
              "      <td>NaN</td>\n",
              "      <td>NaN</td>\n",
              "      <td>NaN</td>\n",
              "      <td>NaN</td>\n",
              "      <td>S</td>\n",
              "      <td>NaN</td>\n",
              "      <td>1.0</td>\n",
              "      <td>NaN</td>\n",
              "      <td>NaN</td>\n",
              "      <td>NaN</td>\n",
              "      <td>NaN</td>\n",
              "      <td>1.0</td>\n",
              "      <td>NaN</td>\n",
              "      <td>NaN</td>\n",
              "      <td>NaN</td>\n",
              "      <td>NaN</td>\n",
              "      <td>NaN</td>\n",
              "      <td>1.0</td>\n",
              "      <td>03/01/2021</td>\n",
              "      <td>NaN</td>\n",
              "      <td>NaN</td>\n",
              "      <td>NaN</td>\n",
              "      <td>NaN</td>\n",
              "      <td>5.0</td>\n",
              "      <td>1.0</td>\n",
              "      <td>14/01/2021</td>\n",
              "    </tr>\n",
              "  </tbody>\n",
              "</table>\n",
              "</div>"
            ],
            "text/plain": [
              "   DT_NOTIFIC  SEM_NOT  DT_SIN_PRI CS_SEXO  NU_IDADE_N  TP_IDADE SG_UF  FEBRE  \\\n",
              "0  06/01/2021        1  03/01/2021       F          80         3    PE    1.0   \n",
              "1  08/01/2021        1  04/01/2021       F           1         3    PB    1.0   \n",
              "2  11/01/2021        2  05/01/2021       F          68         3    BA    2.0   \n",
              "3  14/04/2021       15  12/04/2021       M          87         3    BA    1.0   \n",
              "4  03/01/2021        1  03/01/2021       F          54         3    AL    NaN   \n",
              "\n",
              "   TOSSE  GARGANTA  DISPNEIA  DESC_RESP  SATURACAO  DIARREIA  VOMITO  DOR_ABD  \\\n",
              "0    1.0       NaN       1.0        NaN        1.0       1.0     NaN      NaN   \n",
              "1    1.0       2.0       1.0        1.0        2.0       2.0     2.0      2.0   \n",
              "2    2.0       2.0       2.0        2.0        2.0       2.0     1.0      2.0   \n",
              "3    2.0       2.0       2.0        2.0        2.0       2.0     2.0      2.0   \n",
              "4    1.0       NaN       NaN        NaN        1.0       NaN     NaN      NaN   \n",
              "\n",
              "   FADIGA  PERD_OLFT  PERD_PALA FATOR_RISC  PUERPERA  CARDIOPATI  HEMATOLOGI  \\\n",
              "0     NaN        NaN        NaN          S       NaN         1.0         NaN   \n",
              "1     2.0        2.0        2.0          N       NaN         NaN         NaN   \n",
              "2     2.0        2.0        2.0          S       2.0         1.0         2.0   \n",
              "3     2.0        2.0        2.0          S       2.0         2.0         2.0   \n",
              "4     NaN        NaN        NaN          S       NaN         1.0         NaN   \n",
              "\n",
              "   SIND_DOWN  HEPATICA  ASMA  DIABETES  NEUROLOGIC  PNEUMOPATI  IMUNODEPRE  \\\n",
              "0        NaN       NaN   NaN       NaN         1.0         NaN         NaN   \n",
              "1        NaN       NaN   NaN       NaN         NaN         NaN         NaN   \n",
              "2        2.0       2.0   2.0       1.0         2.0         2.0         2.0   \n",
              "3        2.0       2.0   2.0       2.0         2.0         2.0         1.0   \n",
              "4        NaN       NaN   NaN       1.0         NaN         NaN         NaN   \n",
              "\n",
              "   RENAL  OBESIDADE  HOSPITAL  DT_INTERNA  UTI   DT_ENTUTI  DT_SAIDUTI  \\\n",
              "0    NaN        NaN       1.0  05/01/2021  2.0         NaN         NaN   \n",
              "1    NaN        NaN       1.0  08/01/2021  2.0         NaN         NaN   \n",
              "2    2.0        2.0       1.0  09/01/2021  1.0  09/01/2021  19/01/2021   \n",
              "3    2.0        2.0       1.0  05/04/2021  2.0         NaN         NaN   \n",
              "4    NaN        NaN       1.0  03/01/2021  NaN         NaN         NaN   \n",
              "\n",
              "   SUPORT_VEN  CLASSI_FIN  EVOLUCAO  DT_EVOLUCA  \n",
              "0         2.0         5.0       2.0  13/01/2021  \n",
              "1         3.0         5.0       1.0  10/01/2021  \n",
              "2         3.0         4.0       1.0  25/01/2021  \n",
              "3         3.0         4.0       NaN         NaN  \n",
              "4         NaN         5.0       1.0  14/01/2021  "
            ]
          },
          "metadata": {
            "tags": []
          },
          "execution_count": 29
        }
      ]
    },
    {
      "cell_type": "markdown",
      "metadata": {
        "id": "hcXCCiojtP4J"
      },
      "source": [
        "#### **Análise de valores nulos do dataset**"
      ]
    },
    {
      "cell_type": "markdown",
      "metadata": {
        "id": "jFFIcwiLtP4J"
      },
      "source": [
        "Verifica-se que existem muito dados ausentes no dataset. Cada feature será tratada de acordo com seu caso específico para fins de análise.  "
      ]
    },
    {
      "cell_type": "code",
      "metadata": {
        "id": "b1AjGlhMtP4J",
        "outputId": "c1b8f928-e7dc-460b-b592-152363e0a52a"
      },
      "source": [
        "srag.info(null_counts=True)"
      ],
      "execution_count": null,
      "outputs": [
        {
          "output_type": "stream",
          "text": [
            "<class 'pandas.core.frame.DataFrame'>\n",
            "RangeIndex: 95753 entries, 0 to 95752\n",
            "Data columns (total 41 columns):\n",
            " #   Column      Non-Null Count  Dtype  \n",
            "---  ------      --------------  -----  \n",
            " 0   DT_NOTIFIC  95753 non-null  object \n",
            " 1   SEM_NOT     95753 non-null  int64  \n",
            " 2   DT_SIN_PRI  95753 non-null  object \n",
            " 3   CS_SEXO     95753 non-null  object \n",
            " 4   NU_IDADE_N  95753 non-null  int64  \n",
            " 5   TP_IDADE    95753 non-null  int64  \n",
            " 6   SG_UF       95753 non-null  object \n",
            " 7   FEBRE       78031 non-null  float64\n",
            " 8   TOSSE       81576 non-null  float64\n",
            " 9   GARGANTA    59574 non-null  float64\n",
            " 10  DISPNEIA    82321 non-null  float64\n",
            " 11  DESC_RESP   73443 non-null  float64\n",
            " 12  SATURACAO   75394 non-null  float64\n",
            " 13  DIARREIA    58669 non-null  float64\n",
            " 14  VOMITO      57289 non-null  float64\n",
            " 15  DOR_ABD     55784 non-null  float64\n",
            " 16  FADIGA      58060 non-null  float64\n",
            " 17  PERD_OLFT   56935 non-null  float64\n",
            " 18  PERD_PALA   56802 non-null  float64\n",
            " 19  FATOR_RISC  95753 non-null  object \n",
            " 20  PUERPERA    31335 non-null  float64\n",
            " 21  CARDIOPATI  43770 non-null  float64\n",
            " 22  HEMATOLOGI  31352 non-null  float64\n",
            " 23  SIND_DOWN   31247 non-null  float64\n",
            " 24  HEPATICA    31295 non-null  float64\n",
            " 25  ASMA        31657 non-null  float64\n",
            " 26  DIABETES    41127 non-null  float64\n",
            " 27  NEUROLOGIC  32066 non-null  float64\n",
            " 28  PNEUMOPATI  31793 non-null  float64\n",
            " 29  IMUNODEPRE  31569 non-null  float64\n",
            " 30  RENAL       32087 non-null  float64\n",
            " 31  OBESIDADE   33424 non-null  float64\n",
            " 32  HOSPITAL    92217 non-null  float64\n",
            " 33  DT_INTERNA  86809 non-null  object \n",
            " 34  UTI         77187 non-null  float64\n",
            " 35  DT_ENTUTI   29020 non-null  object \n",
            " 36  DT_SAIDUTI  13756 non-null  object \n",
            " 37  SUPORT_VEN  77451 non-null  float64\n",
            " 38  CLASSI_FIN  95753 non-null  float64\n",
            " 39  EVOLUCAO    75685 non-null  float64\n",
            " 40  DT_EVOLUCA  65929 non-null  object \n",
            "dtypes: float64(29), int64(3), object(9)\n",
            "memory usage: 30.0+ MB\n"
          ],
          "name": "stdout"
        }
      ]
    },
    {
      "cell_type": "markdown",
      "metadata": {
        "id": "ADqYMnHitP4K"
      },
      "source": [
        "#### **Centralidade, dispersão e boxplot da Idade**"
      ]
    },
    {
      "cell_type": "markdown",
      "metadata": {
        "id": "RhGVOr3WtP4K"
      },
      "source": [
        "A coluna `NU_IDADE_N`, referente a idade, está atrelada a coluna `TP_IDADE`, que informa se a idade constante refere-se a anos, meses ou dias de vida. Essa representação pode provocar problemas, portanto, precisará ser padronizada. "
      ]
    },
    {
      "cell_type": "code",
      "metadata": {
        "id": "YXlCTdO5tP4K",
        "outputId": "64ba281f-9113-4ac0-9faf-c7873f08dec8"
      },
      "source": [
        "srag['NU_IDADE_N'].describe()"
      ],
      "execution_count": null,
      "outputs": [
        {
          "output_type": "execute_result",
          "data": {
            "text/plain": [
              "count    95753.000000\n",
              "mean        56.656543\n",
              "std         21.328315\n",
              "min          0.000000\n",
              "25%         43.000000\n",
              "50%         59.000000\n",
              "75%         72.000000\n",
              "max        126.000000\n",
              "Name: NU_IDADE_N, dtype: float64"
            ]
          },
          "metadata": {
            "tags": []
          },
          "execution_count": 31
        }
      ]
    },
    {
      "cell_type": "markdown",
      "metadata": {
        "id": "UUSoZ9fX0xfW"
      },
      "source": [
        "O outlier, pode ser explicado pela representação em dias."
      ]
    },
    {
      "cell_type": "code",
      "metadata": {
        "id": "WntiVv_MtP4K",
        "outputId": "84daee17-e642-4f93-86db-2a7974ce9404"
      },
      "source": [
        "srag.boxplot(\"NU_IDADE_N\")"
      ],
      "execution_count": null,
      "outputs": [
        {
          "output_type": "execute_result",
          "data": {
            "text/plain": [
              "<matplotlib.axes._subplots.AxesSubplot at 0x7fe1f07b98d0>"
            ]
          },
          "metadata": {
            "tags": []
          },
          "execution_count": 32
        },
        {
          "output_type": "display_data",
          "data": {
            "image/png": "[encoded data removed]",
            "text/plain": [
              "<Figure size 432x288 with 1 Axes>"
            ]
          },
          "metadata": {
            "tags": [],
            "needs_background": "light"
          }
        }
      ]
    },
    {
      "cell_type": "code",
      "metadata": {
        "scrolled": true,
        "id": "i0e5389btP4K",
        "outputId": "973a485d-1c39-4712-d06e-25bd3cc8db5c"
      },
      "source": [
        "srag[srag['NU_IDADE_N'] == 126]"
      ],
      "execution_count": null,
      "outputs": [
        {
          "output_type": "execute_result",
          "data": {
            "text/html": [
              "<div>\n",
              "<style scoped>\n",
              "    .dataframe tbody tr th:only-of-type {\n",
              "        vertical-align: middle;\n",
              "    }\n",
              "\n",
              "    .dataframe tbody tr th {\n",
              "        vertical-align: top;\n",
              "    }\n",
              "\n",
              "    .dataframe thead th {\n",
              "        text-align: right;\n",
              "    }\n",
              "</style>\n",
              "<table border=\"1\" class=\"dataframe\">\n",
              "  <thead>\n",
              "    <tr style=\"text-align: right;\">\n",
              "      <th></th>\n",
              "      <th>DT_NOTIFIC</th>\n",
              "      <th>SEM_NOT</th>\n",
              "      <th>DT_SIN_PRI</th>\n",
              "      <th>CS_SEXO</th>\n",
              "      <th>NU_IDADE_N</th>\n",
              "      <th>TP_IDADE</th>\n",
              "      <th>SG_UF</th>\n",
              "      <th>FEBRE</th>\n",
              "      <th>TOSSE</th>\n",
              "      <th>GARGANTA</th>\n",
              "      <th>DISPNEIA</th>\n",
              "      <th>DESC_RESP</th>\n",
              "      <th>SATURACAO</th>\n",
              "      <th>DIARREIA</th>\n",
              "      <th>VOMITO</th>\n",
              "      <th>DOR_ABD</th>\n",
              "      <th>FADIGA</th>\n",
              "      <th>PERD_OLFT</th>\n",
              "      <th>PERD_PALA</th>\n",
              "      <th>FATOR_RISC</th>\n",
              "      <th>PUERPERA</th>\n",
              "      <th>CARDIOPATI</th>\n",
              "      <th>HEMATOLOGI</th>\n",
              "      <th>SIND_DOWN</th>\n",
              "      <th>HEPATICA</th>\n",
              "      <th>ASMA</th>\n",
              "      <th>DIABETES</th>\n",
              "      <th>NEUROLOGIC</th>\n",
              "      <th>PNEUMOPATI</th>\n",
              "      <th>IMUNODEPRE</th>\n",
              "      <th>RENAL</th>\n",
              "      <th>OBESIDADE</th>\n",
              "      <th>HOSPITAL</th>\n",
              "      <th>DT_INTERNA</th>\n",
              "      <th>UTI</th>\n",
              "      <th>DT_ENTUTI</th>\n",
              "      <th>DT_SAIDUTI</th>\n",
              "      <th>SUPORT_VEN</th>\n",
              "      <th>CLASSI_FIN</th>\n",
              "      <th>EVOLUCAO</th>\n",
              "      <th>DT_EVOLUCA</th>\n",
              "    </tr>\n",
              "  </thead>\n",
              "  <tbody>\n",
              "    <tr>\n",
              "      <th>21662</th>\n",
              "      <td>14/03/2021</td>\n",
              "      <td>11</td>\n",
              "      <td>06/03/2021</td>\n",
              "      <td>F</td>\n",
              "      <td>126</td>\n",
              "      <td>3</td>\n",
              "      <td>PI</td>\n",
              "      <td>1.0</td>\n",
              "      <td>1.0</td>\n",
              "      <td>2.0</td>\n",
              "      <td>2.0</td>\n",
              "      <td>1.0</td>\n",
              "      <td>2.0</td>\n",
              "      <td>2.0</td>\n",
              "      <td>2.0</td>\n",
              "      <td>2.0</td>\n",
              "      <td>2.0</td>\n",
              "      <td>2.0</td>\n",
              "      <td>2.0</td>\n",
              "      <td>N</td>\n",
              "      <td>NaN</td>\n",
              "      <td>NaN</td>\n",
              "      <td>NaN</td>\n",
              "      <td>NaN</td>\n",
              "      <td>NaN</td>\n",
              "      <td>NaN</td>\n",
              "      <td>NaN</td>\n",
              "      <td>NaN</td>\n",
              "      <td>NaN</td>\n",
              "      <td>NaN</td>\n",
              "      <td>NaN</td>\n",
              "      <td>NaN</td>\n",
              "      <td>1.0</td>\n",
              "      <td>14/03/2021</td>\n",
              "      <td>2.0</td>\n",
              "      <td>NaN</td>\n",
              "      <td>NaN</td>\n",
              "      <td>3.0</td>\n",
              "      <td>5.0</td>\n",
              "      <td>1.0</td>\n",
              "      <td>15/03/2021</td>\n",
              "    </tr>\n",
              "  </tbody>\n",
              "</table>\n",
              "</div>"
            ],
            "text/plain": [
              "       DT_NOTIFIC  SEM_NOT  DT_SIN_PRI CS_SEXO  NU_IDADE_N  TP_IDADE SG_UF  \\\n",
              "21662  14/03/2021       11  06/03/2021       F         126         3    PI   \n",
              "\n",
              "       FEBRE  TOSSE  GARGANTA  DISPNEIA  DESC_RESP  SATURACAO  DIARREIA  \\\n",
              "21662    1.0    1.0       2.0       2.0        1.0        2.0       2.0   \n",
              "\n",
              "       VOMITO  DOR_ABD  FADIGA  PERD_OLFT  PERD_PALA FATOR_RISC  PUERPERA  \\\n",
              "21662     2.0      2.0     2.0        2.0        2.0          N       NaN   \n",
              "\n",
              "       CARDIOPATI  HEMATOLOGI  SIND_DOWN  HEPATICA  ASMA  DIABETES  \\\n",
              "21662         NaN         NaN        NaN       NaN   NaN       NaN   \n",
              "\n",
              "       NEUROLOGIC  PNEUMOPATI  IMUNODEPRE  RENAL  OBESIDADE  HOSPITAL  \\\n",
              "21662         NaN         NaN         NaN    NaN        NaN       1.0   \n",
              "\n",
              "       DT_INTERNA  UTI DT_ENTUTI DT_SAIDUTI  SUPORT_VEN  CLASSI_FIN  EVOLUCAO  \\\n",
              "21662  14/03/2021  2.0       NaN        NaN         3.0         5.0       1.0   \n",
              "\n",
              "       DT_EVOLUCA  \n",
              "21662  15/03/2021  "
            ]
          },
          "metadata": {
            "tags": []
          },
          "execution_count": 35
        }
      ]
    },
    {
      "cell_type": "markdown",
      "metadata": {
        "id": "QGN6TEs6tP4L"
      },
      "source": [
        "#### **Análise de validade dos anos das datas registradas**"
      ]
    },
    {
      "cell_type": "markdown",
      "metadata": {
        "id": "-pleqVdFtP4L"
      },
      "source": [
        "Verificou-se muitas datas de notificação nulas ou escritas erradas. Esses casos serão tratados na etapa de pré-processamento. "
      ]
    },
    {
      "cell_type": "code",
      "metadata": {
        "id": "oCg9d93dtP4L",
        "outputId": "32c5514f-8ad5-4908-affa-c05954c7a02e"
      },
      "source": [
        "colunas_datatime = ['DT_NOTIFIC', 'DT_SIN_PRI', 'DT_INTERNA', 'DT_ENTUTI', 'DT_SAIDUTI', 'DT_EVOLUCA']\n",
        "\n",
        "for column in colunas_datatime:\n",
        "    print(column, srag[column].str[6:10].unique())"
      ],
      "execution_count": null,
      "outputs": [
        {
          "output_type": "stream",
          "text": [
            "DT_NOTIFIC ['2021']\n",
            "DT_SIN_PRI ['2021']\n",
            "DT_INTERNA ['2021' nan '2020' '3202' '2019']\n",
            "DT_ENTUTI [nan '2021' '2020' '2202' '2022' '2024']\n",
            "DT_SAIDUTI [nan '2021' '2020']\n",
            "DT_EVOLUCA ['2021' nan]\n"
          ],
          "name": "stdout"
        }
      ]
    },
    {
      "cell_type": "markdown",
      "metadata": {
        "id": "LfEs_6kxtP4L"
      },
      "source": [
        "#### **Analise preliminar dos tempo de internção e UTI**"
      ]
    },
    {
      "cell_type": "code",
      "metadata": {
        "id": "lnXnUPgmtP4L"
      },
      "source": [
        "#Transformação de dados para análise dos tempos de internação e UTI\n",
        "colunas_datatime = ['DT_NOTIFIC', 'DT_SIN_PRI', 'DT_INTERNA', 'DT_ENTUTI', 'DT_SAIDUTI', 'DT_EVOLUCA']\n",
        "\n",
        "for coluna in colunas_datatime:\n",
        "    srag[coluna] = pd.to_datetime(srag[coluna], errors=\"coerce\", dayfirst=True)"
      ],
      "execution_count": null,
      "outputs": []
    },
    {
      "cell_type": "code",
      "metadata": {
        "id": "cSipnOXBtP4L"
      },
      "source": [
        "#Criacao das colunas tempo de internação e UTI\n",
        "srag[\"TEMPO_INTER\"] = ((srag[\"DT_EVOLUCA\"] - srag[\"DT_INTERNA\"]).dt.days).astype(\"Int64\")\n",
        "srag[\"TEMPO_UTI\"] = ((srag[\"DT_SAIDUTI\"] - srag[\"DT_ENTUTI\"]).dt.days).astype(\"Int64\")"
      ],
      "execution_count": null,
      "outputs": []
    },
    {
      "cell_type": "code",
      "metadata": {
        "id": "-uQOZSnCtP4M",
        "outputId": "ca27d518-6721-4576-e235-26d8ce8cd03f"
      },
      "source": [
        "srag.head()"
      ],
      "execution_count": null,
      "outputs": [
        {
          "output_type": "execute_result",
          "data": {
            "text/html": [
              "<div>\n",
              "<style scoped>\n",
              "    .dataframe tbody tr th:only-of-type {\n",
              "        vertical-align: middle;\n",
              "    }\n",
              "\n",
              "    .dataframe tbody tr th {\n",
              "        vertical-align: top;\n",
              "    }\n",
              "\n",
              "    .dataframe thead th {\n",
              "        text-align: right;\n",
              "    }\n",
              "</style>\n",
              "<table border=\"1\" class=\"dataframe\">\n",
              "  <thead>\n",
              "    <tr style=\"text-align: right;\">\n",
              "      <th></th>\n",
              "      <th>DT_NOTIFIC</th>\n",
              "      <th>SEM_NOT</th>\n",
              "      <th>DT_SIN_PRI</th>\n",
              "      <th>CS_SEXO</th>\n",
              "      <th>NU_IDADE_N</th>\n",
              "      <th>TP_IDADE</th>\n",
              "      <th>SG_UF</th>\n",
              "      <th>FEBRE</th>\n",
              "      <th>TOSSE</th>\n",
              "      <th>GARGANTA</th>\n",
              "      <th>DISPNEIA</th>\n",
              "      <th>DESC_RESP</th>\n",
              "      <th>SATURACAO</th>\n",
              "      <th>DIARREIA</th>\n",
              "      <th>VOMITO</th>\n",
              "      <th>DOR_ABD</th>\n",
              "      <th>FADIGA</th>\n",
              "      <th>PERD_OLFT</th>\n",
              "      <th>PERD_PALA</th>\n",
              "      <th>FATOR_RISC</th>\n",
              "      <th>PUERPERA</th>\n",
              "      <th>CARDIOPATI</th>\n",
              "      <th>HEMATOLOGI</th>\n",
              "      <th>SIND_DOWN</th>\n",
              "      <th>HEPATICA</th>\n",
              "      <th>ASMA</th>\n",
              "      <th>DIABETES</th>\n",
              "      <th>NEUROLOGIC</th>\n",
              "      <th>PNEUMOPATI</th>\n",
              "      <th>IMUNODEPRE</th>\n",
              "      <th>RENAL</th>\n",
              "      <th>OBESIDADE</th>\n",
              "      <th>HOSPITAL</th>\n",
              "      <th>DT_INTERNA</th>\n",
              "      <th>UTI</th>\n",
              "      <th>DT_ENTUTI</th>\n",
              "      <th>DT_SAIDUTI</th>\n",
              "      <th>SUPORT_VEN</th>\n",
              "      <th>CLASSI_FIN</th>\n",
              "      <th>EVOLUCAO</th>\n",
              "      <th>DT_EVOLUCA</th>\n",
              "      <th>TEMPO_INTER</th>\n",
              "      <th>TEMPO_UTI</th>\n",
              "    </tr>\n",
              "  </thead>\n",
              "  <tbody>\n",
              "    <tr>\n",
              "      <th>0</th>\n",
              "      <td>2021-01-06</td>\n",
              "      <td>1</td>\n",
              "      <td>2021-01-03</td>\n",
              "      <td>F</td>\n",
              "      <td>80</td>\n",
              "      <td>3</td>\n",
              "      <td>PE</td>\n",
              "      <td>1.0</td>\n",
              "      <td>1.0</td>\n",
              "      <td>NaN</td>\n",
              "      <td>1.0</td>\n",
              "      <td>NaN</td>\n",
              "      <td>1.0</td>\n",
              "      <td>1.0</td>\n",
              "      <td>NaN</td>\n",
              "      <td>NaN</td>\n",
              "      <td>NaN</td>\n",
              "      <td>NaN</td>\n",
              "      <td>NaN</td>\n",
              "      <td>S</td>\n",
              "      <td>NaN</td>\n",
              "      <td>1.0</td>\n",
              "      <td>NaN</td>\n",
              "      <td>NaN</td>\n",
              "      <td>NaN</td>\n",
              "      <td>NaN</td>\n",
              "      <td>NaN</td>\n",
              "      <td>1.0</td>\n",
              "      <td>NaN</td>\n",
              "      <td>NaN</td>\n",
              "      <td>NaN</td>\n",
              "      <td>NaN</td>\n",
              "      <td>1.0</td>\n",
              "      <td>2021-01-05</td>\n",
              "      <td>2.0</td>\n",
              "      <td>NaT</td>\n",
              "      <td>NaT</td>\n",
              "      <td>2.0</td>\n",
              "      <td>5.0</td>\n",
              "      <td>2.0</td>\n",
              "      <td>2021-01-13</td>\n",
              "      <td>8</td>\n",
              "      <td>&lt;NA&gt;</td>\n",
              "    </tr>\n",
              "    <tr>\n",
              "      <th>1</th>\n",
              "      <td>2021-01-08</td>\n",
              "      <td>1</td>\n",
              "      <td>2021-01-04</td>\n",
              "      <td>F</td>\n",
              "      <td>1</td>\n",
              "      <td>3</td>\n",
              "      <td>PB</td>\n",
              "      <td>1.0</td>\n",
              "      <td>1.0</td>\n",
              "      <td>2.0</td>\n",
              "      <td>1.0</td>\n",
              "      <td>1.0</td>\n",
              "      <td>2.0</td>\n",
              "      <td>2.0</td>\n",
              "      <td>2.0</td>\n",
              "      <td>2.0</td>\n",
              "      <td>2.0</td>\n",
              "      <td>2.0</td>\n",
              "      <td>2.0</td>\n",
              "      <td>N</td>\n",
              "      <td>NaN</td>\n",
              "      <td>NaN</td>\n",
              "      <td>NaN</td>\n",
              "      <td>NaN</td>\n",
              "      <td>NaN</td>\n",
              "      <td>NaN</td>\n",
              "      <td>NaN</td>\n",
              "      <td>NaN</td>\n",
              "      <td>NaN</td>\n",
              "      <td>NaN</td>\n",
              "      <td>NaN</td>\n",
              "      <td>NaN</td>\n",
              "      <td>1.0</td>\n",
              "      <td>2021-01-08</td>\n",
              "      <td>2.0</td>\n",
              "      <td>NaT</td>\n",
              "      <td>NaT</td>\n",
              "      <td>3.0</td>\n",
              "      <td>5.0</td>\n",
              "      <td>1.0</td>\n",
              "      <td>2021-01-10</td>\n",
              "      <td>2</td>\n",
              "      <td>&lt;NA&gt;</td>\n",
              "    </tr>\n",
              "    <tr>\n",
              "      <th>2</th>\n",
              "      <td>2021-01-11</td>\n",
              "      <td>2</td>\n",
              "      <td>2021-01-05</td>\n",
              "      <td>F</td>\n",
              "      <td>68</td>\n",
              "      <td>3</td>\n",
              "      <td>BA</td>\n",
              "      <td>2.0</td>\n",
              "      <td>2.0</td>\n",
              "      <td>2.0</td>\n",
              "      <td>2.0</td>\n",
              "      <td>2.0</td>\n",
              "      <td>2.0</td>\n",
              "      <td>2.0</td>\n",
              "      <td>1.0</td>\n",
              "      <td>2.0</td>\n",
              "      <td>2.0</td>\n",
              "      <td>2.0</td>\n",
              "      <td>2.0</td>\n",
              "      <td>S</td>\n",
              "      <td>2.0</td>\n",
              "      <td>1.0</td>\n",
              "      <td>2.0</td>\n",
              "      <td>2.0</td>\n",
              "      <td>2.0</td>\n",
              "      <td>2.0</td>\n",
              "      <td>1.0</td>\n",
              "      <td>2.0</td>\n",
              "      <td>2.0</td>\n",
              "      <td>2.0</td>\n",
              "      <td>2.0</td>\n",
              "      <td>2.0</td>\n",
              "      <td>1.0</td>\n",
              "      <td>2021-01-09</td>\n",
              "      <td>1.0</td>\n",
              "      <td>2021-01-09</td>\n",
              "      <td>2021-01-19</td>\n",
              "      <td>3.0</td>\n",
              "      <td>4.0</td>\n",
              "      <td>1.0</td>\n",
              "      <td>2021-01-25</td>\n",
              "      <td>16</td>\n",
              "      <td>10</td>\n",
              "    </tr>\n",
              "    <tr>\n",
              "      <th>3</th>\n",
              "      <td>2021-04-14</td>\n",
              "      <td>15</td>\n",
              "      <td>2021-04-12</td>\n",
              "      <td>M</td>\n",
              "      <td>87</td>\n",
              "      <td>3</td>\n",
              "      <td>BA</td>\n",
              "      <td>1.0</td>\n",
              "      <td>2.0</td>\n",
              "      <td>2.0</td>\n",
              "      <td>2.0</td>\n",
              "      <td>2.0</td>\n",
              "      <td>2.0</td>\n",
              "      <td>2.0</td>\n",
              "      <td>2.0</td>\n",
              "      <td>2.0</td>\n",
              "      <td>2.0</td>\n",
              "      <td>2.0</td>\n",
              "      <td>2.0</td>\n",
              "      <td>S</td>\n",
              "      <td>2.0</td>\n",
              "      <td>2.0</td>\n",
              "      <td>2.0</td>\n",
              "      <td>2.0</td>\n",
              "      <td>2.0</td>\n",
              "      <td>2.0</td>\n",
              "      <td>2.0</td>\n",
              "      <td>2.0</td>\n",
              "      <td>2.0</td>\n",
              "      <td>1.0</td>\n",
              "      <td>2.0</td>\n",
              "      <td>2.0</td>\n",
              "      <td>1.0</td>\n",
              "      <td>2021-04-05</td>\n",
              "      <td>2.0</td>\n",
              "      <td>NaT</td>\n",
              "      <td>NaT</td>\n",
              "      <td>3.0</td>\n",
              "      <td>4.0</td>\n",
              "      <td>NaN</td>\n",
              "      <td>NaT</td>\n",
              "      <td>&lt;NA&gt;</td>\n",
              "      <td>&lt;NA&gt;</td>\n",
              "    </tr>\n",
              "    <tr>\n",
              "      <th>4</th>\n",
              "      <td>2021-01-03</td>\n",
              "      <td>1</td>\n",
              "      <td>2021-01-03</td>\n",
              "      <td>F</td>\n",
              "      <td>54</td>\n",
              "      <td>3</td>\n",
              "      <td>AL</td>\n",
              "      <td>NaN</td>\n",
              "      <td>1.0</td>\n",
              "      <td>NaN</td>\n",
              "      <td>NaN</td>\n",
              "      <td>NaN</td>\n",
              "      <td>1.0</td>\n",
              "      <td>NaN</td>\n",
              "      <td>NaN</td>\n",
              "      <td>NaN</td>\n",
              "      <td>NaN</td>\n",
              "      <td>NaN</td>\n",
              "      <td>NaN</td>\n",
              "      <td>S</td>\n",
              "      <td>NaN</td>\n",
              "      <td>1.0</td>\n",
              "      <td>NaN</td>\n",
              "      <td>NaN</td>\n",
              "      <td>NaN</td>\n",
              "      <td>NaN</td>\n",
              "      <td>1.0</td>\n",
              "      <td>NaN</td>\n",
              "      <td>NaN</td>\n",
              "      <td>NaN</td>\n",
              "      <td>NaN</td>\n",
              "      <td>NaN</td>\n",
              "      <td>1.0</td>\n",
              "      <td>2021-01-03</td>\n",
              "      <td>NaN</td>\n",
              "      <td>NaT</td>\n",
              "      <td>NaT</td>\n",
              "      <td>NaN</td>\n",
              "      <td>5.0</td>\n",
              "      <td>1.0</td>\n",
              "      <td>2021-01-14</td>\n",
              "      <td>11</td>\n",
              "      <td>&lt;NA&gt;</td>\n",
              "    </tr>\n",
              "  </tbody>\n",
              "</table>\n",
              "</div>"
            ],
            "text/plain": [
              "  DT_NOTIFIC  SEM_NOT DT_SIN_PRI CS_SEXO  NU_IDADE_N  TP_IDADE SG_UF  FEBRE  \\\n",
              "0 2021-01-06        1 2021-01-03       F          80         3    PE    1.0   \n",
              "1 2021-01-08        1 2021-01-04       F           1         3    PB    1.0   \n",
              "2 2021-01-11        2 2021-01-05       F          68         3    BA    2.0   \n",
              "3 2021-04-14       15 2021-04-12       M          87         3    BA    1.0   \n",
              "4 2021-01-03        1 2021-01-03       F          54         3    AL    NaN   \n",
              "\n",
              "   TOSSE  GARGANTA  DISPNEIA  DESC_RESP  SATURACAO  DIARREIA  VOMITO  DOR_ABD  \\\n",
              "0    1.0       NaN       1.0        NaN        1.0       1.0     NaN      NaN   \n",
              "1    1.0       2.0       1.0        1.0        2.0       2.0     2.0      2.0   \n",
              "2    2.0       2.0       2.0        2.0        2.0       2.0     1.0      2.0   \n",
              "3    2.0       2.0       2.0        2.0        2.0       2.0     2.0      2.0   \n",
              "4    1.0       NaN       NaN        NaN        1.0       NaN     NaN      NaN   \n",
              "\n",
              "   FADIGA  PERD_OLFT  PERD_PALA FATOR_RISC  PUERPERA  CARDIOPATI  HEMATOLOGI  \\\n",
              "0     NaN        NaN        NaN          S       NaN         1.0         NaN   \n",
              "1     2.0        2.0        2.0          N       NaN         NaN         NaN   \n",
              "2     2.0        2.0        2.0          S       2.0         1.0         2.0   \n",
              "3     2.0        2.0        2.0          S       2.0         2.0         2.0   \n",
              "4     NaN        NaN        NaN          S       NaN         1.0         NaN   \n",
              "\n",
              "   SIND_DOWN  HEPATICA  ASMA  DIABETES  NEUROLOGIC  PNEUMOPATI  IMUNODEPRE  \\\n",
              "0        NaN       NaN   NaN       NaN         1.0         NaN         NaN   \n",
              "1        NaN       NaN   NaN       NaN         NaN         NaN         NaN   \n",
              "2        2.0       2.0   2.0       1.0         2.0         2.0         2.0   \n",
              "3        2.0       2.0   2.0       2.0         2.0         2.0         1.0   \n",
              "4        NaN       NaN   NaN       1.0         NaN         NaN         NaN   \n",
              "\n",
              "   RENAL  OBESIDADE  HOSPITAL DT_INTERNA  UTI  DT_ENTUTI DT_SAIDUTI  \\\n",
              "0    NaN        NaN       1.0 2021-01-05  2.0        NaT        NaT   \n",
              "1    NaN        NaN       1.0 2021-01-08  2.0        NaT        NaT   \n",
              "2    2.0        2.0       1.0 2021-01-09  1.0 2021-01-09 2021-01-19   \n",
              "3    2.0        2.0       1.0 2021-04-05  2.0        NaT        NaT   \n",
              "4    NaN        NaN       1.0 2021-01-03  NaN        NaT        NaT   \n",
              "\n",
              "   SUPORT_VEN  CLASSI_FIN  EVOLUCAO DT_EVOLUCA  TEMPO_INTER  TEMPO_UTI  \n",
              "0         2.0         5.0       2.0 2021-01-13            8       <NA>  \n",
              "1         3.0         5.0       1.0 2021-01-10            2       <NA>  \n",
              "2         3.0         4.0       1.0 2021-01-25           16         10  \n",
              "3         3.0         4.0       NaN        NaT         <NA>       <NA>  \n",
              "4         NaN         5.0       1.0 2021-01-14           11       <NA>  "
            ]
          },
          "metadata": {
            "tags": []
          },
          "execution_count": 42
        }
      ]
    },
    {
      "cell_type": "markdown",
      "metadata": {
        "id": "NBe0Zs1CtP4M"
      },
      "source": [
        "#### **Analise de valores nulos do tempo de internação e UTI**"
      ]
    },
    {
      "cell_type": "markdown",
      "metadata": {
        "id": "-6OaxGZptP4M"
      },
      "source": [
        "Os valores nulos apresentados abrangem dois casos: (i) a notificação consta que o paciente não precisou de internação ou (ii) o paciente continua internado. Esses casos ocorrem quando ambas as datas de entradas e saida são nulas, ou existe data de entradas, mas não data de saída. "
      ]
    },
    {
      "cell_type": "code",
      "metadata": {
        "id": "uifRbJ7ztP4M",
        "outputId": "452514a8-835b-4af6-c934-5a9e261b8963"
      },
      "source": [
        "srag[['TEMPO_INTER', 'TEMPO_UTI']].info(null_counts=True)"
      ],
      "execution_count": null,
      "outputs": [
        {
          "output_type": "stream",
          "text": [
            "<class 'pandas.core.frame.DataFrame'>\n",
            "RangeIndex: 95753 entries, 0 to 95752\n",
            "Data columns (total 2 columns):\n",
            " #   Column       Non-Null Count  Dtype\n",
            "---  ------       --------------  -----\n",
            " 0   TEMPO_INTER  60505 non-null  Int64\n",
            " 1   TEMPO_UTI    13713 non-null  Int64\n",
            "dtypes: Int64(2)\n",
            "memory usage: 1.6 MB\n"
          ],
          "name": "stdout"
        }
      ]
    },
    {
      "cell_type": "markdown",
      "metadata": {
        "id": "N2xUMPfb6Nx2"
      },
      "source": [
        "#### **Centralidade, dispersão e boxplot do tempo de internação**"
      ]
    },
    {
      "cell_type": "markdown",
      "metadata": {
        "id": "_HPdc0cjtP4N"
      },
      "source": [
        "Verifica-se que o tempo de internação apresenta uma grande dispersão e presença de outliers. Apesar disso, 50% do dados mais centrais apresentam pouca dispersão e 75% permancem internados em um intervalo de 0 à 12 dias."
      ]
    },
    {
      "cell_type": "code",
      "metadata": {
        "colab": {
          "base_uri": "https://localhost:8080/"
        },
        "id": "7jOb8Zv3z60n",
        "scrolled": true,
        "outputId": "168d0eee-1ef7-43c9-e0bf-3fead4fa6470"
      },
      "source": [
        "srag[\"TEMPO_INTER\"].describe()"
      ],
      "execution_count": null,
      "outputs": [
        {
          "output_type": "execute_result",
          "data": {
            "text/plain": [
              "count    60505.000000\n",
              "mean         9.347723\n",
              "std          9.228326\n",
              "min          0.000000\n",
              "25%          4.000000\n",
              "50%          7.000000\n",
              "75%         12.000000\n",
              "max        379.000000\n",
              "Name: TEMPO_INTER, dtype: float64"
            ]
          },
          "metadata": {
            "tags": []
          },
          "execution_count": 47
        }
      ]
    },
    {
      "cell_type": "code",
      "metadata": {
        "colab": {
          "base_uri": "https://localhost:8080/",
          "height": 283
        },
        "id": "Qgn79a6Fx3Jt",
        "scrolled": true,
        "outputId": "fabc68cf-45cd-4692-dc91-5e387c52958a"
      },
      "source": [
        "srag.boxplot(\"TEMPO_INTER\")"
      ],
      "execution_count": null,
      "outputs": [
        {
          "output_type": "execute_result",
          "data": {
            "text/plain": [
              "<matplotlib.axes._subplots.AxesSubplot at 0x7fe1f0015690>"
            ]
          },
          "metadata": {
            "tags": []
          },
          "execution_count": 48
        },
        {
          "output_type": "display_data",
          "data": {
            "image/png": "[encoded data removed]",
            "text/plain": [
              "<Figure size 432x288 with 1 Axes>"
            ]
          },
          "metadata": {
            "tags": [],
            "needs_background": "light"
          }
        }
      ]
    },
    {
      "cell_type": "markdown",
      "metadata": {
        "id": "JCQiK6WBx3Ju"
      },
      "source": [
        "#### **Centralidade, dispersão e boxplot do tempo de UTI**"
      ]
    },
    {
      "cell_type": "markdown",
      "metadata": {
        "id": "Uf5fzvNttP4N"
      },
      "source": [
        "O tempo de UTI é similar ao tempo de internação, mas apresenta menos outliers. Além disso, sua mediana é uma unidade menor, o que indica que pessoas passam ligeiramente menos tempo na UTI."
      ]
    },
    {
      "cell_type": "code",
      "metadata": {
        "colab": {
          "base_uri": "https://localhost:8080/"
        },
        "id": "Ss-I-cru0NQY",
        "outputId": "eb8bfde9-2650-484b-fe6f-329afe147b75"
      },
      "source": [
        "srag[\"TEMPO_UTI\"].describe()"
      ],
      "execution_count": null,
      "outputs": [
        {
          "output_type": "execute_result",
          "data": {
            "text/plain": [
              "count    13713.000000\n",
              "mean         8.817400\n",
              "std          8.705378\n",
              "min          0.000000\n",
              "25%          3.000000\n",
              "50%          6.000000\n",
              "75%         12.000000\n",
              "max        115.000000\n",
              "Name: TEMPO_UTI, dtype: float64"
            ]
          },
          "metadata": {
            "tags": []
          },
          "execution_count": 56
        }
      ]
    },
    {
      "cell_type": "code",
      "metadata": {
        "colab": {
          "base_uri": "https://localhost:8080/",
          "height": 286
        },
        "id": "6AfNJlonx3Ju",
        "outputId": "c447e37f-f5d1-45dd-b056-ad3a93e357b9"
      },
      "source": [
        "srag.boxplot(\"TEMPO_UTI\")"
      ],
      "execution_count": null,
      "outputs": [
        {
          "output_type": "execute_result",
          "data": {
            "text/plain": [
              "<matplotlib.axes._subplots.AxesSubplot at 0x7fe1efeb42d0>"
            ]
          },
          "metadata": {
            "tags": []
          },
          "execution_count": 57
        },
        {
          "output_type": "display_data",
          "data": {
            "image/png": "[encoded data removed]",
            "text/plain": [
              "<Figure size 432x288 with 1 Axes>"
            ]
          },
          "metadata": {
            "tags": [],
            "needs_background": "light"
          }
        }
      ]
    },
    {
      "cell_type": "markdown",
      "metadata": {
        "id": "yqBsUwIhAqfT"
      },
      "source": [
        "#### **Análise dos valores únicos de cada atributo**"
      ]
    },
    {
      "cell_type": "markdown",
      "metadata": {
        "id": "sIX7HKZGtP4O"
      },
      "source": [
        "Por fim, verificou-se quais são os valores únicos das demais features do dataset. Vale ressaltar que além dos dados nulos, alguns campos possuem o valor `9` para demarcar que o campo foi ignorado no ato da notificão. Portanto, os dois casos precisam ser devidamente tratados na etapa de pré-processamento."
      ]
    },
    {
      "cell_type": "code",
      "metadata": {
        "colab": {
          "base_uri": "https://localhost:8080/"
        },
        "id": "Z-5epICn7iUw",
        "scrolled": true,
        "outputId": "fd4ecb29-595b-4946-cd16-c1becf0bfa1d"
      },
      "source": [
        "desconsiderar = set(colunas_datatime) | set(['NU_IDADE_N', 'SG_UF', 'TEMPO_INTER', 'TEMPO_UTI'])\n",
        "for coluna in set(srag.columns) - desconsiderar:\n",
        "    print(coluna, srag[coluna].unique())"
      ],
      "execution_count": null,
      "outputs": [
        {
          "output_type": "stream",
          "text": [
            "PNEUMOPATI [nan  2.  1.  9.]\n",
            "HEMATOLOGI [nan  2.  9.  1.]\n",
            "CS_SEXO ['F' 'M' 'I']\n",
            "CLASSI_FIN [5. 4. 3. 1. 2.]\n",
            "DISPNEIA [ 1.  2. nan  9.]\n",
            "HEPATICA [nan  2.  9.  1.]\n",
            "DIARREIA [ 1.  2. nan  9.]\n",
            "HOSPITAL [ 1.  2. nan  9.]\n",
            "PERD_PALA [nan  2.  1.  9.]\n",
            "FEBRE [ 1.  2. nan  9.]\n",
            "DESC_RESP [nan  1.  2.  9.]\n",
            "GARGANTA [nan  2.  1.  9.]\n",
            "RENAL [nan  2.  1.  9.]\n",
            "OBESIDADE [nan  2.  9.  1.]\n",
            "IMUNODEPRE [nan  2.  1.  9.]\n",
            "SEM_NOT [ 1  2 15  3  4  5  6  7  8  9 10 11 14 12 13 16 17 18]\n",
            "SUPORT_VEN [ 2.  3. nan  9.  1.]\n",
            "NEUROLOGIC [ 1. nan  2.  9.]\n",
            "DOR_ABD [nan  2.  1.  9.]\n",
            "SIND_DOWN [nan  2.  9.  1.]\n",
            "FADIGA [nan  2.  1.  9.]\n",
            "ASMA [nan  2.  9.  1.]\n",
            "SATURACAO [ 1.  2. nan  9.]\n",
            "VOMITO [nan  2.  1.  9.]\n",
            "TOSSE [ 1.  2. nan  9.]\n",
            "FATOR_RISC ['S' 'N']\n",
            "CARDIOPATI [ 1. nan  2.  9.]\n",
            "EVOLUCAO [ 2.  1. nan  3.  9.]\n",
            "TP_IDADE [3 2 1]\n",
            "PERD_OLFT [nan  2.  1.  9.]\n",
            "PUERPERA [nan  2.  9.  1.]\n",
            "UTI [ 2.  1. nan  9.]\n",
            "DIABETES [nan  1.  2.  9.]\n"
          ],
          "name": "stdout"
        }
      ]
    },
    {
      "cell_type": "markdown",
      "metadata": {
        "id": "6q08_DQUtP4O"
      },
      "source": [
        "## **4 Pré-processamento**"
      ]
    },
    {
      "cell_type": "markdown",
      "metadata": {
        "id": "RevbkStStP4P"
      },
      "source": [
        "### **4.1 Pré-processamento - CNVCC**"
      ]
    },
    {
      "cell_type": "markdown",
      "metadata": {
        "id": "U-4-JkF-tP4P"
      },
      "source": [
        "Foram selecionados alguns bjetivos principais para a etapa de pré-processamento do conjunto de dados CNVCC, são eles:  \n",
        "1. Diminuir o tamanho do arquivo volume de armazenamento do arquivo;\n",
        "2. Tratar os casos de incosistência e dados nulos;\n",
        "3. Simplificar a estrutura do dataset para a análise."
      ]
    },
    {
      "cell_type": "code",
      "metadata": {
        "id": "8p1f2ynvtP4P"
      },
      "source": [
        "cnvcc = pd.read_csv('Datasets/CNVCC/CNVCC - Nordeste.csv')"
      ],
      "execution_count": null,
      "outputs": []
    },
    {
      "cell_type": "code",
      "metadata": {
        "id": "iyVioMy0tP4Q",
        "outputId": "9e6236f9-e975-4d32-849a-1abf02ca4199"
      },
      "source": [
        "cnvcc.head()"
      ],
      "execution_count": null,
      "outputs": [
        {
          "output_type": "execute_result",
          "data": {
            "text/html": [
              "<div>\n",
              "<style scoped>\n",
              "    .dataframe tbody tr th:only-of-type {\n",
              "        vertical-align: middle;\n",
              "    }\n",
              "\n",
              "    .dataframe tbody tr th {\n",
              "        vertical-align: top;\n",
              "    }\n",
              "\n",
              "    .dataframe thead th {\n",
              "        text-align: right;\n",
              "    }\n",
              "</style>\n",
              "<table border=\"1\" class=\"dataframe\">\n",
              "  <thead>\n",
              "    <tr style=\"text-align: right;\">\n",
              "      <th></th>\n",
              "      <th>paciente_id</th>\n",
              "      <th>paciente_idade</th>\n",
              "      <th>paciente_enumSexoBiologico</th>\n",
              "      <th>estabelecimento_uf</th>\n",
              "      <th>vacina_categoria_nome</th>\n",
              "      <th>vacina_dataAplicacao</th>\n",
              "      <th>vacina_descricao_dose</th>\n",
              "      <th>vacina_nome</th>\n",
              "    </tr>\n",
              "  </thead>\n",
              "  <tbody>\n",
              "    <tr>\n",
              "      <th>0</th>\n",
              "      <td>6b16f0c5e10a74e22ad7f043d723f475cf6b1f349db2d159965d2b76eee68964</td>\n",
              "      <td>23.0</td>\n",
              "      <td>F</td>\n",
              "      <td>MA</td>\n",
              "      <td>Trabalhadores de Saúde</td>\n",
              "      <td>2021-04-30T03:00:00.000Z</td>\n",
              "      <td>1ª Dose</td>\n",
              "      <td>Vacina Covid-19 - Covishield</td>\n",
              "    </tr>\n",
              "    <tr>\n",
              "      <th>1</th>\n",
              "      <td>d7390505c9f33725adf5af0de73e5924bdd4db1154b3ad9960902207e71dacee</td>\n",
              "      <td>73.0</td>\n",
              "      <td>F</td>\n",
              "      <td>MA</td>\n",
              "      <td>Faixa Etária</td>\n",
              "      <td>2021-03-11T03:00:00.000Z</td>\n",
              "      <td>2ª Dose</td>\n",
              "      <td>Covid-19-Coronavac-Sinovac/Butantan</td>\n",
              "    </tr>\n",
              "    <tr>\n",
              "      <th>2</th>\n",
              "      <td>3aec5e352cba8ad396136966088797ec45e9b29aebd136bb744164da0bffa571</td>\n",
              "      <td>61.0</td>\n",
              "      <td>F</td>\n",
              "      <td>MA</td>\n",
              "      <td>Faixa Etária</td>\n",
              "      <td>2021-04-29T03:00:00.000Z</td>\n",
              "      <td>1ª Dose</td>\n",
              "      <td>Vacina Covid-19 - Covishield</td>\n",
              "    </tr>\n",
              "    <tr>\n",
              "      <th>3</th>\n",
              "      <td>fafb9a784ebdf54d418b37c1b0e0260cf371c16ead72c6cbafff9fd8c196a00e</td>\n",
              "      <td>23.0</td>\n",
              "      <td>F</td>\n",
              "      <td>MA</td>\n",
              "      <td>Povos Indígenas</td>\n",
              "      <td>2021-03-12T03:00:00.000Z</td>\n",
              "      <td>2ª Dose</td>\n",
              "      <td>Covid-19-Coronavac-Sinovac/Butantan</td>\n",
              "    </tr>\n",
              "    <tr>\n",
              "      <th>4</th>\n",
              "      <td>1b518f76d0415ffdb07e65f875db7f6a8a6ec741748375818a635a4182463620</td>\n",
              "      <td>70.0</td>\n",
              "      <td>F</td>\n",
              "      <td>MA</td>\n",
              "      <td>Faixa Etária</td>\n",
              "      <td>2021-04-29T03:00:00.000Z</td>\n",
              "      <td>2ª Dose</td>\n",
              "      <td>Covid-19-Coronavac-Sinovac/Butantan</td>\n",
              "    </tr>\n",
              "  </tbody>\n",
              "</table>\n",
              "</div>"
            ],
            "text/plain": [
              "                                                        paciente_id  \\\n",
              "0  6b16f0c5e10a74e22ad7f043d723f475cf6b1f349db2d159965d2b76eee68964   \n",
              "1  d7390505c9f33725adf5af0de73e5924bdd4db1154b3ad9960902207e71dacee   \n",
              "2  3aec5e352cba8ad396136966088797ec45e9b29aebd136bb744164da0bffa571   \n",
              "3  fafb9a784ebdf54d418b37c1b0e0260cf371c16ead72c6cbafff9fd8c196a00e   \n",
              "4  1b518f76d0415ffdb07e65f875db7f6a8a6ec741748375818a635a4182463620   \n",
              "\n",
              "   paciente_idade paciente_enumSexoBiologico estabelecimento_uf  \\\n",
              "0            23.0                          F                 MA   \n",
              "1            73.0                          F                 MA   \n",
              "2            61.0                          F                 MA   \n",
              "3            23.0                          F                 MA   \n",
              "4            70.0                          F                 MA   \n",
              "\n",
              "    vacina_categoria_nome      vacina_dataAplicacao vacina_descricao_dose  \\\n",
              "0  Trabalhadores de Saúde  2021-04-30T03:00:00.000Z               1ª Dose   \n",
              "1            Faixa Etária  2021-03-11T03:00:00.000Z               2ª Dose   \n",
              "2            Faixa Etária  2021-04-29T03:00:00.000Z               1ª Dose   \n",
              "3         Povos Indígenas  2021-03-12T03:00:00.000Z               2ª Dose   \n",
              "4            Faixa Etária  2021-04-29T03:00:00.000Z               2ª Dose   \n",
              "\n",
              "                           vacina_nome  \n",
              "0         Vacina Covid-19 - Covishield  \n",
              "1  Covid-19-Coronavac-Sinovac/Butantan  \n",
              "2         Vacina Covid-19 - Covishield  \n",
              "3  Covid-19-Coronavac-Sinovac/Butantan  \n",
              "4  Covid-19-Coronavac-Sinovac/Butantan  "
            ]
          },
          "metadata": {
            "tags": []
          },
          "execution_count": 8
        }
      ]
    },
    {
      "cell_type": "markdown",
      "metadata": {
        "id": "5O-1YuKBtP4Q"
      },
      "source": [
        "Para melhorar a manipulação dos dados, a data de aplicação da vacina precisou ser padronizada. Para tanto, as seguintes decisões foram tomadas.  "
      ]
    },
    {
      "cell_type": "markdown",
      "metadata": {
        "id": "wvG7fYhutP4Q"
      },
      "source": [
        "1. Como buscou-se analisar apenas os dados referentes a Campanha Nacional de Vacinação, removemos os registros que antecedem o ano de 2021, uma vez que são poucos. Dentro das instâncias removidas também estão as instâncias com datas preenchidas erradas."
      ]
    },
    {
      "cell_type": "code",
      "metadata": {
        "id": "yfL5uir-tP4Q",
        "outputId": "4d351531-b9fb-4757-f018-7e9e9e48f461"
      },
      "source": [
        "#Seleciona as instancias para remocao\n",
        "remover = cnvcc[cnvcc['vacina_dataAplicacao'].str[:4] != '2021']\n",
        "remover.shape"
      ],
      "execution_count": null,
      "outputs": [
        {
          "output_type": "execute_result",
          "data": {
            "text/plain": [
              "(19, 8)"
            ]
          },
          "metadata": {
            "tags": []
          },
          "execution_count": 9
        }
      ]
    },
    {
      "cell_type": "code",
      "metadata": {
        "id": "Ty5RtC4stP4Q"
      },
      "source": [
        "#Remove instancias\n",
        "cnvcc = cnvcc[~cnvcc['paciente_id'].isin(remover['paciente_id'])]"
      ],
      "execution_count": null,
      "outputs": []
    },
    {
      "cell_type": "markdown",
      "metadata": {
        "id": "KE7prazztP4R"
      },
      "source": [
        "2. Padronização do formato de representação da data de aplicação da vacina para o tipo datatime no formato `yyyy/mm/dd`."
      ]
    },
    {
      "cell_type": "code",
      "metadata": {
        "id": "539XvWz9tP4R"
      },
      "source": [
        "#Seleciona apenas dia, mês e ano da data\n",
        "cnvcc.loc[:, 'vacina_dataAplicacao'] = cnvcc.vacina_dataAplicacao.str[:10]\n",
        "#Converte para datatime\n",
        "cnvcc['vacina_dataAplicacao'] = pd.to_datetime(cnvcc['vacina_dataAplicacao'], dayfirst=True)"
      ],
      "execution_count": null,
      "outputs": []
    },
    {
      "cell_type": "markdown",
      "metadata": {
        "id": "DJiIo1wbtP4R"
      },
      "source": [
        "3. Como foram identificadas instâncias repetidas, mesmo paciente com multiplos registros, esses casos precisaram ser tratados para não gerar imprecisão em analises futuras. Portanto, decidiu-se por manter apenas o registro mais antigo de um paciente para cada aplicação da vacina."
      ]
    },
    {
      "cell_type": "code",
      "metadata": {
        "id": "ZXYfXYk0tP4R"
      },
      "source": [
        "#Ordenação do dataset por data\n",
        "cnvcc = cnvcc.sort_values('vacina_dataAplicacao')\n",
        "\n",
        "#Remove os registros multiplos do paciente\n",
        "cnvcc = cnvcc.drop_duplicates(subset=['paciente_id', 'vacina_descricao_dose'], keep='first')"
      ],
      "execution_count": null,
      "outputs": []
    },
    {
      "cell_type": "markdown",
      "metadata": {
        "id": "oJdfpxXKtP4R"
      },
      "source": [
        "Como as perguntas propostas pelo trabalho buscam analisar apenas questões relacionada a vacinas baseadas na aplicação em duas doses, as instâncias referentes a vacinada da Janssen-Cilag, que é de dose única, foram removidas do dataset. Além disso, vale ressaltar que apenas 49 pacientes tomaram essa vacina, portanto, essa decisão não ocasiona em uma perda significativa da precisão de analises posteriores."
      ]
    },
    {
      "cell_type": "code",
      "metadata": {
        "id": "X7i_AogBtP4R",
        "outputId": "3ac63cdc-eb82-406c-a84f-f251c920d6a3"
      },
      "source": [
        "#Numero de vacinados pela vacina da janssen\n",
        "cnvcc[cnvcc['vacina_nome'] == 'Vacina covid-19 - Ad26.COV2.S - Janssen-Cilag'].shape"
      ],
      "execution_count": null,
      "outputs": [
        {
          "output_type": "execute_result",
          "data": {
            "text/plain": [
              "(49, 8)"
            ]
          },
          "metadata": {
            "tags": []
          },
          "execution_count": 25
        }
      ]
    },
    {
      "cell_type": "code",
      "metadata": {
        "id": "DbGobvUBtP4S"
      },
      "source": [
        "#Remove instancias que tomaram a vacina da janssen\n",
        "cnvcc = cnvcc[cnvcc['vacina_nome'] != 'Vacina covid-19 - Ad26.COV2.S - Janssen-Cilag']"
      ],
      "execution_count": null,
      "outputs": []
    },
    {
      "cell_type": "markdown",
      "metadata": {
        "id": "iTHSGMUHtP4S"
      },
      "source": [
        "A fim de economizar espaço de armazenamento, a descrição da dose foi susbtituída por números de indentificação."
      ]
    },
    {
      "cell_type": "code",
      "metadata": {
        "id": "mxmxiCujtP4S"
      },
      "source": [
        "#Padroniza o atributo vacina_descricao_dose\n",
        "cnvcc.loc[cnvcc['vacina_descricao_dose'] == '\\xa0\\xa0\\xa0\\xa01ª\\xa0Dose', 'vacina_descricao_dose'] = 1\n",
        "cnvcc.loc[cnvcc['vacina_descricao_dose'] == '\\xa0\\xa0\\xa0\\xa02ª\\xa0Dose', 'vacina_descricao_dose'] = 2"
      ],
      "execution_count": null,
      "outputs": []
    },
    {
      "cell_type": "markdown",
      "metadata": {
        "id": "E_aVREtstP4S"
      },
      "source": [
        "A fim de economizar espaço de armazenamento, os nomes das vacinas também foram susbtituídos por números de indentificação. "
      ]
    },
    {
      "cell_type": "code",
      "metadata": {
        "id": "OrGGHJc4tP4S"
      },
      "source": [
        "#Padroniza o atributo vacina_nome\n",
        "nome_vacinas = sorted(cnvcc['vacina_nome'].unique())\n",
        "\n",
        "for index, vacina in enumerate(nome_vacinas):\n",
        "    cnvcc.loc[cnvcc['vacina_nome'] == vacina, 'vacina_nome'] = index+1"
      ],
      "execution_count": null,
      "outputs": []
    },
    {
      "cell_type": "code",
      "metadata": {
        "id": "Y_9OrSNjtP4S",
        "outputId": "a7b4a48b-0160-4c32-8851-ceb6192ee3e6"
      },
      "source": [
        "nome_vacinas"
      ],
      "execution_count": null,
      "outputs": [
        {
          "output_type": "execute_result",
          "data": {
            "text/plain": [
              "['Covid-19-AstraZeneca',\n",
              " 'Covid-19-Coronavac-Sinovac/Butantan',\n",
              " 'Vacina Covid-19 - Covishield',\n",
              " 'Vacina covid-19 - Ad26.COV2.S - Janssen-Cilag',\n",
              " 'Vacina covid-19 - BNT162b2 - BioNTech/Fosun Pharma/Pfizer']"
            ]
          },
          "metadata": {
            "tags": []
          },
          "execution_count": 32
        }
      ]
    },
    {
      "cell_type": "markdown",
      "metadata": {
        "id": "MmqCN-q9tP4T"
      },
      "source": [
        "Para economizar um volume significativo de espaço em memória e facilitar a manipulação do dataset para posterior análise, ele foi estratégicamente normalizado. Para tanto, cada registro passou a armazenar as informações sobre a aplicação da primeira e segunda dose. Assim, uma única instância passa a armazenar todas as informações sobre a mesma entidade, evitando armazenamento de atributos repetidos."
      ]
    },
    {
      "cell_type": "code",
      "metadata": {
        "id": "xfhtbAEhtP4T"
      },
      "source": [
        "#Normalização do dataset\n",
        "\n",
        "#Dataset apenas com os dados sobre o paciente\n",
        "dataset_normalizado = cnvcc[['paciente_id', 'paciente_idade', 'paciente_enumSexoBiologico',\n",
        "                              'estabelecimento_uf', 'vacina_categoria_nome']]\n",
        "\n",
        "#Remoção de duplicados, para ter apenas um registro por paciente\n",
        "dataset_normalizado = dataset_normalizado.drop_duplicates(subset='paciente_id')\n",
        "\n",
        "#Dataset primeira dose\n",
        "primeira_dose_colunas = {'vacina_dataAplicacao': 'data_aplicacao_1', 'vacina_nome': 'nome_vacina_1'}\n",
        "\n",
        "primeira_dose = cnvcc[cnvcc['vacina_descricao_dose'] == 1]\n",
        "primeira_dose = primeira_dose[['paciente_id', 'vacina_dataAplicacao', 'vacina_nome']]\n",
        "primeira_dose = primeira_dose.rename(columns=primeira_dose_colunas)\n",
        "primeira_dose['primeira_dose'] = 1\n",
        "\n",
        "#Dataset segunda dose\n",
        "segunda_dose_colunas = {'vacina_dataAplicacao': 'data_aplicacao_2', 'vacina_nome': 'nome_vacina_2'}\n",
        "\n",
        "segunda_dose = cnvcc[cnvcc['vacina_descricao_dose'] == 2]\n",
        "segunda_dose = segunda_dose[['paciente_id', 'vacina_dataAplicacao', 'vacina_nome']]\n",
        "segunda_dose = segunda_dose.rename(columns=segunda_dose_colunas)\n",
        "segunda_dose['segunda_dose'] = 1\n",
        "\n",
        "#Outer join dos datasets, para formar um dataset com informações sobre o paciente, primeira dose e segunda dose\n",
        "merged = pd.merge(dataset_normalizado, primeira_dose, on='paciente_id', how='outer')\n",
        "cnvcc = pd.merge(merged, segunda_dose, on='paciente_id', how='outer')\n",
        " \n",
        "#Preenche os nulos com zero, para indificar quando dose não foi tomada\n",
        "cnvcc = cnvcc.fillna({'primeira_dose': 0, 'nome_vacina_1': 0, 'segunda_dose': 0, 'nome_vacina_2': 0})\n",
        "\n",
        "#Desaloca variáveis\n",
        "del primeira_dose\n",
        "del segunda_dose\n",
        "del dataset_denormalizado"
      ],
      "execution_count": null,
      "outputs": []
    },
    {
      "cell_type": "markdown",
      "metadata": {
        "id": "-XSxIkbVtP4T"
      },
      "source": [
        "Os nomes das colunas foram renomeados e ordenados a fim de melhor indentificar as features e simplificar consultas posteriores."
      ]
    },
    {
      "cell_type": "code",
      "metadata": {
        "id": "ifUevGyutP4T"
      },
      "source": [
        "#Renomeação das colunas\n",
        "novas_colunas = {'paciente_id':'id', 'paciente_idade':'idade', 'paciente_enumSexoBiologico': 'sexo', \n",
        "                 'estabelecimento_uf': 'estado', 'vacina_categoria_nome': 'categoria_vacinacao'}\n",
        "\n",
        "cnvcc = cnvcc.rename(columns=novas_colunas)\n",
        "\n",
        "#Ordenação das colunas\n",
        "cnvcc = cnvcc[['id', 'idade', 'sexo', 'estado', 'categoria_vacinacao', \n",
        "               'primeira_dose', 'data_aplicacao_1', 'nome_vacina_1',\n",
        "               'segunda_dose', 'data_aplicacao_2', 'nome_vacina_2']]"
      ],
      "execution_count": null,
      "outputs": []
    },
    {
      "cell_type": "markdown",
      "metadata": {
        "id": "QG26aBmNtP4T"
      },
      "source": [
        "Os tipos de dados das colunas foram explicitamente definidos para assegurar consistência."
      ]
    },
    {
      "cell_type": "code",
      "metadata": {
        "id": "0ulRUTAdtP4T"
      },
      "source": [
        "#Define os tipos de dados das colunas\n",
        "data_types = {'idade':np.int32, 'primeira_dose':np.int32, 'nome_vacina_1':np.int32, 'segunda_dose':np.int32, 'nome_vacina_2':np.int32}\n",
        "cnvcc = cnvcc.astype(data_types)"
      ],
      "execution_count": null,
      "outputs": []
    },
    {
      "cell_type": "markdown",
      "metadata": {
        "id": "vxRnpo0ftP4U"
      },
      "source": [
        "Os dados nulos da coluna `categoria_vacinacao`, percebidos durante a exploração inicial, foram preenchidos como `Não informada` uma vez que denotam os casos em que a categoria não foi informada."
      ]
    },
    {
      "cell_type": "code",
      "metadata": {
        "id": "GgubfIoOtP4U"
      },
      "source": [
        "#Trata nulos da coluna \"categoria_vacinacao\"\n",
        "cnvcc.loc[cnvcc['categoria_vacinacao'].isnull(), 'categoria_vacinacao'] = 'Não Informada'"
      ],
      "execution_count": null,
      "outputs": []
    },
    {
      "cell_type": "markdown",
      "metadata": {
        "id": "r9sGh_rGtP4U"
      },
      "source": [
        "Organização final do dataset após a limpeza e transformação dos dados."
      ]
    },
    {
      "cell_type": "code",
      "metadata": {
        "id": "rirXYbI4tP4U"
      },
      "source": [
        "cnvcc.head()"
      ],
      "execution_count": null,
      "outputs": []
    },
    {
      "cell_type": "markdown",
      "metadata": {
        "id": "k8yB1-RStP4V"
      },
      "source": [
        "Por fim, o dataset é exportado para uso posterior."
      ]
    },
    {
      "cell_type": "code",
      "metadata": {
        "id": "zSf5iMiVhdSH"
      },
      "source": [
        "#Exporta Dataset\n",
        "cnvcc.to_csv('Datasets/CNVCC/CNVCC - Nordeste2.csv', index=False)"
      ],
      "execution_count": null,
      "outputs": []
    },
    {
      "cell_type": "markdown",
      "metadata": {
        "id": "5E1wBmq6tP4V"
      },
      "source": [
        "### **4.2 Pré-processamento - SRAG**"
      ]
    },
    {
      "cell_type": "code",
      "metadata": {
        "id": "24jduh5k5P6f"
      },
      "source": [
        "srag = pd.read_csv('Datasets/SRAG/SRAG - Nordeste.csv')"
      ],
      "execution_count": null,
      "outputs": []
    },
    {
      "cell_type": "code",
      "metadata": {
        "id": "9ACDP9VP5P6f",
        "scrolled": false,
        "outputId": "826c0932-dcbe-42ed-f74a-ddedca378ef4"
      },
      "source": [
        "srag.head()"
      ],
      "execution_count": null,
      "outputs": [
        {
          "output_type": "execute_result",
          "data": {
            "text/html": [
              "<div>\n",
              "<style scoped>\n",
              "    .dataframe tbody tr th:only-of-type {\n",
              "        vertical-align: middle;\n",
              "    }\n",
              "\n",
              "    .dataframe tbody tr th {\n",
              "        vertical-align: top;\n",
              "    }\n",
              "\n",
              "    .dataframe thead th {\n",
              "        text-align: right;\n",
              "    }\n",
              "</style>\n",
              "<table border=\"1\" class=\"dataframe\">\n",
              "  <thead>\n",
              "    <tr style=\"text-align: right;\">\n",
              "      <th></th>\n",
              "      <th>DT_NOTIFIC</th>\n",
              "      <th>SEM_NOT</th>\n",
              "      <th>DT_SIN_PRI</th>\n",
              "      <th>CS_SEXO</th>\n",
              "      <th>NU_IDADE_N</th>\n",
              "      <th>TP_IDADE</th>\n",
              "      <th>SG_UF</th>\n",
              "      <th>FEBRE</th>\n",
              "      <th>TOSSE</th>\n",
              "      <th>GARGANTA</th>\n",
              "      <th>DISPNEIA</th>\n",
              "      <th>DESC_RESP</th>\n",
              "      <th>SATURACAO</th>\n",
              "      <th>DIARREIA</th>\n",
              "      <th>VOMITO</th>\n",
              "      <th>DOR_ABD</th>\n",
              "      <th>FADIGA</th>\n",
              "      <th>PERD_OLFT</th>\n",
              "      <th>PERD_PALA</th>\n",
              "      <th>FATOR_RISC</th>\n",
              "      <th>PUERPERA</th>\n",
              "      <th>CARDIOPATI</th>\n",
              "      <th>HEMATOLOGI</th>\n",
              "      <th>SIND_DOWN</th>\n",
              "      <th>HEPATICA</th>\n",
              "      <th>ASMA</th>\n",
              "      <th>DIABETES</th>\n",
              "      <th>NEUROLOGIC</th>\n",
              "      <th>PNEUMOPATI</th>\n",
              "      <th>IMUNODEPRE</th>\n",
              "      <th>RENAL</th>\n",
              "      <th>OBESIDADE</th>\n",
              "      <th>HOSPITAL</th>\n",
              "      <th>DT_INTERNA</th>\n",
              "      <th>UTI</th>\n",
              "      <th>DT_ENTUTI</th>\n",
              "      <th>DT_SAIDUTI</th>\n",
              "      <th>SUPORT_VEN</th>\n",
              "      <th>CLASSI_FIN</th>\n",
              "      <th>EVOLUCAO</th>\n",
              "      <th>DT_EVOLUCA</th>\n",
              "    </tr>\n",
              "  </thead>\n",
              "  <tbody>\n",
              "    <tr>\n",
              "      <th>0</th>\n",
              "      <td>06/01/2021</td>\n",
              "      <td>1</td>\n",
              "      <td>03/01/2021</td>\n",
              "      <td>F</td>\n",
              "      <td>80</td>\n",
              "      <td>3</td>\n",
              "      <td>PE</td>\n",
              "      <td>1.0</td>\n",
              "      <td>1.0</td>\n",
              "      <td>NaN</td>\n",
              "      <td>1.0</td>\n",
              "      <td>NaN</td>\n",
              "      <td>1.0</td>\n",
              "      <td>1.0</td>\n",
              "      <td>NaN</td>\n",
              "      <td>NaN</td>\n",
              "      <td>NaN</td>\n",
              "      <td>NaN</td>\n",
              "      <td>NaN</td>\n",
              "      <td>S</td>\n",
              "      <td>NaN</td>\n",
              "      <td>1.0</td>\n",
              "      <td>NaN</td>\n",
              "      <td>NaN</td>\n",
              "      <td>NaN</td>\n",
              "      <td>NaN</td>\n",
              "      <td>NaN</td>\n",
              "      <td>1.0</td>\n",
              "      <td>NaN</td>\n",
              "      <td>NaN</td>\n",
              "      <td>NaN</td>\n",
              "      <td>NaN</td>\n",
              "      <td>1.0</td>\n",
              "      <td>05/01/2021</td>\n",
              "      <td>2.0</td>\n",
              "      <td>NaN</td>\n",
              "      <td>NaN</td>\n",
              "      <td>2.0</td>\n",
              "      <td>5.0</td>\n",
              "      <td>2.0</td>\n",
              "      <td>13/01/2021</td>\n",
              "    </tr>\n",
              "    <tr>\n",
              "      <th>1</th>\n",
              "      <td>08/01/2021</td>\n",
              "      <td>1</td>\n",
              "      <td>04/01/2021</td>\n",
              "      <td>F</td>\n",
              "      <td>1</td>\n",
              "      <td>3</td>\n",
              "      <td>PB</td>\n",
              "      <td>1.0</td>\n",
              "      <td>1.0</td>\n",
              "      <td>2.0</td>\n",
              "      <td>1.0</td>\n",
              "      <td>1.0</td>\n",
              "      <td>2.0</td>\n",
              "      <td>2.0</td>\n",
              "      <td>2.0</td>\n",
              "      <td>2.0</td>\n",
              "      <td>2.0</td>\n",
              "      <td>2.0</td>\n",
              "      <td>2.0</td>\n",
              "      <td>N</td>\n",
              "      <td>NaN</td>\n",
              "      <td>NaN</td>\n",
              "      <td>NaN</td>\n",
              "      <td>NaN</td>\n",
              "      <td>NaN</td>\n",
              "      <td>NaN</td>\n",
              "      <td>NaN</td>\n",
              "      <td>NaN</td>\n",
              "      <td>NaN</td>\n",
              "      <td>NaN</td>\n",
              "      <td>NaN</td>\n",
              "      <td>NaN</td>\n",
              "      <td>1.0</td>\n",
              "      <td>08/01/2021</td>\n",
              "      <td>2.0</td>\n",
              "      <td>NaN</td>\n",
              "      <td>NaN</td>\n",
              "      <td>3.0</td>\n",
              "      <td>5.0</td>\n",
              "      <td>1.0</td>\n",
              "      <td>10/01/2021</td>\n",
              "    </tr>\n",
              "    <tr>\n",
              "      <th>2</th>\n",
              "      <td>11/01/2021</td>\n",
              "      <td>2</td>\n",
              "      <td>05/01/2021</td>\n",
              "      <td>F</td>\n",
              "      <td>68</td>\n",
              "      <td>3</td>\n",
              "      <td>BA</td>\n",
              "      <td>2.0</td>\n",
              "      <td>2.0</td>\n",
              "      <td>2.0</td>\n",
              "      <td>2.0</td>\n",
              "      <td>2.0</td>\n",
              "      <td>2.0</td>\n",
              "      <td>2.0</td>\n",
              "      <td>1.0</td>\n",
              "      <td>2.0</td>\n",
              "      <td>2.0</td>\n",
              "      <td>2.0</td>\n",
              "      <td>2.0</td>\n",
              "      <td>S</td>\n",
              "      <td>2.0</td>\n",
              "      <td>1.0</td>\n",
              "      <td>2.0</td>\n",
              "      <td>2.0</td>\n",
              "      <td>2.0</td>\n",
              "      <td>2.0</td>\n",
              "      <td>1.0</td>\n",
              "      <td>2.0</td>\n",
              "      <td>2.0</td>\n",
              "      <td>2.0</td>\n",
              "      <td>2.0</td>\n",
              "      <td>2.0</td>\n",
              "      <td>1.0</td>\n",
              "      <td>09/01/2021</td>\n",
              "      <td>1.0</td>\n",
              "      <td>09/01/2021</td>\n",
              "      <td>19/01/2021</td>\n",
              "      <td>3.0</td>\n",
              "      <td>4.0</td>\n",
              "      <td>1.0</td>\n",
              "      <td>25/01/2021</td>\n",
              "    </tr>\n",
              "    <tr>\n",
              "      <th>3</th>\n",
              "      <td>14/04/2021</td>\n",
              "      <td>15</td>\n",
              "      <td>12/04/2021</td>\n",
              "      <td>M</td>\n",
              "      <td>87</td>\n",
              "      <td>3</td>\n",
              "      <td>BA</td>\n",
              "      <td>1.0</td>\n",
              "      <td>2.0</td>\n",
              "      <td>2.0</td>\n",
              "      <td>2.0</td>\n",
              "      <td>2.0</td>\n",
              "      <td>2.0</td>\n",
              "      <td>2.0</td>\n",
              "      <td>2.0</td>\n",
              "      <td>2.0</td>\n",
              "      <td>2.0</td>\n",
              "      <td>2.0</td>\n",
              "      <td>2.0</td>\n",
              "      <td>S</td>\n",
              "      <td>2.0</td>\n",
              "      <td>2.0</td>\n",
              "      <td>2.0</td>\n",
              "      <td>2.0</td>\n",
              "      <td>2.0</td>\n",
              "      <td>2.0</td>\n",
              "      <td>2.0</td>\n",
              "      <td>2.0</td>\n",
              "      <td>2.0</td>\n",
              "      <td>1.0</td>\n",
              "      <td>2.0</td>\n",
              "      <td>2.0</td>\n",
              "      <td>1.0</td>\n",
              "      <td>05/04/2021</td>\n",
              "      <td>2.0</td>\n",
              "      <td>NaN</td>\n",
              "      <td>NaN</td>\n",
              "      <td>3.0</td>\n",
              "      <td>4.0</td>\n",
              "      <td>NaN</td>\n",
              "      <td>NaN</td>\n",
              "    </tr>\n",
              "    <tr>\n",
              "      <th>4</th>\n",
              "      <td>03/01/2021</td>\n",
              "      <td>1</td>\n",
              "      <td>03/01/2021</td>\n",
              "      <td>F</td>\n",
              "      <td>54</td>\n",
              "      <td>3</td>\n",
              "      <td>AL</td>\n",
              "      <td>NaN</td>\n",
              "      <td>1.0</td>\n",
              "      <td>NaN</td>\n",
              "      <td>NaN</td>\n",
              "      <td>NaN</td>\n",
              "      <td>1.0</td>\n",
              "      <td>NaN</td>\n",
              "      <td>NaN</td>\n",
              "      <td>NaN</td>\n",
              "      <td>NaN</td>\n",
              "      <td>NaN</td>\n",
              "      <td>NaN</td>\n",
              "      <td>S</td>\n",
              "      <td>NaN</td>\n",
              "      <td>1.0</td>\n",
              "      <td>NaN</td>\n",
              "      <td>NaN</td>\n",
              "      <td>NaN</td>\n",
              "      <td>NaN</td>\n",
              "      <td>1.0</td>\n",
              "      <td>NaN</td>\n",
              "      <td>NaN</td>\n",
              "      <td>NaN</td>\n",
              "      <td>NaN</td>\n",
              "      <td>NaN</td>\n",
              "      <td>1.0</td>\n",
              "      <td>03/01/2021</td>\n",
              "      <td>NaN</td>\n",
              "      <td>NaN</td>\n",
              "      <td>NaN</td>\n",
              "      <td>NaN</td>\n",
              "      <td>5.0</td>\n",
              "      <td>1.0</td>\n",
              "      <td>14/01/2021</td>\n",
              "    </tr>\n",
              "  </tbody>\n",
              "</table>\n",
              "</div>"
            ],
            "text/plain": [
              "   DT_NOTIFIC  SEM_NOT  DT_SIN_PRI CS_SEXO  NU_IDADE_N  TP_IDADE SG_UF  FEBRE  \\\n",
              "0  06/01/2021        1  03/01/2021       F          80         3    PE    1.0   \n",
              "1  08/01/2021        1  04/01/2021       F           1         3    PB    1.0   \n",
              "2  11/01/2021        2  05/01/2021       F          68         3    BA    2.0   \n",
              "3  14/04/2021       15  12/04/2021       M          87         3    BA    1.0   \n",
              "4  03/01/2021        1  03/01/2021       F          54         3    AL    NaN   \n",
              "\n",
              "   TOSSE  GARGANTA  DISPNEIA  DESC_RESP  SATURACAO  DIARREIA  VOMITO  DOR_ABD  \\\n",
              "0    1.0       NaN       1.0        NaN        1.0       1.0     NaN      NaN   \n",
              "1    1.0       2.0       1.0        1.0        2.0       2.0     2.0      2.0   \n",
              "2    2.0       2.0       2.0        2.0        2.0       2.0     1.0      2.0   \n",
              "3    2.0       2.0       2.0        2.0        2.0       2.0     2.0      2.0   \n",
              "4    1.0       NaN       NaN        NaN        1.0       NaN     NaN      NaN   \n",
              "\n",
              "   FADIGA  PERD_OLFT  PERD_PALA FATOR_RISC  PUERPERA  CARDIOPATI  HEMATOLOGI  \\\n",
              "0     NaN        NaN        NaN          S       NaN         1.0         NaN   \n",
              "1     2.0        2.0        2.0          N       NaN         NaN         NaN   \n",
              "2     2.0        2.0        2.0          S       2.0         1.0         2.0   \n",
              "3     2.0        2.0        2.0          S       2.0         2.0         2.0   \n",
              "4     NaN        NaN        NaN          S       NaN         1.0         NaN   \n",
              "\n",
              "   SIND_DOWN  HEPATICA  ASMA  DIABETES  NEUROLOGIC  PNEUMOPATI  IMUNODEPRE  \\\n",
              "0        NaN       NaN   NaN       NaN         1.0         NaN         NaN   \n",
              "1        NaN       NaN   NaN       NaN         NaN         NaN         NaN   \n",
              "2        2.0       2.0   2.0       1.0         2.0         2.0         2.0   \n",
              "3        2.0       2.0   2.0       2.0         2.0         2.0         1.0   \n",
              "4        NaN       NaN   NaN       1.0         NaN         NaN         NaN   \n",
              "\n",
              "   RENAL  OBESIDADE  HOSPITAL  DT_INTERNA  UTI   DT_ENTUTI  DT_SAIDUTI  \\\n",
              "0    NaN        NaN       1.0  05/01/2021  2.0         NaN         NaN   \n",
              "1    NaN        NaN       1.0  08/01/2021  2.0         NaN         NaN   \n",
              "2    2.0        2.0       1.0  09/01/2021  1.0  09/01/2021  19/01/2021   \n",
              "3    2.0        2.0       1.0  05/04/2021  2.0         NaN         NaN   \n",
              "4    NaN        NaN       1.0  03/01/2021  NaN         NaN         NaN   \n",
              "\n",
              "   SUPORT_VEN  CLASSI_FIN  EVOLUCAO  DT_EVOLUCA  \n",
              "0         2.0         5.0       2.0  13/01/2021  \n",
              "1         3.0         5.0       1.0  10/01/2021  \n",
              "2         3.0         4.0       1.0  25/01/2021  \n",
              "3         3.0         4.0       NaN         NaN  \n",
              "4         NaN         5.0       1.0  14/01/2021  "
            ]
          },
          "metadata": {
            "tags": []
          },
          "execution_count": 156
        }
      ]
    },
    {
      "cell_type": "markdown",
      "metadata": {
        "id": "8Sw1fYjvtP4V"
      },
      "source": [
        "A coluna `TP_IDADE` informa se a idade está representada em dia, mês ou ano. Como a representação mais relavante para o estudo é em anos, e tratar cada caso dificultaria a manipulação do dataset, idades representadas em dia e mês foram convertidas para seu equivalente ano."
      ]
    },
    {
      "cell_type": "code",
      "metadata": {
        "id": "VR6mJseZtP4W",
        "outputId": "eee29d36-d79e-4c87-bec7-cb9271d30839"
      },
      "source": [
        "srag[srag['TP_IDADE'] == 1]['NU_IDADE_N'].unique()"
      ],
      "execution_count": null,
      "outputs": [
        {
          "output_type": "execute_result",
          "data": {
            "text/plain": [
              "array([23,  0, 10,  1, 25,  7, 11,  3,  5,  8, 26, 27, 18,  6, 16, 13, 12,\n",
              "       19,  2, 14, 21,  9, 22, 17,  4, 20, 15, 24, 28])"
            ]
          },
          "metadata": {
            "tags": []
          },
          "execution_count": 157
        }
      ]
    },
    {
      "cell_type": "code",
      "metadata": {
        "id": "iWhptagItP4W",
        "outputId": "82fda6e0-4544-46ce-e74f-468ff28e4472"
      },
      "source": [
        "srag[srag['TP_IDADE'] == 2]['NU_IDADE_N'].unique()"
      ],
      "execution_count": null,
      "outputs": [
        {
          "output_type": "execute_result",
          "data": {
            "text/plain": [
              "array([ 1,  4,  7,  3,  2,  5,  8, 11,  6, 10,  9,  0])"
            ]
          },
          "metadata": {
            "tags": []
          },
          "execution_count": 158
        }
      ]
    },
    {
      "cell_type": "markdown",
      "metadata": {
        "id": "JHUOhylQtP4W"
      },
      "source": [
        "Verificou-se acima que todas as idades representadas em dia e mês compreendem a faixa de 0 anos. Portanto, foram convertidas para esse valor em anos e a coluna `TP_IDADE` foi removida."
      ]
    },
    {
      "cell_type": "code",
      "metadata": {
        "id": "1sxcF46wtP4W"
      },
      "source": [
        "#Converte idade representadas em dia e mes para ano\n",
        "srag.loc[srag['TP_IDADE'] == 1, 'NU_IDADE_N'] = 0\n",
        "srag.loc[srag['TP_IDADE'] == 2, 'NU_IDADE_N'] = 0"
      ],
      "execution_count": null,
      "outputs": []
    },
    {
      "cell_type": "code",
      "metadata": {
        "id": "IUK38pjVtP4W"
      },
      "source": [
        "#Remove coluna\n",
        "srag = srag.drop(columns='TP_IDADE')"
      ],
      "execution_count": null,
      "outputs": []
    },
    {
      "cell_type": "markdown",
      "metadata": {
        "id": "pcvbkWkWtP4W"
      },
      "source": [
        "Os atributos de sintomas e comorbidades apresentam quatro valores categóricos \"Sim\", \"Não\", \"Ignorado\" e nulo, representados respectivamente por 1, 2, 9 e nan. Portanto, decidiu-se por interpretar os dados nulos como ignorados, essa decisão busca padronizar os dados e não interfere nas estatísticas analisadas. Em sequência, decidiu-se por tratar a categoria \"Ignorado\", que agora inclui os nulos, como \"Não\", e se sustenta na hipôtese de que atributos foram marcados como \"Ignorado\" deliberadamente, porque sua determinação não era relevante para o contexto. Além disso, considerou-se que essas decisões provocariam pouco impacto nos resultados, uma vez que são possibilidades plausíveis."
      ]
    },
    {
      "cell_type": "code",
      "metadata": {
        "id": "vQm2yKmWtP4X"
      },
      "source": [
        "#Transformação de dados nulos e marcados como ignorados\n",
        "colunas = ['SIND_DOWN', 'TOSSE', 'DESC_RESP', 'DOR_ABD', 'SATURACAO', 'IMUNODEPRE', 'OBESIDADE', 'DIARREIA', \n",
        "           'PERD_OLFT', 'FEBRE', 'RENAL', 'PNEUMOPATI', 'ASMA', 'NEUROLOGIC', 'FADIGA', 'DIABETES', 'DISPNEIA',\n",
        "           'PUERPERA', 'CARDIOPATI', 'GARGANTA', 'HEMATOLOGI', 'HEPATICA', 'SUPORT_VEN', 'PERD_PALA', 'VOMITO']\n",
        "\n",
        "srag.loc[:,colunas] = srag[colunas].fillna(9)\n",
        "srag.loc[:,colunas] = srag[fatores_de_risco].replace(9, 2)"
      ],
      "execution_count": null,
      "outputs": []
    },
    {
      "cell_type": "markdown",
      "metadata": {
        "id": "9xf6tyaqtP4X"
      },
      "source": [
        "Seguindo a primeira hipótese os dados nulos de `UTI`, `HOSPITAL` e `EVOLUCAO` foram preechidos como \"Ignorados\". "
      ]
    },
    {
      "cell_type": "code",
      "metadata": {
        "id": "McpXW_m4tP4X"
      },
      "source": [
        "#Tratamento de nulos\n",
        "colunas = ['UTI', 'HOSPITAL', 'EVOLUCAO']\n",
        "srag.loc[:,colunas] = srag[colunas].fillna(9)"
      ],
      "execution_count": null,
      "outputs": []
    },
    {
      "cell_type": "markdown",
      "metadata": {
        "id": "U9hOeRwgtP4X"
      },
      "source": [
        "A segunda hipótese pode ser testada para os atributos descritos acima. Dessa forma, ela foi avaliada e confirmada, segue abaixo as hipóteses que a confirmam para esses atributos.\n",
        "1. Se nenhum paciente com o atributo \"HOSPITAL\" marcado como \"ignorado\" registou data de internação, ele não foi internado.\n",
        "2. Se nenhum paciente com o atributo \"UTI\" marcado como \"ignorado\" registou data de internação na UTI, ele não foi internado na UTI."
      ]
    },
    {
      "cell_type": "code",
      "metadata": {
        "id": "ydKm2Vz8tP4X",
        "outputId": "42968d81-8e49-40bc-e118-11cc513efa84"
      },
      "source": [
        "#1. Nenhum paciente com o campo \"HOSPITAL\" ignorado registou data de internação\n",
        "srag[(srag['HOSPITAL'] == 9) & (srag['DT_INTERNA'].notnull())]"
      ],
      "execution_count": null,
      "outputs": [
        {
          "output_type": "execute_result",
          "data": {
            "text/html": [
              "<div>\n",
              "<style scoped>\n",
              "    .dataframe tbody tr th:only-of-type {\n",
              "        vertical-align: middle;\n",
              "    }\n",
              "\n",
              "    .dataframe tbody tr th {\n",
              "        vertical-align: top;\n",
              "    }\n",
              "\n",
              "    .dataframe thead th {\n",
              "        text-align: right;\n",
              "    }\n",
              "</style>\n",
              "<table border=\"1\" class=\"dataframe\">\n",
              "  <thead>\n",
              "    <tr style=\"text-align: right;\">\n",
              "      <th></th>\n",
              "      <th>DT_NOTIFIC</th>\n",
              "      <th>SEM_NOT</th>\n",
              "      <th>DT_SIN_PRI</th>\n",
              "      <th>CS_SEXO</th>\n",
              "      <th>NU_IDADE_N</th>\n",
              "      <th>SG_UF</th>\n",
              "      <th>FEBRE</th>\n",
              "      <th>TOSSE</th>\n",
              "      <th>GARGANTA</th>\n",
              "      <th>DISPNEIA</th>\n",
              "      <th>DESC_RESP</th>\n",
              "      <th>SATURACAO</th>\n",
              "      <th>DIARREIA</th>\n",
              "      <th>VOMITO</th>\n",
              "      <th>DOR_ABD</th>\n",
              "      <th>FADIGA</th>\n",
              "      <th>PERD_OLFT</th>\n",
              "      <th>PERD_PALA</th>\n",
              "      <th>FATOR_RISC</th>\n",
              "      <th>PUERPERA</th>\n",
              "      <th>CARDIOPATI</th>\n",
              "      <th>HEMATOLOGI</th>\n",
              "      <th>SIND_DOWN</th>\n",
              "      <th>HEPATICA</th>\n",
              "      <th>ASMA</th>\n",
              "      <th>DIABETES</th>\n",
              "      <th>NEUROLOGIC</th>\n",
              "      <th>PNEUMOPATI</th>\n",
              "      <th>IMUNODEPRE</th>\n",
              "      <th>RENAL</th>\n",
              "      <th>OBESIDADE</th>\n",
              "      <th>HOSPITAL</th>\n",
              "      <th>DT_INTERNA</th>\n",
              "      <th>UTI</th>\n",
              "      <th>DT_ENTUTI</th>\n",
              "      <th>DT_SAIDUTI</th>\n",
              "      <th>SUPORT_VEN</th>\n",
              "      <th>CLASSI_FIN</th>\n",
              "      <th>EVOLUCAO</th>\n",
              "      <th>DT_EVOLUCA</th>\n",
              "    </tr>\n",
              "  </thead>\n",
              "  <tbody>\n",
              "  </tbody>\n",
              "</table>\n",
              "</div>"
            ],
            "text/plain": [
              "Empty DataFrame\n",
              "Columns: [DT_NOTIFIC, SEM_NOT, DT_SIN_PRI, CS_SEXO, NU_IDADE_N, SG_UF, FEBRE, TOSSE, GARGANTA, DISPNEIA, DESC_RESP, SATURACAO, DIARREIA, VOMITO, DOR_ABD, FADIGA, PERD_OLFT, PERD_PALA, FATOR_RISC, PUERPERA, CARDIOPATI, HEMATOLOGI, SIND_DOWN, HEPATICA, ASMA, DIABETES, NEUROLOGIC, PNEUMOPATI, IMUNODEPRE, RENAL, OBESIDADE, HOSPITAL, DT_INTERNA, UTI, DT_ENTUTI, DT_SAIDUTI, SUPORT_VEN, CLASSI_FIN, EVOLUCAO, DT_EVOLUCA]\n",
              "Index: []"
            ]
          },
          "metadata": {
            "tags": []
          },
          "execution_count": 163
        }
      ]
    },
    {
      "cell_type": "code",
      "metadata": {
        "id": "7M-2vJ1GtP4X",
        "outputId": "89daeba7-f21f-4758-fc40-57f416351669"
      },
      "source": [
        "#2. Nenhum paciente com o campo \"UTI\" ignorado registou data de internação na UTI\n",
        "srag[(srag['UTI'] == 9) & (srag['DT_ENTUTI'].notnull())]"
      ],
      "execution_count": null,
      "outputs": [
        {
          "output_type": "execute_result",
          "data": {
            "text/html": [
              "<div>\n",
              "<style scoped>\n",
              "    .dataframe tbody tr th:only-of-type {\n",
              "        vertical-align: middle;\n",
              "    }\n",
              "\n",
              "    .dataframe tbody tr th {\n",
              "        vertical-align: top;\n",
              "    }\n",
              "\n",
              "    .dataframe thead th {\n",
              "        text-align: right;\n",
              "    }\n",
              "</style>\n",
              "<table border=\"1\" class=\"dataframe\">\n",
              "  <thead>\n",
              "    <tr style=\"text-align: right;\">\n",
              "      <th></th>\n",
              "      <th>DT_NOTIFIC</th>\n",
              "      <th>SEM_NOT</th>\n",
              "      <th>DT_SIN_PRI</th>\n",
              "      <th>CS_SEXO</th>\n",
              "      <th>NU_IDADE_N</th>\n",
              "      <th>SG_UF</th>\n",
              "      <th>FEBRE</th>\n",
              "      <th>TOSSE</th>\n",
              "      <th>GARGANTA</th>\n",
              "      <th>DISPNEIA</th>\n",
              "      <th>DESC_RESP</th>\n",
              "      <th>SATURACAO</th>\n",
              "      <th>DIARREIA</th>\n",
              "      <th>VOMITO</th>\n",
              "      <th>DOR_ABD</th>\n",
              "      <th>FADIGA</th>\n",
              "      <th>PERD_OLFT</th>\n",
              "      <th>PERD_PALA</th>\n",
              "      <th>FATOR_RISC</th>\n",
              "      <th>PUERPERA</th>\n",
              "      <th>CARDIOPATI</th>\n",
              "      <th>HEMATOLOGI</th>\n",
              "      <th>SIND_DOWN</th>\n",
              "      <th>HEPATICA</th>\n",
              "      <th>ASMA</th>\n",
              "      <th>DIABETES</th>\n",
              "      <th>NEUROLOGIC</th>\n",
              "      <th>PNEUMOPATI</th>\n",
              "      <th>IMUNODEPRE</th>\n",
              "      <th>RENAL</th>\n",
              "      <th>OBESIDADE</th>\n",
              "      <th>HOSPITAL</th>\n",
              "      <th>DT_INTERNA</th>\n",
              "      <th>UTI</th>\n",
              "      <th>DT_ENTUTI</th>\n",
              "      <th>DT_SAIDUTI</th>\n",
              "      <th>SUPORT_VEN</th>\n",
              "      <th>CLASSI_FIN</th>\n",
              "      <th>EVOLUCAO</th>\n",
              "      <th>DT_EVOLUCA</th>\n",
              "    </tr>\n",
              "  </thead>\n",
              "  <tbody>\n",
              "  </tbody>\n",
              "</table>\n",
              "</div>"
            ],
            "text/plain": [
              "Empty DataFrame\n",
              "Columns: [DT_NOTIFIC, SEM_NOT, DT_SIN_PRI, CS_SEXO, NU_IDADE_N, SG_UF, FEBRE, TOSSE, GARGANTA, DISPNEIA, DESC_RESP, SATURACAO, DIARREIA, VOMITO, DOR_ABD, FADIGA, PERD_OLFT, PERD_PALA, FATOR_RISC, PUERPERA, CARDIOPATI, HEMATOLOGI, SIND_DOWN, HEPATICA, ASMA, DIABETES, NEUROLOGIC, PNEUMOPATI, IMUNODEPRE, RENAL, OBESIDADE, HOSPITAL, DT_INTERNA, UTI, DT_ENTUTI, DT_SAIDUTI, SUPORT_VEN, CLASSI_FIN, EVOLUCAO, DT_EVOLUCA]\n",
              "Index: []"
            ]
          },
          "metadata": {
            "tags": []
          },
          "execution_count": 164
        }
      ]
    },
    {
      "cell_type": "markdown",
      "metadata": {
        "id": "xM_gQjy8tP4Y"
      },
      "source": [
        "Como a segunda hipótese foi confirmada para os atributos `UTI`, `HOSPITAL` e `EVOLUCAO`, seus dados foram marcados como \"Ignorado\" e transformados em \"Não\"."
      ]
    },
    {
      "cell_type": "code",
      "metadata": {
        "id": "5GBOq-EotP4Y"
      },
      "source": [
        "#Instâncias com o campo \"HOSPITAL\" ignorado foram preenchidos como: não internados. \n",
        "srag.loc[srag['HOSPITAL'] == 9, 'HOSPITAL'] = 2\n",
        "#Instâncias com o campo \"UTI\" ignorado foram preenchidos como: não internados na UTI.\n",
        "srag.loc[srag['UTI'] == 9, 'UTI'] = 2"
      ],
      "execution_count": null,
      "outputs": []
    },
    {
      "cell_type": "markdown",
      "metadata": {
        "id": "m0XEwnNrtP4Y"
      },
      "source": [
        "Os atributos que representam data foram convertidos para datatime para facilitar a análise posterior por um formato conveniente."
      ]
    },
    {
      "cell_type": "code",
      "metadata": {
        "id": "9LNsdjaotP4Y"
      },
      "source": [
        "#Converte para datetime\n",
        "colunas_datatime = ['DT_NOTIFIC', 'DT_SIN_PRI', 'DT_INTERNA', 'DT_ENTUTI', 'DT_SAIDUTI', 'DT_EVOLUCA']\n",
        "\n",
        "for coluna in colunas_datatime:\n",
        "    srag[coluna] = pd.to_datetime(srag[coluna], errors=\"coerce\", dayfirst=True)"
      ],
      "execution_count": null,
      "outputs": []
    },
    {
      "cell_type": "markdown",
      "metadata": {
        "id": "-IneB5ujtP4Y"
      },
      "source": [
        "O dataset teoricamente deveria ter apenas notificações do ano de 2021. Desse modo, a fim de garantir a consistência dos dados, instâncias com outras datas foram removidas."
      ]
    },
    {
      "cell_type": "code",
      "metadata": {
        "id": "s_Axi93HtP4Y"
      },
      "source": [
        "#Remove datas inválidas\n",
        "for column in colunas_datatime:\n",
        "    srag = srag[(srag[column].dt.year == 2021) | (srag[column].isnull())]"
      ],
      "execution_count": null,
      "outputs": []
    },
    {
      "cell_type": "markdown",
      "metadata": {
        "id": "sBJrWWSmtP4Z"
      },
      "source": [
        "Por fim, obteve-se as colunas referentes ao tempo de internação(`TEMPO_INTER`) no hospital e tempo de internação na UTI(`TEMPO_UTI`), atributos necessários as análises posteriores."
      ]
    },
    {
      "cell_type": "code",
      "metadata": {
        "scrolled": true,
        "id": "bdGqhBphtP4Z"
      },
      "source": [
        "#Colunas tempo de internação e UTI (datatime)\n",
        "srag[\"TEMPO_INTER\"] = srag[\"DT_EVOLUCA\"] - srag[\"DT_INTERNA\"]\n",
        "srag[\"TEMPO_UTI\"] = srag[\"DT_SAIDUTI\"] - srag[\"DT_ENTUTI\"]\n",
        "\n",
        "#Conversão para dias (inteiro)\n",
        "for column in ['TEMPO_INTER', 'TEMPO_UTI']:\n",
        "    srag.loc[srag[column].notnull(), column] = srag[column].dt.days"
      ],
      "execution_count": null,
      "outputs": []
    },
    {
      "cell_type": "markdown",
      "metadata": {
        "id": "bXTYtxIwtP4Z"
      },
      "source": [
        "Por fim, o dataset é exportado para uso posterior."
      ]
    },
    {
      "cell_type": "code",
      "metadata": {
        "id": "Gj5IZ0VStP4Z"
      },
      "source": [
        "srag.to_csv('Datasets/SRAG/SRAG - Nordeste2.csv', index=False)"
      ],
      "execution_count": null,
      "outputs": []
    },
    {
      "cell_type": "markdown",
      "metadata": {
        "id": "0xxQnqDBtP4Z"
      },
      "source": [
        "## **5 Perguntas**"
      ]
    },
    {
      "cell_type": "markdown",
      "metadata": {
        "id": "hjd6e8UQ_edU"
      },
      "source": [
        "### 1. Proporção de pacientes que tomaram a primeira dose da vacina, mas não tomaram a segunda dose dentro do período de tempo estabelecido pelo fabricante da vacina."
      ]
    },
    {
      "cell_type": "code",
      "metadata": {
        "id": "JCvhVBxV_edU"
      },
      "source": [
        "cnvcc = pd.read_csv(\"Datasets/CNVCC/CNVCC - Nordeste2.csv\")"
      ],
      "execution_count": null,
      "outputs": []
    },
    {
      "cell_type": "code",
      "metadata": {
        "id": "azcdV-D2_edU",
        "outputId": "7f558b77-45ed-492e-a149-0aa65ed0495d"
      },
      "source": [
        "cnvcc.head()"
      ],
      "execution_count": null,
      "outputs": [
        {
          "output_type": "execute_result",
          "data": {
            "text/html": [
              "<div>\n",
              "<style scoped>\n",
              "    .dataframe tbody tr th:only-of-type {\n",
              "        vertical-align: middle;\n",
              "    }\n",
              "\n",
              "    .dataframe tbody tr th {\n",
              "        vertical-align: top;\n",
              "    }\n",
              "\n",
              "    .dataframe thead th {\n",
              "        text-align: right;\n",
              "    }\n",
              "</style>\n",
              "<table border=\"1\" class=\"dataframe\">\n",
              "  <thead>\n",
              "    <tr style=\"text-align: right;\">\n",
              "      <th></th>\n",
              "      <th>id</th>\n",
              "      <th>idade</th>\n",
              "      <th>sexo</th>\n",
              "      <th>estado</th>\n",
              "      <th>categoria_vacinacao</th>\n",
              "      <th>primeira_dose</th>\n",
              "      <th>data_aplicacao_1</th>\n",
              "      <th>nome_vacina_1</th>\n",
              "      <th>segunda_dose</th>\n",
              "      <th>data_aplicacao_2</th>\n",
              "      <th>nome_vacina_2</th>\n",
              "    </tr>\n",
              "  </thead>\n",
              "  <tbody>\n",
              "    <tr>\n",
              "      <th>0</th>\n",
              "      <td>80a9a6b3b420e62ef72af97109c2b5e19c31be5a51443e98ade139d5c0b4bba7</td>\n",
              "      <td>40</td>\n",
              "      <td>M</td>\n",
              "      <td>BA</td>\n",
              "      <td>Trabalhadores de Saúde</td>\n",
              "      <td>1</td>\n",
              "      <td>2021-01-01</td>\n",
              "      <td>2</td>\n",
              "      <td>1</td>\n",
              "      <td>2021-03-03</td>\n",
              "      <td>2</td>\n",
              "    </tr>\n",
              "    <tr>\n",
              "      <th>1</th>\n",
              "      <td>ade18a9f602f43b0913e58dd0017ab948ade12b9d93dfadbb1c671ef08c6184d</td>\n",
              "      <td>59</td>\n",
              "      <td>F</td>\n",
              "      <td>RN</td>\n",
              "      <td>Trabalhadores de Saúde</td>\n",
              "      <td>1</td>\n",
              "      <td>2021-01-01</td>\n",
              "      <td>1</td>\n",
              "      <td>1</td>\n",
              "      <td>2021-04-12</td>\n",
              "      <td>1</td>\n",
              "    </tr>\n",
              "    <tr>\n",
              "      <th>2</th>\n",
              "      <td>b9df4cc60d2a4ca7322487617364dbf488507ab76f5e75693c4ec19e608dbff3</td>\n",
              "      <td>28</td>\n",
              "      <td>M</td>\n",
              "      <td>CE</td>\n",
              "      <td>Trabalhadores de Saúde</td>\n",
              "      <td>1</td>\n",
              "      <td>2021-01-01</td>\n",
              "      <td>2</td>\n",
              "      <td>1</td>\n",
              "      <td>2021-02-22</td>\n",
              "      <td>2</td>\n",
              "    </tr>\n",
              "    <tr>\n",
              "      <th>3</th>\n",
              "      <td>540ed555c1d833a469d4ab4fc50e8d521eb13987d52f0bb146786913d4842714</td>\n",
              "      <td>42</td>\n",
              "      <td>F</td>\n",
              "      <td>BA</td>\n",
              "      <td>Trabalhadores de Saúde</td>\n",
              "      <td>1</td>\n",
              "      <td>2021-01-01</td>\n",
              "      <td>2</td>\n",
              "      <td>1</td>\n",
              "      <td>2021-03-01</td>\n",
              "      <td>2</td>\n",
              "    </tr>\n",
              "    <tr>\n",
              "      <th>4</th>\n",
              "      <td>7149bde02e21ff14d09cebe2e811b8b825754e8ed3fbe78c78efd0966a6dd91c</td>\n",
              "      <td>46</td>\n",
              "      <td>F</td>\n",
              "      <td>BA</td>\n",
              "      <td>Trabalhadores de Saúde</td>\n",
              "      <td>1</td>\n",
              "      <td>2021-01-01</td>\n",
              "      <td>2</td>\n",
              "      <td>1</td>\n",
              "      <td>2021-03-01</td>\n",
              "      <td>2</td>\n",
              "    </tr>\n",
              "  </tbody>\n",
              "</table>\n",
              "</div>"
            ],
            "text/plain": [
              "                                                                 id  idade  \\\n",
              "0  80a9a6b3b420e62ef72af97109c2b5e19c31be5a51443e98ade139d5c0b4bba7     40   \n",
              "1  ade18a9f602f43b0913e58dd0017ab948ade12b9d93dfadbb1c671ef08c6184d     59   \n",
              "2  b9df4cc60d2a4ca7322487617364dbf488507ab76f5e75693c4ec19e608dbff3     28   \n",
              "3  540ed555c1d833a469d4ab4fc50e8d521eb13987d52f0bb146786913d4842714     42   \n",
              "4  7149bde02e21ff14d09cebe2e811b8b825754e8ed3fbe78c78efd0966a6dd91c     46   \n",
              "\n",
              "  sexo estado     categoria_vacinacao  primeira_dose data_aplicacao_1  \\\n",
              "0    M     BA  Trabalhadores de Saúde              1       2021-01-01   \n",
              "1    F     RN  Trabalhadores de Saúde              1       2021-01-01   \n",
              "2    M     CE  Trabalhadores de Saúde              1       2021-01-01   \n",
              "3    F     BA  Trabalhadores de Saúde              1       2021-01-01   \n",
              "4    F     BA  Trabalhadores de Saúde              1       2021-01-01   \n",
              "\n",
              "   nome_vacina_1  segunda_dose data_aplicacao_2  nome_vacina_2  \n",
              "0              2             1       2021-03-03              2  \n",
              "1              1             1       2021-04-12              1  \n",
              "2              2             1       2021-02-22              2  \n",
              "3              2             1       2021-03-01              2  \n",
              "4              2             1       2021-03-01              2  "
            ]
          },
          "metadata": {
            "tags": []
          },
          "execution_count": 5
        }
      ]
    },
    {
      "cell_type": "markdown",
      "metadata": {
        "id": "mY7Pym5U_edU"
      },
      "source": [
        "Para responder a pergunta de maneira confiável, foi necessário dividir a solução em duas abordagens, uma vez que existem pacientes que não tomaram as duas doses. Cada caso precisou ser tratado em suas particularidade e considerando as limitações da suas interpretações.\n",
        "\n",
        "A primeira abordagem consiste em analisar os casos em que os pacientes tomaram as duas doses, assim pode-se verificar o cumprimento do prazo mínimo e máximo. Segue, o pipeline da solução:\n",
        "1. Selecionar, os pacientes que tomaram as duas doses da vacina, obter o intervalo de dias entre a aplicação das duas doses e verificar a quantidade de pacientes que tomaram a segunda dose fora do intervalo mínimo e máximo indicado pelas fabricantes das respectivas vacinas.  \n",
        "\n",
        "A segunda abordagem consiste em analisar os casos em que os pacientes tomaram apenas a primeira dose, portanto, podemos apenas verificar o cumprimento do prazo máximo até a data de publicação do dataset. Segue, o pipeline da solução:  \n",
        "\n",
        "2. Selecionar, os pacientes que tomaram apenas a primeira vacina, preencher a data da segunda dose com a data da disponibilização dos dados, obter o intervalo de dias entre a aplicação das duas doses e verificar a quantidade de pacientes que extrapolaram o prazo máximo.\n",
        "\n",
        "Excepcionalmente a não encontramos prazo mínimo para a vacina da Pfizer, portanto, analisamos apenas seu prazo máximo."
      ]
    },
    {
      "cell_type": "markdown",
      "metadata": {
        "id": "XKhamZHm_edV"
      },
      "source": [
        "**Primeira abordagem**"
      ]
    },
    {
      "cell_type": "code",
      "metadata": {
        "id": "_ZVvn5S4_edV"
      },
      "source": [
        "#Seleção de todos aqueles que tomaram as duas doses da vacina\n",
        "cnvcc1 = cnvcc[(cnvcc[\"primeira_dose\"] == 1) & (cnvcc[\"segunda_dose\"] == 1)]"
      ],
      "execution_count": null,
      "outputs": []
    },
    {
      "cell_type": "code",
      "metadata": {
        "id": "ypUdWHB7_edV"
      },
      "source": [
        "#Adequação das datas ao formato conveniente para para processamento\n",
        "cnvcc1[\"data_aplicacao_1\"] = pd.to_datetime(cnvcc1[\"data_aplicacao_1\"])\n",
        "cnvcc1[\"data_aplicacao_2\"] = pd.to_datetime(cnvcc1[\"data_aplicacao_2\"])"
      ],
      "execution_count": null,
      "outputs": []
    },
    {
      "cell_type": "code",
      "metadata": {
        "id": "nRHmLHnc_edV"
      },
      "source": [
        "#Criação da nova coluna que armazena o intervalo entra a data da primeira e segunda dose da vacina \n",
        "cnvcc1[\"dias_entre_doses\"] = (cnvcc1[\"data_aplicacao_2\"] - cnvcc1[\"data_aplicacao_1\"]).dt.days"
      ],
      "execution_count": null,
      "outputs": []
    },
    {
      "cell_type": "code",
      "metadata": {
        "id": "2D5ysgYm_edV"
      },
      "source": [
        "#Determinacao do numero dos vacinados fora do periodo estabelecido pelo fabricante de cada vacina\n",
        "fora_do_intervalo = 0\n",
        "\n",
        "#Astrazeneca 28 e 84 dias\n",
        "fora_do_intervalo += cnvcc1[(cnvcc1[\"nome_vacina_1\"] == 1) & \n",
        "                            ((cnvcc1[\"dias_entre_doses\"] < 28) | (cnvcc1[\"dias_entre_doses\"] > 84))].shape[0]\n",
        "\n",
        "#CoronaVac 14 e 28 dias\n",
        "fora_do_intervalo += cnvcc1[(cnvcc1[\"nome_vacina_1\"] == 2) & \n",
        "                            ((cnvcc1[\"dias_entre_doses\"] < 14) | (cnvcc1[\"dias_entre_doses\"] > 28))].shape[0]\n",
        "\n",
        "#CoviShield 28 e 84 dias\n",
        "fora_do_intervalo += cnvcc1[(cnvcc1[\"nome_vacina_1\"] == 3) & \n",
        "                            ((cnvcc1[\"dias_entre_doses\"] < 28) | (cnvcc1[\"dias_entre_doses\"] > 84))].shape[0]\n",
        "      \n",
        "#Pfizer maxima de 21 dias\n",
        "fora_do_intervalo += cnvcc1[(cnvcc1[\"nome_vacina_1\"] == 4) & (cnvcc1[\"dias_entre_doses\"] > 21)].shape[0]"
      ],
      "execution_count": null,
      "outputs": []
    },
    {
      "cell_type": "markdown",
      "metadata": {
        "id": "cLpfzt5t_edW"
      },
      "source": [
        "**Segunda abordagem**"
      ]
    },
    {
      "cell_type": "code",
      "metadata": {
        "id": "idOnnckU_edW"
      },
      "source": [
        "#Seleção de todos aqueles que tomaram apena a primeira dose da vacina\n",
        "cnvcc2 = cnvcc[(cnvcc[\"primeira_dose\"] == 1) & (cnvcc[\"segunda_dose\"] == 0)]"
      ],
      "execution_count": null,
      "outputs": []
    },
    {
      "cell_type": "code",
      "metadata": {
        "id": "F8tVibUe_edW"
      },
      "source": [
        "#Setando a data da segunda dose (data limite) como a data de publicacao do dataset\n",
        "cnvcc2 = cnvcc2.fillna(value = {\"data_aplicacao_2\": pd.Timestamp(\"2021-05-05\")})"
      ],
      "execution_count": null,
      "outputs": []
    },
    {
      "cell_type": "code",
      "metadata": {
        "id": "Gp6D7OLV_edW"
      },
      "source": [
        "#Adequação das datas ao formato conveniente para para processamento\n",
        "cnvcc2[\"data_aplicacao_1\"] = pd.to_datetime(cnvcc2[\"data_aplicacao_1\"])\n",
        "cnvcc2[\"data_aplicacao_2\"] = pd.to_datetime(cnvcc2[\"data_aplicacao_2\"])"
      ],
      "execution_count": null,
      "outputs": []
    },
    {
      "cell_type": "code",
      "metadata": {
        "id": "pVVExKNc_edW"
      },
      "source": [
        "#Criação da nova coluna que armazena o intervalo de tempo entre a data da primeira dose e a data limite\n",
        "cnvcc2[\"dias_entre_doses\"] = (cnvcc2[\"data_aplicacao_2\"] - cnvcc2[\"data_aplicacao_1\"]).dt.days"
      ],
      "execution_count": null,
      "outputs": []
    },
    {
      "cell_type": "code",
      "metadata": {
        "id": "pZnzF5wg_edW"
      },
      "source": [
        "#Astrazeneca 28 e 84 dias\n",
        "fora_do_intervalo += cnvcc2[(cnvcc2[\"nome_vacina_1\"] == 1) & (cnvcc2[\"dias_entre_doses\"] > 84)].shape[0]\n",
        "\n",
        "#CoronaVac 14 e 28 dias\n",
        "fora_do_intervalo += cnvcc2[(cnvcc2[\"nome_vacina_1\"] == 2) & (cnvcc2[\"dias_entre_doses\"] > 28)].shape[0]\n",
        "\n",
        "#CoviShield 28 e 84 dias\n",
        "fora_do_intervalo += cnvcc2[(cnvcc2[\"nome_vacina_1\"] == 3) & (cnvcc2[\"dias_entre_doses\"] > 84)].shape[0]\n",
        "\n",
        "#Pfizer maxima de 21 dias\n",
        "fora_do_intervalo += cnvcc2[(cnvcc2[\"nome_vacina_1\"] == 4) & (cnvcc2[\"dias_entre_doses\"] > 21)].shape[0]"
      ],
      "execution_count": null,
      "outputs": []
    },
    {
      "cell_type": "code",
      "metadata": {
        "scrolled": true,
        "id": "yXTzupgz_edW",
        "outputId": "34ae76c3-6661-4072-e570-96a8889420dd"
      },
      "source": [
        "print(f'Número de vacinados fora do intervalo recomendado pelas fabricantes de vacina: {fora_do_intervalo}')"
      ],
      "execution_count": null,
      "outputs": [
        {
          "output_type": "stream",
          "text": [
            "Número de vacinados fora do intervalo recomendado pelas fabricantes de vacina: 1996108\n"
          ],
          "name": "stdout"
        }
      ]
    },
    {
      "cell_type": "markdown",
      "metadata": {
        "id": "l0LO7w0y_edX"
      },
      "source": [
        "Considerando os indivíduos que tomaram duas doses da vacina, e aqueles indivíduos que tomaram apenas uma, mas destes últimos desconsiderados aqueles indivíduos que apresentam intervalo entre as doses inferior ao estabelecido pelos fabricantes. Bem como tomado a data de disponibilidade do dataset na devida plataforma como data limite temos que aproximadamente 25,37% dos vacinados apresentam um intervalo entre as doses da vacina não compatível com aquele indicado pelos fabricantes."
      ]
    },
    {
      "cell_type": "markdown",
      "metadata": {
        "id": "N9d6dM5QtP4c"
      },
      "source": [
        "### 2. Quantidade de pessoas que tomaram doses de vacinas de fabricantes diferentes."
      ]
    },
    {
      "cell_type": "code",
      "metadata": {
        "id": "OMUUNoIetP4c"
      },
      "source": [
        "#Número de pessoas que tomaram doses de vacinas diferentes\n",
        "doses_diferentes = cnvcc1[cnvcc1[\"nome_vacina_1\"] != cnvcc1[\"nome_vacina_2\"]].shape[0]"
      ],
      "execution_count": null,
      "outputs": []
    },
    {
      "cell_type": "code",
      "metadata": {
        "id": "G5OSHm8KtP4c"
      },
      "source": [
        "print(f'Número de pacientes que tomaram doses de vacinas diferentes: {doses_diferentes}')"
      ],
      "execution_count": null,
      "outputs": []
    },
    {
      "cell_type": "markdown",
      "metadata": {
        "id": "Ckg_FRlZtP4c"
      },
      "source": [
        "Descobrimos que 16163 pacientes tomaram vacinas de abricantes diferentes. Essa é uma quantidade de significativa de pessoa e demonstra fragilidades no monitoramento dos pacientes assistidos pela Campanha Nacional de Vacinação. "
      ]
    },
    {
      "cell_type": "markdown",
      "metadata": {
        "id": "yEWGBa9NtP4c"
      },
      "source": [
        "### 3. Análise da porcentagem de vacinados em cada estado do nordeste em relação às suas respectivas populações, a fim de verificar se o estado optou por vacinar o maior número de pessoas com a primeira dose, aumentando o intervalo entre as doses, ou vacinar o maior número de pessoas com as duas doses, reduzindo esse intervalo."
      ]
    },
    {
      "cell_type": "code",
      "metadata": {
        "id": "j78IX4bGtP4d"
      },
      "source": [
        "#Populações dos estados do nordeste brasileiro\n",
        "pop_estado = pd.Series({'AL': 3322820, 'BA': 14812617, 'CE': 9075649, 'MA': 7035055, 'PB': 3996496, \n",
        "                        'PE': 9496294, 'PI': 3264531, 'RN': 3479010, 'SE': 2278308})"
      ],
      "execution_count": null,
      "outputs": []
    },
    {
      "cell_type": "code",
      "metadata": {
        "id": "6KmoGSh5tP4d"
      },
      "source": [
        "#Porcentagem por estado da populacao vacinada com a primeira dose da vacina\n",
        "primeira_dose = cnvcc[cnvcc[\"primeira_dose\"] == 1].groupby('estado').size() / pop_estado\n",
        "\n",
        "#Porcentagem por estado da populacao vacinada com as duas doses da vacina\n",
        "segunda_dose = cnvcc[cnvcc[\"segunda_dose\"] == 1].groupby('estado').size() / pop_estado"
      ],
      "execution_count": null,
      "outputs": []
    },
    {
      "cell_type": "code",
      "metadata": {
        "id": "vNZb7zcItP4d",
        "outputId": "dc9463e7-e45a-49e1-da5d-b1c1d170a784"
      },
      "source": [
        "import matplotlib.patches as mpatches\n",
        "\n",
        "#Proporção de vacinados com apenas a 1 dose e proporção de vacinados com as duas doses\n",
        "bar1 = sns.barplot(x=primeira_dose.index,  y=primeira_dose, color='lightblue')\n",
        "bar2 = sns.barplot(x=segunda_dose.index, y=segunda_dose, color='darkblue')\n",
        "\n",
        "top_bar = mpatches.Patch(color='lightblue', label='1 Dose')\n",
        "bottom_bar = mpatches.Patch(color='darkblue', label='1 e 2 Dose')\n",
        "plt.legend(handles=[top_bar, bottom_bar])\n",
        "\n",
        "plt.xlabel('Estado do Nordeste', fontsize=10)\n",
        "plt.ylabel('Proporção da População', fontsize=10)\n",
        "\n",
        "plt.title('Proporção de Vacinados')\n",
        "plt.show()"
      ],
      "execution_count": null,
      "outputs": [
        {
          "output_type": "display_data",
          "data": {
            "image/png": "[encoded data removed]",
            "text/plain": [
              "<Figure size 432x288 with 1 Axes>"
            ]
          },
          "metadata": {
            "tags": [],
            "needs_background": "light"
          }
        }
      ]
    },
    {
      "cell_type": "markdown",
      "metadata": {
        "id": "H9OGf18atP4d"
      },
      "source": [
        "Pela observação gráfica não é possível encontrar diferenças significativas que possam indicar estratégias diferentes entre os estados do Nordeste em relação as escolhas de vacinar primeiro a maior parte da população com a primeira dose ou vacinar primeiro a maior parte da população com as duas doses. Outras estatísticas e pesquisas são necessárias para fornecer os subsídios necessários à essa compreensão. "
      ]
    },
    {
      "cell_type": "markdown",
      "metadata": {
        "id": "mRbpftB0tP4d"
      },
      "source": [
        "### 4. A taxa de mortalidade por SRAGs por estado do nordeste brasileiro 2021. "
      ]
    },
    {
      "cell_type": "code",
      "metadata": {
        "id": "3c3PXDi85P6j"
      },
      "source": [
        "srag = pd.read_csv('Datasets/SRAG/SRAG - Nordeste2.csv')"
      ],
      "execution_count": null,
      "outputs": []
    },
    {
      "cell_type": "code",
      "metadata": {
        "id": "9XnkYkqttP4e",
        "outputId": "fd1c44a4-a034-453f-b158-7e66592116d8"
      },
      "source": [
        "srag.head()"
      ],
      "execution_count": null,
      "outputs": [
        {
          "output_type": "execute_result",
          "data": {
            "text/html": [
              "<div>\n",
              "<style scoped>\n",
              "    .dataframe tbody tr th:only-of-type {\n",
              "        vertical-align: middle;\n",
              "    }\n",
              "\n",
              "    .dataframe tbody tr th {\n",
              "        vertical-align: top;\n",
              "    }\n",
              "\n",
              "    .dataframe thead th {\n",
              "        text-align: right;\n",
              "    }\n",
              "</style>\n",
              "<table border=\"1\" class=\"dataframe\">\n",
              "  <thead>\n",
              "    <tr style=\"text-align: right;\">\n",
              "      <th></th>\n",
              "      <th>DT_NOTIFIC</th>\n",
              "      <th>SEM_NOT</th>\n",
              "      <th>DT_SIN_PRI</th>\n",
              "      <th>CS_SEXO</th>\n",
              "      <th>NU_IDADE_N</th>\n",
              "      <th>SG_UF</th>\n",
              "      <th>FEBRE</th>\n",
              "      <th>TOSSE</th>\n",
              "      <th>GARGANTA</th>\n",
              "      <th>DISPNEIA</th>\n",
              "      <th>DESC_RESP</th>\n",
              "      <th>SATURACAO</th>\n",
              "      <th>DIARREIA</th>\n",
              "      <th>VOMITO</th>\n",
              "      <th>DOR_ABD</th>\n",
              "      <th>FADIGA</th>\n",
              "      <th>PERD_OLFT</th>\n",
              "      <th>PERD_PALA</th>\n",
              "      <th>FATOR_RISC</th>\n",
              "      <th>PUERPERA</th>\n",
              "      <th>CARDIOPATI</th>\n",
              "      <th>HEMATOLOGI</th>\n",
              "      <th>SIND_DOWN</th>\n",
              "      <th>HEPATICA</th>\n",
              "      <th>ASMA</th>\n",
              "      <th>DIABETES</th>\n",
              "      <th>NEUROLOGIC</th>\n",
              "      <th>PNEUMOPATI</th>\n",
              "      <th>IMUNODEPRE</th>\n",
              "      <th>RENAL</th>\n",
              "      <th>OBESIDADE</th>\n",
              "      <th>HOSPITAL</th>\n",
              "      <th>DT_INTERNA</th>\n",
              "      <th>UTI</th>\n",
              "      <th>DT_ENTUTI</th>\n",
              "      <th>DT_SAIDUTI</th>\n",
              "      <th>SUPORT_VEN</th>\n",
              "      <th>CLASSI_FIN</th>\n",
              "      <th>EVOLUCAO</th>\n",
              "      <th>DT_EVOLUCA</th>\n",
              "      <th>TEMPO_INTER</th>\n",
              "      <th>TEMPO_UTI</th>\n",
              "    </tr>\n",
              "  </thead>\n",
              "  <tbody>\n",
              "    <tr>\n",
              "      <th>0</th>\n",
              "      <td>2021-01-06</td>\n",
              "      <td>1</td>\n",
              "      <td>2021-01-03</td>\n",
              "      <td>F</td>\n",
              "      <td>80</td>\n",
              "      <td>PE</td>\n",
              "      <td>NaN</td>\n",
              "      <td>NaN</td>\n",
              "      <td>NaN</td>\n",
              "      <td>NaN</td>\n",
              "      <td>NaN</td>\n",
              "      <td>NaN</td>\n",
              "      <td>NaN</td>\n",
              "      <td>NaN</td>\n",
              "      <td>NaN</td>\n",
              "      <td>NaN</td>\n",
              "      <td>NaN</td>\n",
              "      <td>NaN</td>\n",
              "      <td>S</td>\n",
              "      <td>2.0</td>\n",
              "      <td>1.0</td>\n",
              "      <td>2.0</td>\n",
              "      <td>2.0</td>\n",
              "      <td>2.0</td>\n",
              "      <td>2.0</td>\n",
              "      <td>2.0</td>\n",
              "      <td>1.0</td>\n",
              "      <td>2.0</td>\n",
              "      <td>2.0</td>\n",
              "      <td>2.0</td>\n",
              "      <td>2.0</td>\n",
              "      <td>1.0</td>\n",
              "      <td>2021-01-05</td>\n",
              "      <td>2.0</td>\n",
              "      <td>NaN</td>\n",
              "      <td>NaN</td>\n",
              "      <td>NaN</td>\n",
              "      <td>5.0</td>\n",
              "      <td>2.0</td>\n",
              "      <td>2021-01-13</td>\n",
              "      <td>8.0</td>\n",
              "      <td>NaN</td>\n",
              "    </tr>\n",
              "    <tr>\n",
              "      <th>1</th>\n",
              "      <td>2021-01-08</td>\n",
              "      <td>1</td>\n",
              "      <td>2021-01-04</td>\n",
              "      <td>F</td>\n",
              "      <td>1</td>\n",
              "      <td>PB</td>\n",
              "      <td>NaN</td>\n",
              "      <td>NaN</td>\n",
              "      <td>NaN</td>\n",
              "      <td>NaN</td>\n",
              "      <td>NaN</td>\n",
              "      <td>NaN</td>\n",
              "      <td>NaN</td>\n",
              "      <td>NaN</td>\n",
              "      <td>NaN</td>\n",
              "      <td>NaN</td>\n",
              "      <td>NaN</td>\n",
              "      <td>NaN</td>\n",
              "      <td>N</td>\n",
              "      <td>2.0</td>\n",
              "      <td>2.0</td>\n",
              "      <td>2.0</td>\n",
              "      <td>2.0</td>\n",
              "      <td>2.0</td>\n",
              "      <td>2.0</td>\n",
              "      <td>2.0</td>\n",
              "      <td>2.0</td>\n",
              "      <td>2.0</td>\n",
              "      <td>2.0</td>\n",
              "      <td>2.0</td>\n",
              "      <td>2.0</td>\n",
              "      <td>1.0</td>\n",
              "      <td>2021-01-08</td>\n",
              "      <td>2.0</td>\n",
              "      <td>NaN</td>\n",
              "      <td>NaN</td>\n",
              "      <td>NaN</td>\n",
              "      <td>5.0</td>\n",
              "      <td>1.0</td>\n",
              "      <td>2021-01-10</td>\n",
              "      <td>2.0</td>\n",
              "      <td>NaN</td>\n",
              "    </tr>\n",
              "    <tr>\n",
              "      <th>2</th>\n",
              "      <td>2021-01-11</td>\n",
              "      <td>2</td>\n",
              "      <td>2021-01-05</td>\n",
              "      <td>F</td>\n",
              "      <td>68</td>\n",
              "      <td>BA</td>\n",
              "      <td>NaN</td>\n",
              "      <td>NaN</td>\n",
              "      <td>NaN</td>\n",
              "      <td>NaN</td>\n",
              "      <td>NaN</td>\n",
              "      <td>NaN</td>\n",
              "      <td>NaN</td>\n",
              "      <td>NaN</td>\n",
              "      <td>NaN</td>\n",
              "      <td>NaN</td>\n",
              "      <td>NaN</td>\n",
              "      <td>NaN</td>\n",
              "      <td>S</td>\n",
              "      <td>2.0</td>\n",
              "      <td>1.0</td>\n",
              "      <td>2.0</td>\n",
              "      <td>2.0</td>\n",
              "      <td>2.0</td>\n",
              "      <td>2.0</td>\n",
              "      <td>1.0</td>\n",
              "      <td>2.0</td>\n",
              "      <td>2.0</td>\n",
              "      <td>2.0</td>\n",
              "      <td>2.0</td>\n",
              "      <td>2.0</td>\n",
              "      <td>1.0</td>\n",
              "      <td>2021-01-09</td>\n",
              "      <td>1.0</td>\n",
              "      <td>2021-01-09</td>\n",
              "      <td>2021-01-19</td>\n",
              "      <td>NaN</td>\n",
              "      <td>4.0</td>\n",
              "      <td>1.0</td>\n",
              "      <td>2021-01-25</td>\n",
              "      <td>16.0</td>\n",
              "      <td>10.0</td>\n",
              "    </tr>\n",
              "    <tr>\n",
              "      <th>3</th>\n",
              "      <td>2021-04-14</td>\n",
              "      <td>15</td>\n",
              "      <td>2021-04-12</td>\n",
              "      <td>M</td>\n",
              "      <td>87</td>\n",
              "      <td>BA</td>\n",
              "      <td>NaN</td>\n",
              "      <td>NaN</td>\n",
              "      <td>NaN</td>\n",
              "      <td>NaN</td>\n",
              "      <td>NaN</td>\n",
              "      <td>NaN</td>\n",
              "      <td>NaN</td>\n",
              "      <td>NaN</td>\n",
              "      <td>NaN</td>\n",
              "      <td>NaN</td>\n",
              "      <td>NaN</td>\n",
              "      <td>NaN</td>\n",
              "      <td>S</td>\n",
              "      <td>2.0</td>\n",
              "      <td>2.0</td>\n",
              "      <td>2.0</td>\n",
              "      <td>2.0</td>\n",
              "      <td>2.0</td>\n",
              "      <td>2.0</td>\n",
              "      <td>2.0</td>\n",
              "      <td>2.0</td>\n",
              "      <td>2.0</td>\n",
              "      <td>1.0</td>\n",
              "      <td>2.0</td>\n",
              "      <td>2.0</td>\n",
              "      <td>1.0</td>\n",
              "      <td>2021-04-05</td>\n",
              "      <td>2.0</td>\n",
              "      <td>NaN</td>\n",
              "      <td>NaN</td>\n",
              "      <td>NaN</td>\n",
              "      <td>4.0</td>\n",
              "      <td>9.0</td>\n",
              "      <td>NaN</td>\n",
              "      <td>NaN</td>\n",
              "      <td>NaN</td>\n",
              "    </tr>\n",
              "    <tr>\n",
              "      <th>4</th>\n",
              "      <td>2021-01-03</td>\n",
              "      <td>1</td>\n",
              "      <td>2021-01-03</td>\n",
              "      <td>F</td>\n",
              "      <td>54</td>\n",
              "      <td>AL</td>\n",
              "      <td>NaN</td>\n",
              "      <td>NaN</td>\n",
              "      <td>NaN</td>\n",
              "      <td>NaN</td>\n",
              "      <td>NaN</td>\n",
              "      <td>NaN</td>\n",
              "      <td>NaN</td>\n",
              "      <td>NaN</td>\n",
              "      <td>NaN</td>\n",
              "      <td>NaN</td>\n",
              "      <td>NaN</td>\n",
              "      <td>NaN</td>\n",
              "      <td>S</td>\n",
              "      <td>2.0</td>\n",
              "      <td>1.0</td>\n",
              "      <td>2.0</td>\n",
              "      <td>2.0</td>\n",
              "      <td>2.0</td>\n",
              "      <td>2.0</td>\n",
              "      <td>1.0</td>\n",
              "      <td>2.0</td>\n",
              "      <td>2.0</td>\n",
              "      <td>2.0</td>\n",
              "      <td>2.0</td>\n",
              "      <td>2.0</td>\n",
              "      <td>1.0</td>\n",
              "      <td>2021-01-03</td>\n",
              "      <td>2.0</td>\n",
              "      <td>NaN</td>\n",
              "      <td>NaN</td>\n",
              "      <td>NaN</td>\n",
              "      <td>5.0</td>\n",
              "      <td>1.0</td>\n",
              "      <td>2021-01-14</td>\n",
              "      <td>11.0</td>\n",
              "      <td>NaN</td>\n",
              "    </tr>\n",
              "  </tbody>\n",
              "</table>\n",
              "</div>"
            ],
            "text/plain": [
              "   DT_NOTIFIC  SEM_NOT  DT_SIN_PRI CS_SEXO  NU_IDADE_N SG_UF  FEBRE  TOSSE  \\\n",
              "0  2021-01-06        1  2021-01-03       F          80    PE    NaN    NaN   \n",
              "1  2021-01-08        1  2021-01-04       F           1    PB    NaN    NaN   \n",
              "2  2021-01-11        2  2021-01-05       F          68    BA    NaN    NaN   \n",
              "3  2021-04-14       15  2021-04-12       M          87    BA    NaN    NaN   \n",
              "4  2021-01-03        1  2021-01-03       F          54    AL    NaN    NaN   \n",
              "\n",
              "   GARGANTA  DISPNEIA  DESC_RESP  SATURACAO  DIARREIA  VOMITO  DOR_ABD  \\\n",
              "0       NaN       NaN        NaN        NaN       NaN     NaN      NaN   \n",
              "1       NaN       NaN        NaN        NaN       NaN     NaN      NaN   \n",
              "2       NaN       NaN        NaN        NaN       NaN     NaN      NaN   \n",
              "3       NaN       NaN        NaN        NaN       NaN     NaN      NaN   \n",
              "4       NaN       NaN        NaN        NaN       NaN     NaN      NaN   \n",
              "\n",
              "   FADIGA  PERD_OLFT  PERD_PALA FATOR_RISC  PUERPERA  CARDIOPATI  HEMATOLOGI  \\\n",
              "0     NaN        NaN        NaN          S       2.0         1.0         2.0   \n",
              "1     NaN        NaN        NaN          N       2.0         2.0         2.0   \n",
              "2     NaN        NaN        NaN          S       2.0         1.0         2.0   \n",
              "3     NaN        NaN        NaN          S       2.0         2.0         2.0   \n",
              "4     NaN        NaN        NaN          S       2.0         1.0         2.0   \n",
              "\n",
              "   SIND_DOWN  HEPATICA  ASMA  DIABETES  NEUROLOGIC  PNEUMOPATI  IMUNODEPRE  \\\n",
              "0        2.0       2.0   2.0       2.0         1.0         2.0         2.0   \n",
              "1        2.0       2.0   2.0       2.0         2.0         2.0         2.0   \n",
              "2        2.0       2.0   2.0       1.0         2.0         2.0         2.0   \n",
              "3        2.0       2.0   2.0       2.0         2.0         2.0         1.0   \n",
              "4        2.0       2.0   2.0       1.0         2.0         2.0         2.0   \n",
              "\n",
              "   RENAL  OBESIDADE  HOSPITAL  DT_INTERNA  UTI   DT_ENTUTI  DT_SAIDUTI  \\\n",
              "0    2.0        2.0       1.0  2021-01-05  2.0         NaN         NaN   \n",
              "1    2.0        2.0       1.0  2021-01-08  2.0         NaN         NaN   \n",
              "2    2.0        2.0       1.0  2021-01-09  1.0  2021-01-09  2021-01-19   \n",
              "3    2.0        2.0       1.0  2021-04-05  2.0         NaN         NaN   \n",
              "4    2.0        2.0       1.0  2021-01-03  2.0         NaN         NaN   \n",
              "\n",
              "   SUPORT_VEN  CLASSI_FIN  EVOLUCAO  DT_EVOLUCA  TEMPO_INTER  TEMPO_UTI  \n",
              "0         NaN         5.0       2.0  2021-01-13          8.0        NaN  \n",
              "1         NaN         5.0       1.0  2021-01-10          2.0        NaN  \n",
              "2         NaN         4.0       1.0  2021-01-25         16.0       10.0  \n",
              "3         NaN         4.0       9.0         NaN          NaN        NaN  \n",
              "4         NaN         5.0       1.0  2021-01-14         11.0        NaN  "
            ]
          },
          "metadata": {
            "tags": []
          },
          "execution_count": 173
        }
      ]
    },
    {
      "cell_type": "code",
      "metadata": {
        "id": "nFtXKz0JtP4e"
      },
      "source": [
        "#Seleção dos casos por estado\n",
        "casos_estado = srag.groupby('SG_UF').size()\n",
        "#Seleção dos casos de obitos por estado\n",
        "obitos_estado = srag[srag['EVOLUCAO'] == 2].groupby('SG_UF').size()\n",
        "\n",
        "#Calculo da mortalidade\n",
        "mortalidade = (obitos_estado / pop_estado) * 100\n",
        "mortalidade = mortalidade.sort_values(ascending=False)\n",
        "\n",
        "#Calculo da letalidade\n",
        "letalidade  = (obitos_estado / casos_estado) * 100\n",
        "letalidade = letalidade.sort_values(ascending=False)"
      ],
      "execution_count": null,
      "outputs": []
    },
    {
      "cell_type": "markdown",
      "metadata": {
        "id": "wQcyAQ6ttP4e"
      },
      "source": [
        "**Mortalidade**"
      ]
    },
    {
      "cell_type": "markdown",
      "metadata": {
        "id": "HHyMnL8mwOda"
      },
      "source": [
        "Dentre os estados do nordeste brasileiro, com a terceira maior população, o Ceará se destaca como o estado com maior taxa de mortalidade. Com a menor população do nordeste, Sergipe destaca-se como o terceiro estado com maior taxa de mortalidade. Em contraponto, o estado de Pernambuco, que possui a segunda maior população do nordeste, encontra-se na última posição no ranking de taxa de mortalidade. "
      ]
    },
    {
      "cell_type": "code",
      "metadata": {
        "id": "1m0jCZUPtP4e",
        "outputId": "53757c1c-ba47-4b9c-be10-d7e0e774d439"
      },
      "source": [
        "sns.barplot(x=mortalidade.index, y=mortalidade)\n",
        "plt.suptitle('Mortalidade x Estado do Nordeste')"
      ],
      "execution_count": null,
      "outputs": [
        {
          "output_type": "execute_result",
          "data": {
            "text/plain": [
              "Text(0.5, 0.98, 'Mortalidade x Estado do Nordeste')"
            ]
          },
          "metadata": {
            "tags": []
          },
          "execution_count": 175
        },
        {
          "output_type": "display_data",
          "data": {
            "image/png": "[encoded data removed]",
            "text/plain": [
              "<Figure size 432x288 with 1 Axes>"
            ]
          },
          "metadata": {
            "tags": [],
            "needs_background": "light"
          }
        }
      ]
    },
    {
      "cell_type": "markdown",
      "metadata": {
        "id": "Kk6jaNg6tP4e"
      },
      "source": [
        "**Letalidade**\n",
        "\n",
        "Considerando os estados do nordeste brasileiro, o Ceará destaca-se como o estado com maior taxa de letalidade. O estado do Maranhão, penúltimo no ranking de taxa de mortalidade, possui a segunda maior taxa de letalidade. Em paralelo, o estado de Alagoas possui a menor taxa de letalidade do Nordeste. "
      ]
    },
    {
      "cell_type": "code",
      "metadata": {
        "id": "x36L6x6WtP4e",
        "outputId": "4146b20f-6898-4b1d-d3ac-0f2ad0fb8557"
      },
      "source": [
        "sns.barplot(x=letalidade.index, y=letalidade)\n",
        "plt.suptitle('Letalidade x Estado do Nordeste')"
      ],
      "execution_count": null,
      "outputs": [
        {
          "output_type": "execute_result",
          "data": {
            "text/plain": [
              "Text(0.5, 0.98, 'Letalidade x Estado do Nordeste')"
            ]
          },
          "metadata": {
            "tags": []
          },
          "execution_count": 176
        },
        {
          "output_type": "display_data",
          "data": {
            "image/png": "[encoded data removed]",
            "text/plain": [
              "<Figure size 432x288 with 1 Axes>"
            ]
          },
          "metadata": {
            "tags": [],
            "needs_background": "light"
          }
        }
      ]
    },
    {
      "cell_type": "markdown",
      "metadata": {
        "id": "a4P_AdD6tP4f"
      },
      "source": [
        "### 5. Média e desvio padrão do tempo de internação de pacientes com Covid-19, no hospital e na UTI."
      ]
    },
    {
      "cell_type": "code",
      "metadata": {
        "id": "MFfO7k8_tP4f"
      },
      "source": [
        "#Seleciona os pacientes de Covid-19\n",
        "casos_covid = srag[srag['CLASSI_FIN'] == 5]"
      ],
      "execution_count": null,
      "outputs": []
    },
    {
      "cell_type": "code",
      "metadata": {
        "id": "FXT395EStP4f",
        "outputId": "441b178b-4d63-416b-ccf4-96d6b650323c"
      },
      "source": [
        "stats_internacao_h = casos_covid['TEMPO_INTER'].describe()\n",
        "print(f\"Tempo de Internação no Hospital\")\n",
        "print(f\"Tempo Médio = {stats_internacao_h['mean']:.2f}\")\n",
        "print(f\"Tempo Mediano = {stats_internacao_h['50%']:.2f}\")\n",
        "print(f\"Desvio Padrão = {stats_internacao_h['std']:.2f}\")"
      ],
      "execution_count": null,
      "outputs": [
        {
          "output_type": "stream",
          "text": [
            "Tempo de Internação no Hospital\n",
            "Tempo Médio = 9.58\n",
            "Tempo Mediano = 7.00\n",
            "Desvio Padrão = 8.81\n"
          ],
          "name": "stdout"
        }
      ]
    },
    {
      "cell_type": "code",
      "metadata": {
        "id": "0yQay6zGtP4f",
        "outputId": "1fa3f2a1-07f0-4c23-8659-f5cbbd2de972"
      },
      "source": [
        "stats_internacao_uti = casos_covid['TEMPO_UTI'].describe()\n",
        "print(f\"Tempo de Internação na UTI\")\n",
        "print(f\"Tempo Médio = {stats_internacao_uti['mean']:.2f}\")\n",
        "print(f\"Tempo Mediano = {stats_internacao_uti['50%']:.2f}\")\n",
        "print(f\"Desvio Padrão = {stats_internacao_uti['std']:.2f}\")"
      ],
      "execution_count": null,
      "outputs": [
        {
          "output_type": "stream",
          "text": [
            "Tempo de Internação na UTI\n",
            "Tempo Médio = 9.16\n",
            "Tempo Mediano = 7.00\n",
            "Desvio Padrão = 8.66\n"
          ],
          "name": "stdout"
        }
      ]
    },
    {
      "cell_type": "markdown",
      "metadata": {
        "id": "DCLDb7mJtP4f"
      },
      "source": [
        "Em constraste com o que foi constatado na exploração incial. Após a etapa de pré-processamento com os dados inconsistentes removidos, o tempo de internação no Hospital e o Tempo de internação na UTI demonstram ser estatisticamente próximos.  Mais ainda sim, evidencia um dos maiores problemas gerados pela Covid-19 longo tempo de internação, o que resulta na falta de leitos de UTI. "
      ]
    },
    {
      "cell_type": "markdown",
      "metadata": {
        "id": "Kt_agTI-tP4g"
      },
      "source": [
        "### 6. Para cada comorbidade, encontrar a porcentagem de pessoas com essa comorbidade que sobreviveu ou foi a óbito. "
      ]
    },
    {
      "cell_type": "code",
      "metadata": {
        "id": "kqZhKxsztP4g"
      },
      "source": [
        "#Casos tem classificação de cura ou obito\n",
        "covid_encerrados = casos_covid[casos_covid['EVOLUCAO'].isin([1, 2])]\n",
        "covid_encerrados = covid_encerrados.replace({'EVOLUCAO': {1: 'Cura', 2: 'Obito'}})"
      ],
      "execution_count": null,
      "outputs": []
    },
    {
      "cell_type": "code",
      "metadata": {
        "scrolled": true,
        "id": "15SmrzistP4g",
        "outputId": "39a02e02-0ce0-4b6b-912f-751d4b203763"
      },
      "source": [
        "#Geração do Gráfico\n",
        "palette = {'Cura': \"C0\", 'Obito': \"C1\"}\n",
        "\n",
        "for index, fator in enumerate(fatores_de_risco):\n",
        "    pacientes = covid_encerrados[covid_encerrados[fator] == 1]\n",
        "    if (index+1) % 2 != 0:\n",
        "        figure, axes = plt.subplots(1, 2, figsize=(15,5))\n",
        "        \n",
        "    sns.countplot(data=pacientes, x=fator, hue='EVOLUCAO', hue_order=['Cura','Obito'],\n",
        "                  palette=palette,ax=axes[index%2])\n",
        "    \n",
        "    if (index+1) % 2 == 0:\n",
        "        plt.show()"
      ],
      "execution_count": null,
      "outputs": [
        {
          "output_type": "display_data",
          "data": {
            "image/png": "[encoded data removed]",
            "text/plain": [
              "<Figure size 1080x360 with 2 Axes>"
            ]
          },
          "metadata": {
            "tags": [],
            "needs_background": "light"
          }
        },
        {
          "output_type": "display_data",
          "data": {
            "image/png": "[encoded data removed]",
            "text/plain": [
              "<Figure size 1080x360 with 2 Axes>"
            ]
          },
          "metadata": {
            "tags": [],
            "needs_background": "light"
          }
        },
        {
          "output_type": "display_data",
          "data": {
            "image/png": "[encoded data removed]",
            "text/plain": [
              "<Figure size 1080x360 with 2 Axes>"
            ]
          },
          "metadata": {
            "tags": [],
            "needs_background": "light"
          }
        },
        {
          "output_type": "display_data",
          "data": {
            "image/png": "[encoded data removed]",
            "text/plain": [
              "<Figure size 1080x360 with 2 Axes>"
            ]
          },
          "metadata": {
            "tags": [],
            "needs_background": "light"
          }
        },
        {
          "output_type": "display_data",
          "data": {
            "image/png": "[encoded data removed]",
            "text/plain": [
              "<Figure size 1080x360 with 2 Axes>"
            ]
          },
          "metadata": {
            "tags": [],
            "needs_background": "light"
          }
        },
        {
          "output_type": "display_data",
          "data": {
            "image/png": "[encoded data removed]",
            "text/plain": [
              "<Figure size 1080x360 with 2 Axes>"
            ]
          },
          "metadata": {
            "tags": [],
            "needs_background": "light"
          }
        }
      ]
    },
    {
      "cell_type": "markdown",
      "metadata": {
        "id": "18KX2JYutP4g"
      },
      "source": [
        "Esses gráficos são muito importantes e são usados como fundamento para entender o impacto que as comorbidades tem no progresso da doença em pacientes saúdaveis. Desse modo, pode-se chegar a alguns resultados relevantes e que merecem análise posterior. Pacientes com problemas renais, hepaticos, pneumopaticos e imunodepressivos estão entre os grupos mais vulneráveis. Objetivando aprofundar a análise do impacto das comorbidades na evolução da doença, desenvolveu-se um classificador para avaliar a influência desses aspectos no probabilidade de sobrevivencia e morte dos pacientes de Covid-19."
      ]
    },
    {
      "cell_type": "markdown",
      "metadata": {
        "id": "M6aACctBtgtl"
      },
      "source": [
        "### 7. Análise de impacto dos sintomas e/ou comorbidades na evolução dos casos de pacientes com Covid-19"
      ]
    },
    {
      "cell_type": "markdown",
      "metadata": {
        "id": "DrLC3lgtEESE"
      },
      "source": [
        "Para resposta da pergunta, foi desenvolvido um classificador a fim de predizer a evolução dos casos dos pacientes considerando seus sintomas e/ou comorbidades. A motivação primordial baseou-se em analisar o peso estatístico desses fatores para determinar seus impactos nos óbitos por COVID-19. Para tanto, foram utilizados os dados do conjunto de dados SRAG e algoritmos supervisionados para realizar a classificação entre Óbito e Cura."
      ]
    },
    {
      "cell_type": "markdown",
      "metadata": {
        "id": "oSpTV6lLZFKf"
      },
      "source": [
        "**Dicionário de Dados:**\n",
        "\n",
        "https://opendatasus.saude.gov.br/dataset/9f76e80f-a2f1-4662-9e37-71084eae23e3/resource/b3321e55-24e9-49ab-8651-29cf5c8f3179/download/dicionario-de-dados-srag-hospitalizado-27.07.2020-final.pdf\n",
        "\n",
        "<br>\n",
        "\n",
        "**Atributos utilizados:**\n",
        "\n",
        "'FEBRE', 'TOSSE', 'GARGANTA', 'DISPNEIA', 'DESC_RESP',' SATURACAO', 'DIARREIA', 'VOMITO', 'DOR_ABD', 'FADIGA', 'PERD_OLFT', 'PERD_PALA', 'CARDIOPATI', 'ASMA', 'DIABETES', 'NEUROLOGIC', 'PNEUMOPATI', 'RENAL', 'IMUNODEPRE', 'SUPORT_VEN', 'OBESIDADE', 'NU_IDADE_N','CLASSI_FIN', 'HOSPITAL', 'UTI', 'EVOLUCAO'.\n",
        "\n",
        "<br/> \n",
        "\n",
        "\n",
        "**Informações sobre as classes:** \n",
        "\n",
        "Armazenadas na coluna **'EVOLUCAO'** as classes se subdividem em:\n",
        "\n",
        "1 = Óbito\n",
        "\n",
        "0 = Cura\n"
      ]
    },
    {
      "cell_type": "markdown",
      "metadata": {
        "id": "FT7cxwncaE9Q"
      },
      "source": [
        "\n",
        "\n",
        "---\n",
        "\n"
      ]
    },
    {
      "cell_type": "markdown",
      "metadata": {
        "id": "MCFNg7DeXgFl"
      },
      "source": [
        "**Pré-processamento dos dados**"
      ]
    },
    {
      "cell_type": "markdown",
      "metadata": {
        "id": "ceUcpiUKXyXl"
      },
      "source": [
        "Inicialmente, selecionamos apenas as colunas  referentes aos sintomas, comorbidades, internação e evolução dos casos dos pacientes:"
      ]
    },
    {
      "cell_type": "code",
      "metadata": {
        "id": "naCGDo8u0cIj",
        "colab": {
          "base_uri": "https://localhost:8080/"
        },
        "outputId": "365496f9-b2db-4f77-ee76-15c8d37f7424"
      },
      "source": [
        "#Variável global\n",
        "random_state = 42\n",
        "\n",
        "srag = pd.read_csv('/content/drive/MyDrive/Graduação/Ciência de Dados/Projeto/Análises/SRAG - Nordeste2.csv')\n",
        "\n",
        "#Selecionando as colunas do dataset\n",
        "srag = srag[['FEBRE', 'TOSSE', 'GARGANTA', 'DISPNEIA', 'DESC_RESP', 'SATURACAO',\n",
        "            'DIARREIA', 'VOMITO', 'DOR_ABD', 'FADIGA', 'PERD_OLFT', 'PERD_PALA', \n",
        "            'CARDIOPATI', 'ASMA', 'DIABETES', 'NEUROLOGIC', 'PNEUMOPATI', 'RENAL',\n",
        "            'IMUNODEPRE', 'SUPORT_VEN', 'OBESIDADE', 'NU_IDADE_N','CLASSI_FIN', \n",
        "            'HOSPITAL', 'UTI', 'EVOLUCAO']]\n",
        "srag"
      ],
      "execution_count": null,
      "outputs": [
        {
          "output_type": "execute_result",
          "data": {
            "text/html": [
              "<div>\n",
              "<style scoped>\n",
              "    .dataframe tbody tr th:only-of-type {\n",
              "        vertical-align: middle;\n",
              "    }\n",
              "\n",
              "    .dataframe tbody tr th {\n",
              "        vertical-align: top;\n",
              "    }\n",
              "\n",
              "    .dataframe thead th {\n",
              "        text-align: right;\n",
              "    }\n",
              "</style>\n",
              "<table border=\"1\" class=\"dataframe\">\n",
              "  <thead>\n",
              "    <tr style=\"text-align: right;\">\n",
              "      <th></th>\n",
              "      <th>FEBRE</th>\n",
              "      <th>TOSSE</th>\n",
              "      <th>GARGANTA</th>\n",
              "      <th>DISPNEIA</th>\n",
              "      <th>DESC_RESP</th>\n",
              "      <th>SATURACAO</th>\n",
              "      <th>DIARREIA</th>\n",
              "      <th>VOMITO</th>\n",
              "      <th>DOR_ABD</th>\n",
              "      <th>FADIGA</th>\n",
              "      <th>PERD_OLFT</th>\n",
              "      <th>PERD_PALA</th>\n",
              "      <th>CARDIOPATI</th>\n",
              "      <th>ASMA</th>\n",
              "      <th>DIABETES</th>\n",
              "      <th>NEUROLOGIC</th>\n",
              "      <th>PNEUMOPATI</th>\n",
              "      <th>RENAL</th>\n",
              "      <th>IMUNODEPRE</th>\n",
              "      <th>SUPORT_VEN</th>\n",
              "      <th>OBESIDADE</th>\n",
              "      <th>NU_IDADE_N</th>\n",
              "      <th>CLASSI_FIN</th>\n",
              "      <th>HOSPITAL</th>\n",
              "      <th>UTI</th>\n",
              "      <th>EVOLUCAO</th>\n",
              "    </tr>\n",
              "  </thead>\n",
              "  <tbody>\n",
              "    <tr>\n",
              "      <th>0</th>\n",
              "      <td>1.0</td>\n",
              "      <td>1.0</td>\n",
              "      <td>9.0</td>\n",
              "      <td>1.0</td>\n",
              "      <td>9.0</td>\n",
              "      <td>1.0</td>\n",
              "      <td>1.0</td>\n",
              "      <td>9.0</td>\n",
              "      <td>9.0</td>\n",
              "      <td>9.0</td>\n",
              "      <td>9.0</td>\n",
              "      <td>9.0</td>\n",
              "      <td>1.0</td>\n",
              "      <td>9.0</td>\n",
              "      <td>9.0</td>\n",
              "      <td>1.0</td>\n",
              "      <td>9.0</td>\n",
              "      <td>9.0</td>\n",
              "      <td>9.0</td>\n",
              "      <td>2.0</td>\n",
              "      <td>9.0</td>\n",
              "      <td>80</td>\n",
              "      <td>5.0</td>\n",
              "      <td>1.0</td>\n",
              "      <td>2.0</td>\n",
              "      <td>2.0</td>\n",
              "    </tr>\n",
              "    <tr>\n",
              "      <th>1</th>\n",
              "      <td>1.0</td>\n",
              "      <td>1.0</td>\n",
              "      <td>2.0</td>\n",
              "      <td>1.0</td>\n",
              "      <td>1.0</td>\n",
              "      <td>2.0</td>\n",
              "      <td>2.0</td>\n",
              "      <td>2.0</td>\n",
              "      <td>2.0</td>\n",
              "      <td>2.0</td>\n",
              "      <td>2.0</td>\n",
              "      <td>2.0</td>\n",
              "      <td>9.0</td>\n",
              "      <td>9.0</td>\n",
              "      <td>9.0</td>\n",
              "      <td>9.0</td>\n",
              "      <td>9.0</td>\n",
              "      <td>9.0</td>\n",
              "      <td>9.0</td>\n",
              "      <td>3.0</td>\n",
              "      <td>9.0</td>\n",
              "      <td>1</td>\n",
              "      <td>5.0</td>\n",
              "      <td>1.0</td>\n",
              "      <td>2.0</td>\n",
              "      <td>1.0</td>\n",
              "    </tr>\n",
              "    <tr>\n",
              "      <th>2</th>\n",
              "      <td>2.0</td>\n",
              "      <td>2.0</td>\n",
              "      <td>2.0</td>\n",
              "      <td>2.0</td>\n",
              "      <td>2.0</td>\n",
              "      <td>2.0</td>\n",
              "      <td>2.0</td>\n",
              "      <td>1.0</td>\n",
              "      <td>2.0</td>\n",
              "      <td>2.0</td>\n",
              "      <td>2.0</td>\n",
              "      <td>2.0</td>\n",
              "      <td>1.0</td>\n",
              "      <td>2.0</td>\n",
              "      <td>1.0</td>\n",
              "      <td>2.0</td>\n",
              "      <td>2.0</td>\n",
              "      <td>2.0</td>\n",
              "      <td>2.0</td>\n",
              "      <td>3.0</td>\n",
              "      <td>2.0</td>\n",
              "      <td>68</td>\n",
              "      <td>4.0</td>\n",
              "      <td>1.0</td>\n",
              "      <td>1.0</td>\n",
              "      <td>1.0</td>\n",
              "    </tr>\n",
              "    <tr>\n",
              "      <th>3</th>\n",
              "      <td>1.0</td>\n",
              "      <td>2.0</td>\n",
              "      <td>2.0</td>\n",
              "      <td>2.0</td>\n",
              "      <td>2.0</td>\n",
              "      <td>2.0</td>\n",
              "      <td>2.0</td>\n",
              "      <td>2.0</td>\n",
              "      <td>2.0</td>\n",
              "      <td>2.0</td>\n",
              "      <td>2.0</td>\n",
              "      <td>2.0</td>\n",
              "      <td>2.0</td>\n",
              "      <td>2.0</td>\n",
              "      <td>2.0</td>\n",
              "      <td>2.0</td>\n",
              "      <td>2.0</td>\n",
              "      <td>2.0</td>\n",
              "      <td>1.0</td>\n",
              "      <td>3.0</td>\n",
              "      <td>2.0</td>\n",
              "      <td>87</td>\n",
              "      <td>4.0</td>\n",
              "      <td>1.0</td>\n",
              "      <td>2.0</td>\n",
              "      <td>9.0</td>\n",
              "    </tr>\n",
              "    <tr>\n",
              "      <th>4</th>\n",
              "      <td>9.0</td>\n",
              "      <td>1.0</td>\n",
              "      <td>9.0</td>\n",
              "      <td>9.0</td>\n",
              "      <td>9.0</td>\n",
              "      <td>1.0</td>\n",
              "      <td>9.0</td>\n",
              "      <td>9.0</td>\n",
              "      <td>9.0</td>\n",
              "      <td>9.0</td>\n",
              "      <td>9.0</td>\n",
              "      <td>9.0</td>\n",
              "      <td>1.0</td>\n",
              "      <td>9.0</td>\n",
              "      <td>1.0</td>\n",
              "      <td>9.0</td>\n",
              "      <td>9.0</td>\n",
              "      <td>9.0</td>\n",
              "      <td>9.0</td>\n",
              "      <td>9.0</td>\n",
              "      <td>9.0</td>\n",
              "      <td>54</td>\n",
              "      <td>5.0</td>\n",
              "      <td>1.0</td>\n",
              "      <td>2.0</td>\n",
              "      <td>1.0</td>\n",
              "    </tr>\n",
              "    <tr>\n",
              "      <th>...</th>\n",
              "      <td>...</td>\n",
              "      <td>...</td>\n",
              "      <td>...</td>\n",
              "      <td>...</td>\n",
              "      <td>...</td>\n",
              "      <td>...</td>\n",
              "      <td>...</td>\n",
              "      <td>...</td>\n",
              "      <td>...</td>\n",
              "      <td>...</td>\n",
              "      <td>...</td>\n",
              "      <td>...</td>\n",
              "      <td>...</td>\n",
              "      <td>...</td>\n",
              "      <td>...</td>\n",
              "      <td>...</td>\n",
              "      <td>...</td>\n",
              "      <td>...</td>\n",
              "      <td>...</td>\n",
              "      <td>...</td>\n",
              "      <td>...</td>\n",
              "      <td>...</td>\n",
              "      <td>...</td>\n",
              "      <td>...</td>\n",
              "      <td>...</td>\n",
              "      <td>...</td>\n",
              "    </tr>\n",
              "    <tr>\n",
              "      <th>93526</th>\n",
              "      <td>1.0</td>\n",
              "      <td>1.0</td>\n",
              "      <td>9.0</td>\n",
              "      <td>9.0</td>\n",
              "      <td>1.0</td>\n",
              "      <td>9.0</td>\n",
              "      <td>9.0</td>\n",
              "      <td>9.0</td>\n",
              "      <td>9.0</td>\n",
              "      <td>9.0</td>\n",
              "      <td>9.0</td>\n",
              "      <td>9.0</td>\n",
              "      <td>1.0</td>\n",
              "      <td>9.0</td>\n",
              "      <td>9.0</td>\n",
              "      <td>9.0</td>\n",
              "      <td>9.0</td>\n",
              "      <td>9.0</td>\n",
              "      <td>9.0</td>\n",
              "      <td>9.0</td>\n",
              "      <td>1.0</td>\n",
              "      <td>35</td>\n",
              "      <td>5.0</td>\n",
              "      <td>1.0</td>\n",
              "      <td>2.0</td>\n",
              "      <td>9.0</td>\n",
              "    </tr>\n",
              "    <tr>\n",
              "      <th>93527</th>\n",
              "      <td>1.0</td>\n",
              "      <td>1.0</td>\n",
              "      <td>1.0</td>\n",
              "      <td>2.0</td>\n",
              "      <td>2.0</td>\n",
              "      <td>2.0</td>\n",
              "      <td>2.0</td>\n",
              "      <td>2.0</td>\n",
              "      <td>1.0</td>\n",
              "      <td>9.0</td>\n",
              "      <td>2.0</td>\n",
              "      <td>2.0</td>\n",
              "      <td>9.0</td>\n",
              "      <td>9.0</td>\n",
              "      <td>9.0</td>\n",
              "      <td>9.0</td>\n",
              "      <td>9.0</td>\n",
              "      <td>9.0</td>\n",
              "      <td>9.0</td>\n",
              "      <td>3.0</td>\n",
              "      <td>9.0</td>\n",
              "      <td>9</td>\n",
              "      <td>5.0</td>\n",
              "      <td>1.0</td>\n",
              "      <td>2.0</td>\n",
              "      <td>9.0</td>\n",
              "    </tr>\n",
              "    <tr>\n",
              "      <th>93528</th>\n",
              "      <td>1.0</td>\n",
              "      <td>1.0</td>\n",
              "      <td>9.0</td>\n",
              "      <td>9.0</td>\n",
              "      <td>9.0</td>\n",
              "      <td>9.0</td>\n",
              "      <td>9.0</td>\n",
              "      <td>1.0</td>\n",
              "      <td>1.0</td>\n",
              "      <td>9.0</td>\n",
              "      <td>9.0</td>\n",
              "      <td>9.0</td>\n",
              "      <td>9.0</td>\n",
              "      <td>9.0</td>\n",
              "      <td>9.0</td>\n",
              "      <td>9.0</td>\n",
              "      <td>1.0</td>\n",
              "      <td>1.0</td>\n",
              "      <td>9.0</td>\n",
              "      <td>2.0</td>\n",
              "      <td>9.0</td>\n",
              "      <td>96</td>\n",
              "      <td>5.0</td>\n",
              "      <td>1.0</td>\n",
              "      <td>2.0</td>\n",
              "      <td>9.0</td>\n",
              "    </tr>\n",
              "    <tr>\n",
              "      <th>93529</th>\n",
              "      <td>1.0</td>\n",
              "      <td>2.0</td>\n",
              "      <td>2.0</td>\n",
              "      <td>2.0</td>\n",
              "      <td>2.0</td>\n",
              "      <td>2.0</td>\n",
              "      <td>2.0</td>\n",
              "      <td>2.0</td>\n",
              "      <td>2.0</td>\n",
              "      <td>2.0</td>\n",
              "      <td>2.0</td>\n",
              "      <td>2.0</td>\n",
              "      <td>9.0</td>\n",
              "      <td>9.0</td>\n",
              "      <td>9.0</td>\n",
              "      <td>9.0</td>\n",
              "      <td>9.0</td>\n",
              "      <td>9.0</td>\n",
              "      <td>9.0</td>\n",
              "      <td>3.0</td>\n",
              "      <td>9.0</td>\n",
              "      <td>82</td>\n",
              "      <td>4.0</td>\n",
              "      <td>2.0</td>\n",
              "      <td>2.0</td>\n",
              "      <td>9.0</td>\n",
              "    </tr>\n",
              "    <tr>\n",
              "      <th>93530</th>\n",
              "      <td>2.0</td>\n",
              "      <td>1.0</td>\n",
              "      <td>2.0</td>\n",
              "      <td>2.0</td>\n",
              "      <td>2.0</td>\n",
              "      <td>2.0</td>\n",
              "      <td>2.0</td>\n",
              "      <td>2.0</td>\n",
              "      <td>1.0</td>\n",
              "      <td>1.0</td>\n",
              "      <td>2.0</td>\n",
              "      <td>2.0</td>\n",
              "      <td>1.0</td>\n",
              "      <td>2.0</td>\n",
              "      <td>2.0</td>\n",
              "      <td>2.0</td>\n",
              "      <td>2.0</td>\n",
              "      <td>2.0</td>\n",
              "      <td>2.0</td>\n",
              "      <td>3.0</td>\n",
              "      <td>2.0</td>\n",
              "      <td>84</td>\n",
              "      <td>5.0</td>\n",
              "      <td>2.0</td>\n",
              "      <td>2.0</td>\n",
              "      <td>2.0</td>\n",
              "    </tr>\n",
              "  </tbody>\n",
              "</table>\n",
              "<p>93531 rows × 26 columns</p>\n",
              "</div>"
            ],
            "text/plain": [
              "       FEBRE  TOSSE  GARGANTA  DISPNEIA  ...  CLASSI_FIN  HOSPITAL  UTI  EVOLUCAO\n",
              "0        1.0    1.0       9.0       1.0  ...         5.0       1.0  2.0       2.0\n",
              "1        1.0    1.0       2.0       1.0  ...         5.0       1.0  2.0       1.0\n",
              "2        2.0    2.0       2.0       2.0  ...         4.0       1.0  1.0       1.0\n",
              "3        1.0    2.0       2.0       2.0  ...         4.0       1.0  2.0       9.0\n",
              "4        9.0    1.0       9.0       9.0  ...         5.0       1.0  2.0       1.0\n",
              "...      ...    ...       ...       ...  ...         ...       ...  ...       ...\n",
              "93526    1.0    1.0       9.0       9.0  ...         5.0       1.0  2.0       9.0\n",
              "93527    1.0    1.0       1.0       2.0  ...         5.0       1.0  2.0       9.0\n",
              "93528    1.0    1.0       9.0       9.0  ...         5.0       1.0  2.0       9.0\n",
              "93529    1.0    2.0       2.0       2.0  ...         4.0       2.0  2.0       9.0\n",
              "93530    2.0    1.0       2.0       2.0  ...         5.0       2.0  2.0       2.0\n",
              "\n",
              "[93531 rows x 26 columns]"
            ]
          },
          "metadata": {
            "tags": []
          },
          "execution_count": 3
        }
      ]
    },
    {
      "cell_type": "markdown",
      "metadata": {
        "id": "OVolAbwRgeIF"
      },
      "source": [
        "**Seleção das instâncias necessárias**"
      ]
    },
    {
      "cell_type": "markdown",
      "metadata": {
        "id": "Y4CguZ0XcAsM"
      },
      "source": [
        "O conjunto de dados SRAG armazena dados de pacientes que possuem síndrome respiratória aguda grave de forma geral, não apenas pacientes acometidos pela COVID-19. Por esse motivo, foram selecionados apenas pacientes que possuíam SRAG por Covid-19. Em seguida, a coluna 'CLASSI_FIN' foi desconsiderada da análise."
      ]
    },
    {
      "cell_type": "code",
      "metadata": {
        "id": "zo7Pppplb07n"
      },
      "source": [
        "# Considerando apenas os pacientes com fatores de risco e com Covid-19\n",
        "srag = srag[srag['CLASSI_FIN'] == 5.0]\n",
        "srag = srag.drop(columns=['CLASSI_FIN'])"
      ],
      "execution_count": null,
      "outputs": []
    },
    {
      "cell_type": "markdown",
      "metadata": {
        "id": "6v5OOs3BiFsH"
      },
      "source": [
        "A coluna **'EVOLUCAO'** contém os seguintes valores:\n",
        "\n",
        "**1** - Cura\n",
        "\n",
        "**2** - Óbito\n",
        "\n",
        "**3** - Óbito por outras causas\n",
        "\n",
        "**9** - Ignorado\n",
        "\n",
        "A análise trata-se exclusivamente de dados de pacientes que possuem SRAG por Covid-19. Por esse motivo, as instâncias de óbitos por outras causas foram desconsideras dessa análise."
      ]
    },
    {
      "cell_type": "code",
      "metadata": {
        "id": "rrEfTjQLU2qN"
      },
      "source": [
        "# Removendo as instâncias que possuíam o valor '3 - Óbitos por outras causas'\n",
        "EVOLUCAO_remove = srag.loc[srag['EVOLUCAO'] == 3]\n",
        "srag = srag.drop(EVOLUCAO_remove.index)"
      ],
      "execution_count": null,
      "outputs": []
    },
    {
      "cell_type": "markdown",
      "metadata": {
        "id": "W7JMkZ2EeY3e"
      },
      "source": [
        "No conjunto de dados selecionado, os atributos **'HOSPITAL', 'UTI'** e **'EVOLUCAO'** contém os seguintes valores:  \n",
        "\n",
        "**1** - Sim\n",
        "\n",
        "**2** - Não\n",
        "\n",
        "**9** - Ignorado \n",
        "\n",
        "Por esse motivo, foram consideradas apenas as instâncias que possuíam os valores 1 ou 2. \n"
      ]
    },
    {
      "cell_type": "code",
      "metadata": {
        "id": "ZIl1OKjRWwxY"
      },
      "source": [
        "colunas = ['HOSPITAL', 'UTI', 'EVOLUCAO']\n",
        "\n",
        "for coluna in colunas:\n",
        "  srag = srag[(srag[coluna] == 1.0) | (srag[coluna] == 2.0)]\n"
      ],
      "execution_count": null,
      "outputs": []
    },
    {
      "cell_type": "markdown",
      "metadata": {
        "id": "jbCSS_gCgP_n"
      },
      "source": [
        "A coluna **'SUPORT_VEN'** contém os seguintes valores:\n",
        "\n",
        "**1** - Sim, invasivo\n",
        "\n",
        "**2** - Sim, não invasivo\n",
        "\n",
        "**3** - Não\n",
        "\n",
        "**9** - Ignorado\n",
        "\n",
        "Como nas seleções anteriores, as instâncias que possuem o valor 9 foram substituídas pelo valor 3. Ou seja, os pacientes que tiveram essa informação ignorada em seu registro foram considerados como pacientes que não utilizaram o suporte ventilatório.\n"
      ]
    },
    {
      "cell_type": "code",
      "metadata": {
        "id": "d81B1jGoeWr8"
      },
      "source": [
        "srag['SUPORT_VEN'] = srag['SUPORT_VEN'].replace(9, 3)"
      ],
      "execution_count": null,
      "outputs": []
    },
    {
      "cell_type": "markdown",
      "metadata": {
        "id": "CAt3akNLjhLN"
      },
      "source": [
        "As colunas referentes aos sintomas e comorbidades também possuíam o valor '9 - Ignorado' que foram substituídos pelo valor 2. Ou seja, estes pacientes foram considerados como pacientes que não apresentaram sintomas e comorbidades."
      ]
    },
    {
      "cell_type": "code",
      "metadata": {
        "id": "JQYhjGwHR75t"
      },
      "source": [
        "# Considerando os dados que possuem os valores '9 - ignorados' como '2 - Não'\n",
        "columns = ['FEBRE', 'TOSSE', 'GARGANTA', 'DISPNEIA', 'DESC_RESP', 'SATURACAO',\n",
        "            'DIARREIA', 'VOMITO', 'DOR_ABD', 'FADIGA', 'PERD_OLFT', 'PERD_PALA', \n",
        "            'CARDIOPATI', 'ASMA', 'DIABETES', 'NEUROLOGIC', 'PNEUMOPATI', 'RENAL',\n",
        "            'IMUNODEPRE', 'SUPORT_VEN', 'OBESIDADE']\n",
        "\n",
        "srag[columns] = srag[columns].replace(9, 2)"
      ],
      "execution_count": null,
      "outputs": []
    },
    {
      "cell_type": "markdown",
      "metadata": {
        "id": "sQYXaf0DksxM"
      },
      "source": [
        "**Agrupamento por idade**"
      ]
    },
    {
      "cell_type": "markdown",
      "metadata": {
        "id": "2qkxeu7YlgAD"
      },
      "source": [
        "A fim de analisar o impacto da faixa etária para evolução (óbito ou cura) dos casos de Covid-19, o seguinte gráfico foi plotado:\n"
      ]
    },
    {
      "cell_type": "code",
      "metadata": {
        "id": "7Nod6Gyt2Ncm",
        "colab": {
          "base_uri": "https://localhost:8080/",
          "height": 369
        },
        "outputId": "93f4a63f-fcb0-4f48-91d0-2ea372f2d00e"
      },
      "source": [
        "with sns.axes_style(\"darkgrid\"):\n",
        "    g = sns.FacetGrid(srag, hue='EVOLUCAO', height=5, aspect=2.5)\n",
        "    g.map(sns.kdeplot, 'NU_IDADE_N', shade=True)\n",
        "    g.add_legend()\n",
        "    g.set(xticks=np.arange(0, srag['NU_IDADE_N'].max() + 1, 5), xlim=(0, srag['NU_IDADE_N'].max()))"
      ],
      "execution_count": null,
      "outputs": [
        {
          "output_type": "display_data",
          "data": {
            "image/png": "[encoded data removed]",
            "text/plain": [
              "<Figure size 962.5x360 with 1 Axes>"
            ]
          },
          "metadata": {
            "tags": []
          }
        }
      ]
    },
    {
      "cell_type": "markdown",
      "metadata": {
        "id": "VUFkwQ0RlHDM"
      },
      "source": [
        "Considerando o resultados das análises feitas anteriormente, avaliou-se interessante dividir os dados de **idade** entre **5 intervalos de faixa etária**. Para tanto, o algoritmo **K-means** foi utilizado para agrupar com maior exatidão os cluters baseados na idade dos pacientes.\n"
      ]
    },
    {
      "cell_type": "code",
      "metadata": {
        "id": "MrH1Bv4b6QRp",
        "colab": {
          "base_uri": "https://localhost:8080/",
          "height": 351
        },
        "outputId": "f60c62e5-6a45-4ad8-e51a-07c8b8dc6210"
      },
      "source": [
        "# Usando o K-means para fazer a clusterização em 'NU_IDADE_N'\n",
        "num_clusters = 5\n",
        "X = srag[[ 'NU_IDADE_N', 'EVOLUCAO']].dropna()\n",
        "kmeans = KMeans(n_clusters=num_clusters, random_state=random_state)\n",
        "kmeans.fit(X)\n",
        "X['AgeCluster'] = kmeans.labels_\n",
        "\n",
        "# Plotando as divisões entre os clusters\n",
        "plt.figure(figsize=(10,5))\n",
        "h = 0.01\n",
        "x_min, x_max = X['NU_IDADE_N'].min() - h, X['NU_IDADE_N'].max() + h\n",
        "y_min, y_max = X['EVOLUCAO'].min() - h, X['EVOLUCAO'].max() + h\n",
        "xx, yy = np.meshgrid(np.arange(x_min, x_max, h), np.arange(y_min, y_max, h))\n",
        "\n",
        "# Predizendo os grupos de idade para cada ponto \n",
        "Z = kmeans.predict(np.c_[xx.ravel(), yy.ravel()])\n",
        "\n",
        "# Colocando o resultado da predição em um gráfico de cores\n",
        "cmap = sns.cubehelix_palette(start=2.8, rot=.1, as_cmap=True)\n",
        "Z = Z.reshape(xx.shape)\n",
        "plt.imshow(Z, interpolation='nearest',\n",
        "           extent=(xx.min(), xx.max(), yy.min(), yy.max()),\n",
        "           cmap=cmap, aspect='auto')\n",
        "\n",
        "# Plotando as idades\n",
        "sns.scatterplot(x='NU_IDADE_N', y='EVOLUCAO', hue='AgeCluster', data=X, palette=cmap)\n",
        "\n",
        "# Plotando os centróides (X brancos)\n",
        "centroids = kmeans.cluster_centers_\n",
        "plt.scatter(centroids[:, 0], centroids[:, 1],\n",
        "            marker='x', s=169, linewidths=3,\n",
        "            color='w')\n",
        "plt.yticks([0, 1])\n",
        "plt.title(\"Grupos de Idade\")\n",
        "plt.show()"
      ],
      "execution_count": null,
      "outputs": [
        {
          "output_type": "display_data",
          "data": {
            "image/png": "[encoded data removed]",
            "text/plain": [
              "<Figure size 720x360 with 1 Axes>"
            ]
          },
          "metadata": {
            "tags": [],
            "needs_background": "light"
          }
        }
      ]
    },
    {
      "cell_type": "markdown",
      "metadata": {
        "id": "rfRpPQ2UoudT"
      },
      "source": [
        "Após a obtenção dos clusters, fez-se necessário convertê-los em faixas etárias."
      ]
    },
    {
      "cell_type": "code",
      "metadata": {
        "id": "4_pjw0ew8MXY",
        "colab": {
          "base_uri": "https://localhost:8080/"
        },
        "outputId": "95b17988-f1a2-4ab1-8be4-c1c584131069"
      },
      "source": [
        "# Convertendo os clusters do K-means em faixa-etárias\n",
        "age_bands = []\n",
        "for k in range(num_clusters):\n",
        "    age_bands.append(xx[Z==k].min())\n",
        "\n",
        "# Ordenando os intervalos de faixa etária\n",
        "age_bands.sort()\n",
        "\n",
        "# Definindo o limite inferior do primeiro intervalo como 0 \n",
        "age_bands[0] = 0.0\n",
        "\n",
        "# Definindo o limite superior do último intervalo para infinito\n",
        "age_bands.append(np.inf)\n",
        "\n",
        "# Convertendo a lista para um numpy array\n",
        "print(\"Age bands: {}\".format(np.array(age_bands)))"
      ],
      "execution_count": null,
      "outputs": [
        {
          "output_type": "stream",
          "text": [
            "Age bands: [ 0.   36.33 51.33 64.69 78.2    inf]\n"
          ],
          "name": "stdout"
        }
      ]
    },
    {
      "cell_type": "code",
      "metadata": {
        "id": "lsvfxMOgFPSD"
      },
      "source": [
        "# Definindo explicitamente o limite superior do intervalo para 120.0\n",
        "age_bands = [0.0, 34.61, 50.09, 63.72, 77.4, 120.0]"
      ],
      "execution_count": null,
      "outputs": []
    },
    {
      "cell_type": "markdown",
      "metadata": {
        "id": "MKbbRVjeqjEN"
      },
      "source": [
        "Em seguida, os valores de idade da coluna N_IDADE_N foram substituídos por valores dos grupos de faixa etária formados, e transformados em valores categóricos."
      ]
    },
    {
      "cell_type": "code",
      "metadata": {
        "id": "4iPPtggE8VyA",
        "colab": {
          "base_uri": "https://localhost:8080/"
        },
        "outputId": "e5d95f80-d7fb-48ea-e3d7-3f21684784d2"
      },
      "source": [
        "srag['NU_IDADE_N'] = pd.cut(srag['NU_IDADE_N'], age_bands)\n",
        "srag.groupby('NU_IDADE_N')['EVOLUCAO'].mean()"
      ],
      "execution_count": null,
      "outputs": [
        {
          "output_type": "execute_result",
          "data": {
            "text/plain": [
              "NU_IDADE_N\n",
              "(0.0, 34.61]      1.204870\n",
              "(34.61, 50.09]    1.294574\n",
              "(50.09, 63.72]    1.420218\n",
              "(63.72, 77.4]     1.578308\n",
              "(77.4, 120.0]     1.707853\n",
              "Name: EVOLUCAO, dtype: float64"
            ]
          },
          "metadata": {
            "tags": []
          },
          "execution_count": 13
        }
      ]
    },
    {
      "cell_type": "code",
      "metadata": {
        "id": "A-Lc90efD-Ki"
      },
      "source": [
        "srag['NU_IDADE_N'] = srag['NU_IDADE_N'].astype('category').cat.codes"
      ],
      "execution_count": null,
      "outputs": []
    },
    {
      "cell_type": "code",
      "metadata": {
        "id": "Agun_D8GkC3v",
        "colab": {
          "base_uri": "https://localhost:8080/"
        },
        "outputId": "7f11d99e-e8ab-4190-d731-5c43b0c59dc9"
      },
      "source": [
        "srag['NU_IDADE_N'].value_counts()"
      ],
      "execution_count": null,
      "outputs": [
        {
          "output_type": "execute_result",
          "data": {
            "text/plain": [
              " 3    15554\n",
              " 2    13236\n",
              " 1    11593\n",
              " 4     9461\n",
              " 0     4476\n",
              "-1        5\n",
              "Name: NU_IDADE_N, dtype: int64"
            ]
          },
          "metadata": {
            "tags": []
          },
          "execution_count": 15
        }
      ]
    },
    {
      "cell_type": "markdown",
      "metadata": {
        "id": "KEHIVTrcrk3s"
      },
      "source": [
        "**Balanceamento das classes**"
      ]
    },
    {
      "cell_type": "markdown",
      "metadata": {
        "id": "S1QLZ4i3rySr"
      },
      "source": [
        "O desbalanceamento de classes ocorre quando um dataset possui muitos exemplos de uma determinada classe e poucos exemplos de outra(s) classe(s). Nesses casos, o resultado do modelo de Machine Learning será enviesado, ou seja, ele tenderá a classificar os novos dados como sendo da classe que possui mais exemplos."
      ]
    },
    {
      "cell_type": "code",
      "metadata": {
        "id": "HhFpNKGS5sX6",
        "colab": {
          "base_uri": "https://localhost:8080/",
          "height": 71
        },
        "outputId": "678a3364-2fa5-47d2-baf3-19f509dae7de"
      },
      "source": [
        "Counter(srag[\"EVOLUCAO\"])\n",
        "\n",
        "sns.histplot(data = srag[\"EVOLUCAO\"], stat=\"count\", legend = True)"
      ],
      "execution_count": null,
      "outputs": [
        {
          "output_type": "execute_result",
          "data": {
            "text/plain": [
              "<matplotlib.axes._subplots.AxesSubplot at 0x7fed46d26fd0>"
            ]
          },
          "metadata": {
            "tags": []
          },
          "execution_count": 16
        },
        {
          "output_type": "display_data",
          "data": {
            "image/png": "[encoded data removed]",
            "text/plain": [
              "<Figure size 432x288 with 1 Axes>"
            ]
          },
          "metadata": {
            "tags": [],
            "needs_background": "light"
          }
        }
      ]
    },
    {
      "cell_type": "markdown",
      "metadata": {
        "id": "nXY7PgLir-PN"
      },
      "source": [
        "A partir da exploração dos dados da coluna EVOLUCAO, avaliou-se que a quantidade de dados referentes aos óbitos e as curas estava desbalanceada. Para lidar com esse problema, optou-se por utilizar a técnica Undersampling.\n",
        "A técnica Undersampling consiste em reduzir de forma aleatória os exemplos da classe majoritária. Dessa forma, a quantidade de exemplos será igual para ambas as classes."
      ]
    },
    {
      "cell_type": "code",
      "metadata": {
        "id": "yQaUIRvn1FT-"
      },
      "source": [
        "#Definindo variáveis para cada uma das classes\n",
        "obito = srag[srag.EVOLUCAO == 1]\n",
        "cura = srag[srag.EVOLUCAO == 2]"
      ],
      "execution_count": null,
      "outputs": []
    },
    {
      "cell_type": "code",
      "metadata": {
        "id": "qpjpkblY5fwG",
        "colab": {
          "base_uri": "https://localhost:8080/"
        },
        "outputId": "e9538daf-84ef-46ef-b737-51e5fc9c53ae"
      },
      "source": [
        "#Verificando o desbalanceamento\n",
        "len(obito), len(cura)"
      ],
      "execution_count": null,
      "outputs": [
        {
          "output_type": "execute_result",
          "data": {
            "text/plain": [
              "(28737, 25588)"
            ]
          },
          "metadata": {
            "tags": []
          },
          "execution_count": 18
        }
      ]
    },
    {
      "cell_type": "code",
      "metadata": {
        "id": "yMIdnUWS9sGN"
      },
      "source": [
        "#Fazendo o balanceamento entre as classes\n",
        "\n",
        "obito = resample(obito, \n",
        "                      replace=False,    \n",
        "                      n_samples=25588,   # Para se igualar a classe minoritária \n",
        "                      random_state=25)   # reproducible results\n",
        "\n",
        "srag = pd.concat([obito, cura])\n"
      ],
      "execution_count": null,
      "outputs": []
    },
    {
      "cell_type": "markdown",
      "metadata": {
        "id": "ZgzST5OdsrQX"
      },
      "source": [
        "**Normalizando as features com Feature Scalling**"
      ]
    },
    {
      "cell_type": "markdown",
      "metadata": {
        "id": "dP4rWio3sue4"
      },
      "source": [
        "\n",
        "Na maioria das vezes, os conjuntos de dados irão conter taxas de valores de dados brutos que variam amplamente. Nesse contexto, em alguns algoritmos de Machine Learning, as funções não funcionarão corretamente sem normalização.\n",
        "\n",
        "Esse recurso é necessário porque, se um dos atributos possui uma ampla faixa de variação de valores, a predição será controlada por esse atributo específico. Portanto, o intervalo de todos os atributos deve ser normalizado para que cada um contribua de forma proporcional para a predição final."
      ]
    },
    {
      "cell_type": "code",
      "metadata": {
        "id": "Dos892UrTDzD",
        "colab": {
          "base_uri": "https://localhost:8080/",
          "height": 224
        },
        "outputId": "9b937bfe-6c7d-440d-be5e-7f94fa917f70"
      },
      "source": [
        "# Fazendo a normalização dos dados\n",
        "scaler = StandardScaler()\n",
        "scaler.fit(srag)\n",
        "X_scaled_array = scaler.transform(srag)\n",
        "std_srag = pd.DataFrame(X_scaled_array, columns = srag.columns)\n",
        "std_srag.head()"
      ],
      "execution_count": null,
      "outputs": [
        {
          "output_type": "execute_result",
          "data": {
            "text/html": [
              "<div>\n",
              "<style scoped>\n",
              "    .dataframe tbody tr th:only-of-type {\n",
              "        vertical-align: middle;\n",
              "    }\n",
              "\n",
              "    .dataframe tbody tr th {\n",
              "        vertical-align: top;\n",
              "    }\n",
              "\n",
              "    .dataframe thead th {\n",
              "        text-align: right;\n",
              "    }\n",
              "</style>\n",
              "<table border=\"1\" class=\"dataframe\">\n",
              "  <thead>\n",
              "    <tr style=\"text-align: right;\">\n",
              "      <th></th>\n",
              "      <th>FEBRE</th>\n",
              "      <th>TOSSE</th>\n",
              "      <th>GARGANTA</th>\n",
              "      <th>DISPNEIA</th>\n",
              "      <th>DESC_RESP</th>\n",
              "      <th>SATURACAO</th>\n",
              "      <th>DIARREIA</th>\n",
              "      <th>VOMITO</th>\n",
              "      <th>DOR_ABD</th>\n",
              "      <th>FADIGA</th>\n",
              "      <th>PERD_OLFT</th>\n",
              "      <th>PERD_PALA</th>\n",
              "      <th>CARDIOPATI</th>\n",
              "      <th>ASMA</th>\n",
              "      <th>DIABETES</th>\n",
              "      <th>NEUROLOGIC</th>\n",
              "      <th>PNEUMOPATI</th>\n",
              "      <th>RENAL</th>\n",
              "      <th>IMUNODEPRE</th>\n",
              "      <th>SUPORT_VEN</th>\n",
              "      <th>OBESIDADE</th>\n",
              "      <th>NU_IDADE_N</th>\n",
              "      <th>HOSPITAL</th>\n",
              "      <th>UTI</th>\n",
              "      <th>EVOLUCAO</th>\n",
              "    </tr>\n",
              "  </thead>\n",
              "  <tbody>\n",
              "    <tr>\n",
              "      <th>0</th>\n",
              "      <td>1.228212</td>\n",
              "      <td>-0.669528</td>\n",
              "      <td>0.394767</td>\n",
              "      <td>-0.592546</td>\n",
              "      <td>1.117719</td>\n",
              "      <td>1.295365</td>\n",
              "      <td>0.346936</td>\n",
              "      <td>0.244242</td>\n",
              "      <td>0.205933</td>\n",
              "      <td>0.400928</td>\n",
              "      <td>0.294411</td>\n",
              "      <td>0.286260</td>\n",
              "      <td>-1.408060</td>\n",
              "      <td>0.140668</td>\n",
              "      <td>-1.712772</td>\n",
              "      <td>0.172872</td>\n",
              "      <td>0.142035</td>\n",
              "      <td>0.18463</td>\n",
              "      <td>0.131045</td>\n",
              "      <td>1.263680</td>\n",
              "      <td>-3.270275</td>\n",
              "      <td>0.597035</td>\n",
              "      <td>-0.238576</td>\n",
              "      <td>-1.260800</td>\n",
              "      <td>-1.0</td>\n",
              "    </tr>\n",
              "    <tr>\n",
              "      <th>1</th>\n",
              "      <td>-0.814192</td>\n",
              "      <td>-0.669528</td>\n",
              "      <td>0.394767</td>\n",
              "      <td>-0.592546</td>\n",
              "      <td>1.117719</td>\n",
              "      <td>-0.771983</td>\n",
              "      <td>0.346936</td>\n",
              "      <td>0.244242</td>\n",
              "      <td>0.205933</td>\n",
              "      <td>0.400928</td>\n",
              "      <td>0.294411</td>\n",
              "      <td>0.286260</td>\n",
              "      <td>0.710197</td>\n",
              "      <td>0.140668</td>\n",
              "      <td>0.583849</td>\n",
              "      <td>0.172872</td>\n",
              "      <td>0.142035</td>\n",
              "      <td>0.18463</td>\n",
              "      <td>0.131045</td>\n",
              "      <td>-0.077828</td>\n",
              "      <td>0.305785</td>\n",
              "      <td>-1.061698</td>\n",
              "      <td>-0.238576</td>\n",
              "      <td>-1.260800</td>\n",
              "      <td>-1.0</td>\n",
              "    </tr>\n",
              "    <tr>\n",
              "      <th>2</th>\n",
              "      <td>1.228212</td>\n",
              "      <td>1.493589</td>\n",
              "      <td>0.394767</td>\n",
              "      <td>-0.592546</td>\n",
              "      <td>-0.894679</td>\n",
              "      <td>-0.771983</td>\n",
              "      <td>0.346936</td>\n",
              "      <td>0.244242</td>\n",
              "      <td>0.205933</td>\n",
              "      <td>-2.494215</td>\n",
              "      <td>-3.396615</td>\n",
              "      <td>-3.493323</td>\n",
              "      <td>0.710197</td>\n",
              "      <td>0.140668</td>\n",
              "      <td>0.583849</td>\n",
              "      <td>0.172872</td>\n",
              "      <td>0.142035</td>\n",
              "      <td>0.18463</td>\n",
              "      <td>0.131045</td>\n",
              "      <td>1.263680</td>\n",
              "      <td>0.305785</td>\n",
              "      <td>-0.232332</td>\n",
              "      <td>-0.238576</td>\n",
              "      <td>0.793147</td>\n",
              "      <td>-1.0</td>\n",
              "    </tr>\n",
              "    <tr>\n",
              "      <th>3</th>\n",
              "      <td>-0.814192</td>\n",
              "      <td>-0.669528</td>\n",
              "      <td>0.394767</td>\n",
              "      <td>-0.592546</td>\n",
              "      <td>-0.894679</td>\n",
              "      <td>-0.771983</td>\n",
              "      <td>0.346936</td>\n",
              "      <td>0.244242</td>\n",
              "      <td>0.205933</td>\n",
              "      <td>0.400928</td>\n",
              "      <td>0.294411</td>\n",
              "      <td>0.286260</td>\n",
              "      <td>0.710197</td>\n",
              "      <td>0.140668</td>\n",
              "      <td>0.583849</td>\n",
              "      <td>0.172872</td>\n",
              "      <td>0.142035</td>\n",
              "      <td>0.18463</td>\n",
              "      <td>0.131045</td>\n",
              "      <td>-0.077828</td>\n",
              "      <td>0.305785</td>\n",
              "      <td>0.597035</td>\n",
              "      <td>-0.238576</td>\n",
              "      <td>-1.260800</td>\n",
              "      <td>-1.0</td>\n",
              "    </tr>\n",
              "    <tr>\n",
              "      <th>4</th>\n",
              "      <td>-0.814192</td>\n",
              "      <td>-0.669528</td>\n",
              "      <td>0.394767</td>\n",
              "      <td>1.687634</td>\n",
              "      <td>1.117719</td>\n",
              "      <td>1.295365</td>\n",
              "      <td>-2.882380</td>\n",
              "      <td>-4.094298</td>\n",
              "      <td>0.205933</td>\n",
              "      <td>0.400928</td>\n",
              "      <td>0.294411</td>\n",
              "      <td>0.286260</td>\n",
              "      <td>0.710197</td>\n",
              "      <td>0.140668</td>\n",
              "      <td>0.583849</td>\n",
              "      <td>-5.784631</td>\n",
              "      <td>0.142035</td>\n",
              "      <td>0.18463</td>\n",
              "      <td>-7.630955</td>\n",
              "      <td>1.263680</td>\n",
              "      <td>0.305785</td>\n",
              "      <td>-1.891065</td>\n",
              "      <td>-0.238576</td>\n",
              "      <td>0.793147</td>\n",
              "      <td>-1.0</td>\n",
              "    </tr>\n",
              "  </tbody>\n",
              "</table>\n",
              "</div>"
            ],
            "text/plain": [
              "      FEBRE     TOSSE  GARGANTA  ...  HOSPITAL       UTI  EVOLUCAO\n",
              "0  1.228212 -0.669528  0.394767  ... -0.238576 -1.260800      -1.0\n",
              "1 -0.814192 -0.669528  0.394767  ... -0.238576 -1.260800      -1.0\n",
              "2  1.228212  1.493589  0.394767  ... -0.238576  0.793147      -1.0\n",
              "3 -0.814192 -0.669528  0.394767  ... -0.238576 -1.260800      -1.0\n",
              "4 -0.814192 -0.669528  0.394767  ... -0.238576  0.793147      -1.0\n",
              "\n",
              "[5 rows x 25 columns]"
            ]
          },
          "metadata": {
            "tags": []
          },
          "execution_count": 20
        }
      ]
    },
    {
      "cell_type": "markdown",
      "metadata": {
        "id": "McEkvojl69Eq"
      },
      "source": [
        "**Separando o dataset em features (X) e classes (y)**"
      ]
    },
    {
      "cell_type": "code",
      "metadata": {
        "id": "PwyiH31ftCXv"
      },
      "source": [
        "X= srag.drop(columns=['EVOLUCAO'])\n",
        "y = srag['EVOLUCAO']"
      ],
      "execution_count": null,
      "outputs": []
    },
    {
      "cell_type": "markdown",
      "metadata": {
        "id": "vbVwExNU6xw4"
      },
      "source": [
        "**Separando o dataset em conjunto de treinamento e conjunto de teste**"
      ]
    },
    {
      "cell_type": "code",
      "metadata": {
        "id": "_Gj-oa0MtqbJ"
      },
      "source": [
        "X_train, X_test, y_train, y_test = train_test_split(X, y, stratify=y, test_size = 0.20, random_state=42)"
      ],
      "execution_count": null,
      "outputs": []
    },
    {
      "cell_type": "markdown",
      "metadata": {
        "id": "4uAeJQzD7Zah"
      },
      "source": [
        "**Treinando os modelos de Machine Learning**\n",
        "\n"
      ]
    },
    {
      "cell_type": "markdown",
      "metadata": {
        "id": "y-mNCEcbxZWm"
      },
      "source": [
        "Para realizar as predições das evoluções dos casos dos pacientes e identificar o impacto dos sintomas e/ou comorbidades, foram realizadas predições com os seguintes algoritmos supervisionados de classificação: Logist Regression, Decision Tree, Naive Bayes e Random Forest. Os resultados obtidos através dos modelos encontram-se abaixo:"
      ]
    },
    {
      "cell_type": "markdown",
      "metadata": {
        "id": "eGZNeHJIZROV"
      },
      "source": [
        "**Logistic Regression**"
      ]
    },
    {
      "cell_type": "code",
      "metadata": {
        "id": "vftM6W6D6nEk",
        "colab": {
          "base_uri": "https://localhost:8080/"
        },
        "outputId": "f0cfad52-9b78-4ca5-ec71-872eadc431ff"
      },
      "source": [
        "LR_classifier = LogisticRegression(random_state=random_state, max_iter=150)\n",
        "LR_classifier.fit(X_train, y_train)\n",
        "LR_pred = LR_classifier.predict(X_test)\n",
        "\n",
        "print(classification_report(y_test, LR_pred))"
      ],
      "execution_count": null,
      "outputs": [
        {
          "output_type": "stream",
          "text": [
            "              precision    recall  f1-score   support\n",
            "\n",
            "         1.0       0.74      0.75      0.75      5118\n",
            "         2.0       0.75      0.74      0.74      5118\n",
            "\n",
            "    accuracy                           0.74     10236\n",
            "   macro avg       0.74      0.74      0.74     10236\n",
            "weighted avg       0.74      0.74      0.74     10236\n",
            "\n"
          ],
          "name": "stdout"
        }
      ]
    },
    {
      "cell_type": "markdown",
      "metadata": {
        "id": "28vVjPyPtDxo"
      },
      "source": [
        "**Avaliação da importância de cada atributo para predição do modelo**"
      ]
    },
    {
      "cell_type": "code",
      "metadata": {
        "colab": {
          "base_uri": "https://localhost:8080/",
          "height": 793
        },
        "id": "x95sbX7Gt5uL",
        "outputId": "b7cfd9eb-9310-4b58-8ac5-0a6483fbed3e"
      },
      "source": [
        "feature_importance = pd.DataFrame({'feature':list(X.columns),'feature_importance':[abs(i) for i in LR_classifier.coef_[0]]})\n",
        "feature_importance.sort_values('feature_importance',ascending=False)"
      ],
      "execution_count": null,
      "outputs": [
        {
          "output_type": "execute_result",
          "data": {
            "text/html": [
              "<div>\n",
              "<style scoped>\n",
              "    .dataframe tbody tr th:only-of-type {\n",
              "        vertical-align: middle;\n",
              "    }\n",
              "\n",
              "    .dataframe tbody tr th {\n",
              "        vertical-align: top;\n",
              "    }\n",
              "\n",
              "    .dataframe thead th {\n",
              "        text-align: right;\n",
              "    }\n",
              "</style>\n",
              "<table border=\"1\" class=\"dataframe\">\n",
              "  <thead>\n",
              "    <tr style=\"text-align: right;\">\n",
              "      <th></th>\n",
              "      <th>feature</th>\n",
              "      <th>feature_importance</th>\n",
              "    </tr>\n",
              "  </thead>\n",
              "  <tbody>\n",
              "    <tr>\n",
              "      <th>22</th>\n",
              "      <td>HOSPITAL</td>\n",
              "      <td>2.000725</td>\n",
              "    </tr>\n",
              "    <tr>\n",
              "      <th>23</th>\n",
              "      <td>UTI</td>\n",
              "      <td>1.359692</td>\n",
              "    </tr>\n",
              "    <tr>\n",
              "      <th>19</th>\n",
              "      <td>SUPORT_VEN</td>\n",
              "      <td>0.838876</td>\n",
              "    </tr>\n",
              "    <tr>\n",
              "      <th>17</th>\n",
              "      <td>RENAL</td>\n",
              "      <td>0.819486</td>\n",
              "    </tr>\n",
              "    <tr>\n",
              "      <th>21</th>\n",
              "      <td>NU_IDADE_N</td>\n",
              "      <td>0.603982</td>\n",
              "    </tr>\n",
              "    <tr>\n",
              "      <th>18</th>\n",
              "      <td>IMUNODEPRE</td>\n",
              "      <td>0.574538</td>\n",
              "    </tr>\n",
              "    <tr>\n",
              "      <th>15</th>\n",
              "      <td>NEUROLOGIC</td>\n",
              "      <td>0.432277</td>\n",
              "    </tr>\n",
              "    <tr>\n",
              "      <th>20</th>\n",
              "      <td>OBESIDADE</td>\n",
              "      <td>0.314163</td>\n",
              "    </tr>\n",
              "    <tr>\n",
              "      <th>6</th>\n",
              "      <td>DIARREIA</td>\n",
              "      <td>0.295627</td>\n",
              "    </tr>\n",
              "    <tr>\n",
              "      <th>11</th>\n",
              "      <td>PERD_PALA</td>\n",
              "      <td>0.288970</td>\n",
              "    </tr>\n",
              "    <tr>\n",
              "      <th>1</th>\n",
              "      <td>TOSSE</td>\n",
              "      <td>0.275074</td>\n",
              "    </tr>\n",
              "    <tr>\n",
              "      <th>16</th>\n",
              "      <td>PNEUMOPATI</td>\n",
              "      <td>0.267895</td>\n",
              "    </tr>\n",
              "    <tr>\n",
              "      <th>4</th>\n",
              "      <td>DESC_RESP</td>\n",
              "      <td>0.262864</td>\n",
              "    </tr>\n",
              "    <tr>\n",
              "      <th>3</th>\n",
              "      <td>DISPNEIA</td>\n",
              "      <td>0.249330</td>\n",
              "    </tr>\n",
              "    <tr>\n",
              "      <th>10</th>\n",
              "      <td>PERD_OLFT</td>\n",
              "      <td>0.183888</td>\n",
              "    </tr>\n",
              "    <tr>\n",
              "      <th>14</th>\n",
              "      <td>DIABETES</td>\n",
              "      <td>0.180234</td>\n",
              "    </tr>\n",
              "    <tr>\n",
              "      <th>9</th>\n",
              "      <td>FADIGA</td>\n",
              "      <td>0.131823</td>\n",
              "    </tr>\n",
              "    <tr>\n",
              "      <th>13</th>\n",
              "      <td>ASMA</td>\n",
              "      <td>0.080803</td>\n",
              "    </tr>\n",
              "    <tr>\n",
              "      <th>8</th>\n",
              "      <td>DOR_ABD</td>\n",
              "      <td>0.065676</td>\n",
              "    </tr>\n",
              "    <tr>\n",
              "      <th>2</th>\n",
              "      <td>GARGANTA</td>\n",
              "      <td>0.061762</td>\n",
              "    </tr>\n",
              "    <tr>\n",
              "      <th>5</th>\n",
              "      <td>SATURACAO</td>\n",
              "      <td>0.051874</td>\n",
              "    </tr>\n",
              "    <tr>\n",
              "      <th>0</th>\n",
              "      <td>FEBRE</td>\n",
              "      <td>0.046560</td>\n",
              "    </tr>\n",
              "    <tr>\n",
              "      <th>12</th>\n",
              "      <td>CARDIOPATI</td>\n",
              "      <td>0.046259</td>\n",
              "    </tr>\n",
              "    <tr>\n",
              "      <th>7</th>\n",
              "      <td>VOMITO</td>\n",
              "      <td>0.012329</td>\n",
              "    </tr>\n",
              "  </tbody>\n",
              "</table>\n",
              "</div>"
            ],
            "text/plain": [
              "       feature  feature_importance\n",
              "22    HOSPITAL            2.000725\n",
              "23         UTI            1.359692\n",
              "19  SUPORT_VEN            0.838876\n",
              "17       RENAL            0.819486\n",
              "21  NU_IDADE_N            0.603982\n",
              "18  IMUNODEPRE            0.574538\n",
              "15  NEUROLOGIC            0.432277\n",
              "20   OBESIDADE            0.314163\n",
              "6     DIARREIA            0.295627\n",
              "11   PERD_PALA            0.288970\n",
              "1        TOSSE            0.275074\n",
              "16  PNEUMOPATI            0.267895\n",
              "4    DESC_RESP            0.262864\n",
              "3     DISPNEIA            0.249330\n",
              "10   PERD_OLFT            0.183888\n",
              "14    DIABETES            0.180234\n",
              "9       FADIGA            0.131823\n",
              "13        ASMA            0.080803\n",
              "8      DOR_ABD            0.065676\n",
              "2     GARGANTA            0.061762\n",
              "5    SATURACAO            0.051874\n",
              "0        FEBRE            0.046560\n",
              "12  CARDIOPATI            0.046259\n",
              "7       VOMITO            0.012329"
            ]
          },
          "metadata": {
            "tags": []
          },
          "execution_count": 24
        }
      ]
    },
    {
      "cell_type": "markdown",
      "metadata": {
        "id": "HPUwOvLVZXoo"
      },
      "source": [
        "**Decision Tree Classifier**"
      ]
    },
    {
      "cell_type": "code",
      "metadata": {
        "id": "kYO_k7NuZiyL",
        "colab": {
          "base_uri": "https://localhost:8080/"
        },
        "outputId": "8ec3da8c-1853-4c40-e524-750f01cc368f"
      },
      "source": [
        "DT_classifier = DecisionTreeClassifier(random_state=random_state)\n",
        "DT_classifier.fit(X_train, y_train)\n",
        "DT_pred = DT_classifier.predict(X_test)\n",
        "\n",
        "print(classification_report(y_test, DT_pred))"
      ],
      "execution_count": null,
      "outputs": [
        {
          "output_type": "stream",
          "text": [
            "              precision    recall  f1-score   support\n",
            "\n",
            "         1.0       0.72      0.76      0.74      5118\n",
            "         2.0       0.75      0.70      0.72      5118\n",
            "\n",
            "    accuracy                           0.73     10236\n",
            "   macro avg       0.73      0.73      0.73     10236\n",
            "weighted avg       0.73      0.73      0.73     10236\n",
            "\n"
          ],
          "name": "stdout"
        }
      ]
    },
    {
      "cell_type": "markdown",
      "metadata": {
        "id": "9kpg6e71tO-i"
      },
      "source": [
        "**Avaliação da importância de cada atributo para predição do modelo**"
      ]
    },
    {
      "cell_type": "code",
      "metadata": {
        "colab": {
          "base_uri": "https://localhost:8080/"
        },
        "id": "ZEqjjexmOOTr",
        "outputId": "7f781647-b54a-4c62-80b9-e80c0dd498b4"
      },
      "source": [
        "feature_importance = pd.DataFrame({'feature':list(X.columns),'feature_importance':DT_classifier.feature_importances_})\n",
        "feature_importance.sort_values('feature_importance',ascending=False)"
      ],
      "execution_count": null,
      "outputs": [
        {
          "output_type": "execute_result",
          "data": {
            "text/html": [
              "<div>\n",
              "<style scoped>\n",
              "    .dataframe tbody tr th:only-of-type {\n",
              "        vertical-align: middle;\n",
              "    }\n",
              "\n",
              "    .dataframe tbody tr th {\n",
              "        vertical-align: top;\n",
              "    }\n",
              "\n",
              "    .dataframe thead th {\n",
              "        text-align: right;\n",
              "    }\n",
              "</style>\n",
              "<table border=\"1\" class=\"dataframe\">\n",
              "  <thead>\n",
              "    <tr style=\"text-align: right;\">\n",
              "      <th></th>\n",
              "      <th>feature</th>\n",
              "      <th>feature_importance</th>\n",
              "    </tr>\n",
              "  </thead>\n",
              "  <tbody>\n",
              "    <tr>\n",
              "      <th>19</th>\n",
              "      <td>SUPORT_VEN</td>\n",
              "      <td>0.374584</td>\n",
              "    </tr>\n",
              "    <tr>\n",
              "      <th>21</th>\n",
              "      <td>NU_IDADE_N</td>\n",
              "      <td>0.142845</td>\n",
              "    </tr>\n",
              "    <tr>\n",
              "      <th>23</th>\n",
              "      <td>UTI</td>\n",
              "      <td>0.040361</td>\n",
              "    </tr>\n",
              "    <tr>\n",
              "      <th>12</th>\n",
              "      <td>CARDIOPATI</td>\n",
              "      <td>0.035139</td>\n",
              "    </tr>\n",
              "    <tr>\n",
              "      <th>22</th>\n",
              "      <td>HOSPITAL</td>\n",
              "      <td>0.032423</td>\n",
              "    </tr>\n",
              "    <tr>\n",
              "      <th>0</th>\n",
              "      <td>FEBRE</td>\n",
              "      <td>0.031482</td>\n",
              "    </tr>\n",
              "    <tr>\n",
              "      <th>5</th>\n",
              "      <td>SATURACAO</td>\n",
              "      <td>0.029423</td>\n",
              "    </tr>\n",
              "    <tr>\n",
              "      <th>14</th>\n",
              "      <td>DIABETES</td>\n",
              "      <td>0.026907</td>\n",
              "    </tr>\n",
              "    <tr>\n",
              "      <th>4</th>\n",
              "      <td>DESC_RESP</td>\n",
              "      <td>0.026749</td>\n",
              "    </tr>\n",
              "    <tr>\n",
              "      <th>9</th>\n",
              "      <td>FADIGA</td>\n",
              "      <td>0.026333</td>\n",
              "    </tr>\n",
              "    <tr>\n",
              "      <th>6</th>\n",
              "      <td>DIARREIA</td>\n",
              "      <td>0.025985</td>\n",
              "    </tr>\n",
              "    <tr>\n",
              "      <th>2</th>\n",
              "      <td>GARGANTA</td>\n",
              "      <td>0.025121</td>\n",
              "    </tr>\n",
              "    <tr>\n",
              "      <th>1</th>\n",
              "      <td>TOSSE</td>\n",
              "      <td>0.024877</td>\n",
              "    </tr>\n",
              "    <tr>\n",
              "      <th>3</th>\n",
              "      <td>DISPNEIA</td>\n",
              "      <td>0.024481</td>\n",
              "    </tr>\n",
              "    <tr>\n",
              "      <th>20</th>\n",
              "      <td>OBESIDADE</td>\n",
              "      <td>0.020845</td>\n",
              "    </tr>\n",
              "    <tr>\n",
              "      <th>7</th>\n",
              "      <td>VOMITO</td>\n",
              "      <td>0.019528</td>\n",
              "    </tr>\n",
              "    <tr>\n",
              "      <th>8</th>\n",
              "      <td>DOR_ABD</td>\n",
              "      <td>0.015199</td>\n",
              "    </tr>\n",
              "    <tr>\n",
              "      <th>10</th>\n",
              "      <td>PERD_OLFT</td>\n",
              "      <td>0.015143</td>\n",
              "    </tr>\n",
              "    <tr>\n",
              "      <th>11</th>\n",
              "      <td>PERD_PALA</td>\n",
              "      <td>0.014342</td>\n",
              "    </tr>\n",
              "    <tr>\n",
              "      <th>15</th>\n",
              "      <td>NEUROLOGIC</td>\n",
              "      <td>0.011538</td>\n",
              "    </tr>\n",
              "    <tr>\n",
              "      <th>17</th>\n",
              "      <td>RENAL</td>\n",
              "      <td>0.010623</td>\n",
              "    </tr>\n",
              "    <tr>\n",
              "      <th>16</th>\n",
              "      <td>PNEUMOPATI</td>\n",
              "      <td>0.009365</td>\n",
              "    </tr>\n",
              "    <tr>\n",
              "      <th>13</th>\n",
              "      <td>ASMA</td>\n",
              "      <td>0.008498</td>\n",
              "    </tr>\n",
              "    <tr>\n",
              "      <th>18</th>\n",
              "      <td>IMUNODEPRE</td>\n",
              "      <td>0.008209</td>\n",
              "    </tr>\n",
              "  </tbody>\n",
              "</table>\n",
              "</div>"
            ],
            "text/plain": [
              "       feature  feature_importance\n",
              "19  SUPORT_VEN            0.374584\n",
              "21  NU_IDADE_N            0.142845\n",
              "23         UTI            0.040361\n",
              "12  CARDIOPATI            0.035139\n",
              "22    HOSPITAL            0.032423\n",
              "0        FEBRE            0.031482\n",
              "5    SATURACAO            0.029423\n",
              "14    DIABETES            0.026907\n",
              "4    DESC_RESP            0.026749\n",
              "9       FADIGA            0.026333\n",
              "6     DIARREIA            0.025985\n",
              "2     GARGANTA            0.025121\n",
              "1        TOSSE            0.024877\n",
              "3     DISPNEIA            0.024481\n",
              "20   OBESIDADE            0.020845\n",
              "7       VOMITO            0.019528\n",
              "8      DOR_ABD            0.015199\n",
              "10   PERD_OLFT            0.015143\n",
              "11   PERD_PALA            0.014342\n",
              "15  NEUROLOGIC            0.011538\n",
              "17       RENAL            0.010623\n",
              "16  PNEUMOPATI            0.009365\n",
              "13        ASMA            0.008498\n",
              "18  IMUNODEPRE            0.008209"
            ]
          },
          "metadata": {
            "tags": []
          },
          "execution_count": 26
        }
      ]
    },
    {
      "cell_type": "markdown",
      "metadata": {
        "id": "TWLnhqF_UUkH"
      },
      "source": [
        "**Naive Bayes Classifier**"
      ]
    },
    {
      "cell_type": "code",
      "metadata": {
        "id": "n8bejFD0UUkH",
        "colab": {
          "base_uri": "https://localhost:8080/"
        },
        "outputId": "e1dae7e0-3141-4989-d762-39c321560682"
      },
      "source": [
        "NB_classifier = GaussianNB()\n",
        "NB_classifier.fit(X_train, y_train)\n",
        "NB_pred = NB_classifier.predict(X_test)\n",
        "\n",
        "print(classification_report(y_test, NB_pred))"
      ],
      "execution_count": null,
      "outputs": [
        {
          "output_type": "stream",
          "text": [
            "              precision    recall  f1-score   support\n",
            "\n",
            "         1.0       0.67      0.81      0.74      5118\n",
            "         2.0       0.76      0.61      0.68      5118\n",
            "\n",
            "    accuracy                           0.71     10236\n",
            "   macro avg       0.72      0.71      0.71     10236\n",
            "weighted avg       0.72      0.71      0.71     10236\n",
            "\n"
          ],
          "name": "stdout"
        }
      ]
    },
    {
      "cell_type": "markdown",
      "metadata": {
        "id": "VQZODwtQtQTi"
      },
      "source": [
        "**Avaliação da importância de cada atributo para predição do modelo**"
      ]
    },
    {
      "cell_type": "code",
      "metadata": {
        "colab": {
          "base_uri": "https://localhost:8080/",
          "height": 793
        },
        "id": "xbQhdr7vInKL",
        "outputId": "de16d5cf-a3d4-4ce5-b8c5-bfc67ec4b388"
      },
      "source": [
        "imps = permutation_importance(NB_classifier, X_test, y_test)\n",
        "importances = imps.importances_mean\n",
        "\n",
        "feature_importance = pd.DataFrame({'feature':list(X.columns),'feature_importance':list(importances)})\n",
        "feature_importance.sort_values('feature_importance',ascending=False)"
      ],
      "execution_count": null,
      "outputs": [
        {
          "output_type": "execute_result",
          "data": {
            "text/html": [
              "<div>\n",
              "<style scoped>\n",
              "    .dataframe tbody tr th:only-of-type {\n",
              "        vertical-align: middle;\n",
              "    }\n",
              "\n",
              "    .dataframe tbody tr th {\n",
              "        vertical-align: top;\n",
              "    }\n",
              "\n",
              "    .dataframe thead th {\n",
              "        text-align: right;\n",
              "    }\n",
              "</style>\n",
              "<table border=\"1\" class=\"dataframe\">\n",
              "  <thead>\n",
              "    <tr style=\"text-align: right;\">\n",
              "      <th></th>\n",
              "      <th>feature</th>\n",
              "      <th>feature_importance</th>\n",
              "    </tr>\n",
              "  </thead>\n",
              "  <tbody>\n",
              "    <tr>\n",
              "      <th>19</th>\n",
              "      <td>SUPORT_VEN</td>\n",
              "      <td>0.054846</td>\n",
              "    </tr>\n",
              "    <tr>\n",
              "      <th>23</th>\n",
              "      <td>UTI</td>\n",
              "      <td>0.036088</td>\n",
              "    </tr>\n",
              "    <tr>\n",
              "      <th>22</th>\n",
              "      <td>HOSPITAL</td>\n",
              "      <td>0.017800</td>\n",
              "    </tr>\n",
              "    <tr>\n",
              "      <th>21</th>\n",
              "      <td>NU_IDADE_N</td>\n",
              "      <td>0.014771</td>\n",
              "    </tr>\n",
              "    <tr>\n",
              "      <th>15</th>\n",
              "      <td>NEUROLOGIC</td>\n",
              "      <td>0.008206</td>\n",
              "    </tr>\n",
              "    <tr>\n",
              "      <th>17</th>\n",
              "      <td>RENAL</td>\n",
              "      <td>0.006936</td>\n",
              "    </tr>\n",
              "    <tr>\n",
              "      <th>11</th>\n",
              "      <td>PERD_PALA</td>\n",
              "      <td>0.006448</td>\n",
              "    </tr>\n",
              "    <tr>\n",
              "      <th>10</th>\n",
              "      <td>PERD_OLFT</td>\n",
              "      <td>0.005061</td>\n",
              "    </tr>\n",
              "    <tr>\n",
              "      <th>16</th>\n",
              "      <td>PNEUMOPATI</td>\n",
              "      <td>0.003908</td>\n",
              "    </tr>\n",
              "    <tr>\n",
              "      <th>18</th>\n",
              "      <td>IMUNODEPRE</td>\n",
              "      <td>0.003165</td>\n",
              "    </tr>\n",
              "    <tr>\n",
              "      <th>13</th>\n",
              "      <td>ASMA</td>\n",
              "      <td>0.001719</td>\n",
              "    </tr>\n",
              "    <tr>\n",
              "      <th>3</th>\n",
              "      <td>DISPNEIA</td>\n",
              "      <td>0.000801</td>\n",
              "    </tr>\n",
              "    <tr>\n",
              "      <th>0</th>\n",
              "      <td>FEBRE</td>\n",
              "      <td>0.000723</td>\n",
              "    </tr>\n",
              "    <tr>\n",
              "      <th>20</th>\n",
              "      <td>OBESIDADE</td>\n",
              "      <td>0.000293</td>\n",
              "    </tr>\n",
              "    <tr>\n",
              "      <th>1</th>\n",
              "      <td>TOSSE</td>\n",
              "      <td>0.000195</td>\n",
              "    </tr>\n",
              "    <tr>\n",
              "      <th>14</th>\n",
              "      <td>DIABETES</td>\n",
              "      <td>0.000195</td>\n",
              "    </tr>\n",
              "    <tr>\n",
              "      <th>4</th>\n",
              "      <td>DESC_RESP</td>\n",
              "      <td>0.000078</td>\n",
              "    </tr>\n",
              "    <tr>\n",
              "      <th>6</th>\n",
              "      <td>DIARREIA</td>\n",
              "      <td>0.000020</td>\n",
              "    </tr>\n",
              "    <tr>\n",
              "      <th>9</th>\n",
              "      <td>FADIGA</td>\n",
              "      <td>-0.000254</td>\n",
              "    </tr>\n",
              "    <tr>\n",
              "      <th>2</th>\n",
              "      <td>GARGANTA</td>\n",
              "      <td>-0.000860</td>\n",
              "    </tr>\n",
              "    <tr>\n",
              "      <th>8</th>\n",
              "      <td>DOR_ABD</td>\n",
              "      <td>-0.000938</td>\n",
              "    </tr>\n",
              "    <tr>\n",
              "      <th>7</th>\n",
              "      <td>VOMITO</td>\n",
              "      <td>-0.000938</td>\n",
              "    </tr>\n",
              "    <tr>\n",
              "      <th>5</th>\n",
              "      <td>SATURACAO</td>\n",
              "      <td>-0.001036</td>\n",
              "    </tr>\n",
              "    <tr>\n",
              "      <th>12</th>\n",
              "      <td>CARDIOPATI</td>\n",
              "      <td>-0.001387</td>\n",
              "    </tr>\n",
              "  </tbody>\n",
              "</table>\n",
              "</div>"
            ],
            "text/plain": [
              "       feature  feature_importance\n",
              "19  SUPORT_VEN            0.054846\n",
              "23         UTI            0.036088\n",
              "22    HOSPITAL            0.017800\n",
              "21  NU_IDADE_N            0.014771\n",
              "15  NEUROLOGIC            0.008206\n",
              "17       RENAL            0.006936\n",
              "11   PERD_PALA            0.006448\n",
              "10   PERD_OLFT            0.005061\n",
              "16  PNEUMOPATI            0.003908\n",
              "18  IMUNODEPRE            0.003165\n",
              "13        ASMA            0.001719\n",
              "3     DISPNEIA            0.000801\n",
              "0        FEBRE            0.000723\n",
              "20   OBESIDADE            0.000293\n",
              "1        TOSSE            0.000195\n",
              "14    DIABETES            0.000195\n",
              "4    DESC_RESP            0.000078\n",
              "6     DIARREIA            0.000020\n",
              "9       FADIGA           -0.000254\n",
              "2     GARGANTA           -0.000860\n",
              "8      DOR_ABD           -0.000938\n",
              "7       VOMITO           -0.000938\n",
              "5    SATURACAO           -0.001036\n",
              "12  CARDIOPATI           -0.001387"
            ]
          },
          "metadata": {
            "tags": []
          },
          "execution_count": 28
        }
      ]
    },
    {
      "cell_type": "markdown",
      "metadata": {
        "id": "FjBTFfDvvCOH"
      },
      "source": [
        "**Random Forest**"
      ]
    },
    {
      "cell_type": "code",
      "metadata": {
        "id": "7N08dCExvHww",
        "colab": {
          "base_uri": "https://localhost:8080/"
        },
        "outputId": "778b574d-6e9c-40ce-c45e-ad1dfea13c79"
      },
      "source": [
        "RF_classifier = RandomForestClassifier(n_estimators = 250, criterion = 'entropy', random_state = random_state)\n",
        "RF_classifier.fit(X_train, y_train)\n",
        "RF_pred = RF_classifier.predict(X_test)\n",
        "\n",
        "print(classification_report(y_test, RF_pred))"
      ],
      "execution_count": null,
      "outputs": [
        {
          "output_type": "stream",
          "text": [
            "              precision    recall  f1-score   support\n",
            "\n",
            "         1.0       0.75      0.77      0.76      5118\n",
            "         2.0       0.76      0.75      0.75      5118\n",
            "\n",
            "    accuracy                           0.76     10236\n",
            "   macro avg       0.76      0.76      0.76     10236\n",
            "weighted avg       0.76      0.76      0.76     10236\n",
            "\n"
          ],
          "name": "stdout"
        }
      ]
    },
    {
      "cell_type": "markdown",
      "metadata": {
        "id": "JWSxRZYotRqc"
      },
      "source": [
        "**Avaliação da importância de cada atributo para predição do modelo**"
      ]
    },
    {
      "cell_type": "code",
      "metadata": {
        "colab": {
          "base_uri": "https://localhost:8080/"
        },
        "id": "8W-dx-Z7Iqh_",
        "outputId": "fc0c82c7-fa2a-42da-ef87-1dd1d4d0b768"
      },
      "source": [
        "feature_importance = pd.DataFrame({'feature':list(X.columns),'feature_importance':RF_classifier.feature_importances_})\n",
        "feature_importance.sort_values('feature_importance',ascending=False)"
      ],
      "execution_count": null,
      "outputs": [
        {
          "output_type": "execute_result",
          "data": {
            "text/html": [
              "<div>\n",
              "<style scoped>\n",
              "    .dataframe tbody tr th:only-of-type {\n",
              "        vertical-align: middle;\n",
              "    }\n",
              "\n",
              "    .dataframe tbody tr th {\n",
              "        vertical-align: top;\n",
              "    }\n",
              "\n",
              "    .dataframe thead th {\n",
              "        text-align: right;\n",
              "    }\n",
              "</style>\n",
              "<table border=\"1\" class=\"dataframe\">\n",
              "  <thead>\n",
              "    <tr style=\"text-align: right;\">\n",
              "      <th></th>\n",
              "      <th>feature</th>\n",
              "      <th>feature_importance</th>\n",
              "    </tr>\n",
              "  </thead>\n",
              "  <tbody>\n",
              "    <tr>\n",
              "      <th>19</th>\n",
              "      <td>SUPORT_VEN</td>\n",
              "      <td>0.256813</td>\n",
              "    </tr>\n",
              "    <tr>\n",
              "      <th>21</th>\n",
              "      <td>NU_IDADE_N</td>\n",
              "      <td>0.156696</td>\n",
              "    </tr>\n",
              "    <tr>\n",
              "      <th>23</th>\n",
              "      <td>UTI</td>\n",
              "      <td>0.096588</td>\n",
              "    </tr>\n",
              "    <tr>\n",
              "      <th>0</th>\n",
              "      <td>FEBRE</td>\n",
              "      <td>0.038340</td>\n",
              "    </tr>\n",
              "    <tr>\n",
              "      <th>5</th>\n",
              "      <td>SATURACAO</td>\n",
              "      <td>0.033866</td>\n",
              "    </tr>\n",
              "    <tr>\n",
              "      <th>12</th>\n",
              "      <td>CARDIOPATI</td>\n",
              "      <td>0.033214</td>\n",
              "    </tr>\n",
              "    <tr>\n",
              "      <th>3</th>\n",
              "      <td>DISPNEIA</td>\n",
              "      <td>0.032464</td>\n",
              "    </tr>\n",
              "    <tr>\n",
              "      <th>1</th>\n",
              "      <td>TOSSE</td>\n",
              "      <td>0.031908</td>\n",
              "    </tr>\n",
              "    <tr>\n",
              "      <th>4</th>\n",
              "      <td>DESC_RESP</td>\n",
              "      <td>0.031400</td>\n",
              "    </tr>\n",
              "    <tr>\n",
              "      <th>9</th>\n",
              "      <td>FADIGA</td>\n",
              "      <td>0.031256</td>\n",
              "    </tr>\n",
              "    <tr>\n",
              "      <th>14</th>\n",
              "      <td>DIABETES</td>\n",
              "      <td>0.029671</td>\n",
              "    </tr>\n",
              "    <tr>\n",
              "      <th>2</th>\n",
              "      <td>GARGANTA</td>\n",
              "      <td>0.029008</td>\n",
              "    </tr>\n",
              "    <tr>\n",
              "      <th>22</th>\n",
              "      <td>HOSPITAL</td>\n",
              "      <td>0.028394</td>\n",
              "    </tr>\n",
              "    <tr>\n",
              "      <th>6</th>\n",
              "      <td>DIARREIA</td>\n",
              "      <td>0.026706</td>\n",
              "    </tr>\n",
              "    <tr>\n",
              "      <th>20</th>\n",
              "      <td>OBESIDADE</td>\n",
              "      <td>0.024452</td>\n",
              "    </tr>\n",
              "    <tr>\n",
              "      <th>7</th>\n",
              "      <td>VOMITO</td>\n",
              "      <td>0.020820</td>\n",
              "    </tr>\n",
              "    <tr>\n",
              "      <th>8</th>\n",
              "      <td>DOR_ABD</td>\n",
              "      <td>0.016480</td>\n",
              "    </tr>\n",
              "    <tr>\n",
              "      <th>10</th>\n",
              "      <td>PERD_OLFT</td>\n",
              "      <td>0.013730</td>\n",
              "    </tr>\n",
              "    <tr>\n",
              "      <th>11</th>\n",
              "      <td>PERD_PALA</td>\n",
              "      <td>0.013319</td>\n",
              "    </tr>\n",
              "    <tr>\n",
              "      <th>17</th>\n",
              "      <td>RENAL</td>\n",
              "      <td>0.012750</td>\n",
              "    </tr>\n",
              "    <tr>\n",
              "      <th>15</th>\n",
              "      <td>NEUROLOGIC</td>\n",
              "      <td>0.012364</td>\n",
              "    </tr>\n",
              "    <tr>\n",
              "      <th>16</th>\n",
              "      <td>PNEUMOPATI</td>\n",
              "      <td>0.010212</td>\n",
              "    </tr>\n",
              "    <tr>\n",
              "      <th>18</th>\n",
              "      <td>IMUNODEPRE</td>\n",
              "      <td>0.009807</td>\n",
              "    </tr>\n",
              "    <tr>\n",
              "      <th>13</th>\n",
              "      <td>ASMA</td>\n",
              "      <td>0.009744</td>\n",
              "    </tr>\n",
              "  </tbody>\n",
              "</table>\n",
              "</div>"
            ],
            "text/plain": [
              "       feature  feature_importance\n",
              "19  SUPORT_VEN            0.256813\n",
              "21  NU_IDADE_N            0.156696\n",
              "23         UTI            0.096588\n",
              "0        FEBRE            0.038340\n",
              "5    SATURACAO            0.033866\n",
              "12  CARDIOPATI            0.033214\n",
              "3     DISPNEIA            0.032464\n",
              "1        TOSSE            0.031908\n",
              "4    DESC_RESP            0.031400\n",
              "9       FADIGA            0.031256\n",
              "14    DIABETES            0.029671\n",
              "2     GARGANTA            0.029008\n",
              "22    HOSPITAL            0.028394\n",
              "6     DIARREIA            0.026706\n",
              "20   OBESIDADE            0.024452\n",
              "7       VOMITO            0.020820\n",
              "8      DOR_ABD            0.016480\n",
              "10   PERD_OLFT            0.013730\n",
              "11   PERD_PALA            0.013319\n",
              "17       RENAL            0.012750\n",
              "15  NEUROLOGIC            0.012364\n",
              "16  PNEUMOPATI            0.010212\n",
              "18  IMUNODEPRE            0.009807\n",
              "13        ASMA            0.009744"
            ]
          },
          "metadata": {
            "tags": []
          },
          "execution_count": 30
        }
      ]
    },
    {
      "cell_type": "markdown",
      "metadata": {
        "id": "RxG1_fJVbuD_"
      },
      "source": [
        "**Resultados**"
      ]
    },
    {
      "cell_type": "markdown",
      "metadata": {
        "id": "FWH5nlFeX2lB"
      },
      "source": [
        "**Matriz de Confusão e Acurácia dos modelos**"
      ]
    },
    {
      "cell_type": "markdown",
      "metadata": {
        "id": "i8I1zEns1Px8"
      },
      "source": [
        "A partir da avaliação das **matrizes de confusão** e **acurácia** dos modelos, obtivemos as seguintes acurácias:\n",
        "\n",
        "<br>\n",
        "\n",
        "**1 - Random Forest:** 75.25%\n",
        "\n",
        "**2 - Logistic Regression:** 74.94%\n",
        "\n",
        "**3 - Decision Tree:** 72.55%\n",
        "\n",
        "**4 - Naive Bayes:** 72.14%"
      ]
    },
    {
      "cell_type": "code",
      "metadata": {
        "id": "XTWTYzwISqDQ",
        "colab": {
          "base_uri": "https://localhost:8080/"
        },
        "outputId": "18d00254-d947-403e-c965-f631bed9d3ed"
      },
      "source": [
        "models = [LR_classifier, DT_classifier, NB_classifier, RF_classifier]\n",
        "models_name =['Logistic Regression', 'Decision Tree', 'Naive Bayes', 'Random Forest']\n",
        "acc = []\n",
        "cross = []\n",
        "\n",
        "for i in models:\n",
        "  i.fit(X_train,y_train)\n",
        "  y_pred = i.predict(X_test)\n",
        "  acc.append(accuracy_score(y_test, y_pred)*100)\n",
        "  scores = cross_val_score(i, X_train, y_train, cv=5, scoring='accuracy')\n",
        "  cross.append(scores)\n",
        "\n",
        "  print(confusion_matrix(y_test,y_pred))\n",
        "  print(\"Acurácia (Cross-Validation): %0.4f (+/- %0.2f)\" % (scores.mean(), scores.std() * 2), '\\n')"
      ],
      "execution_count": null,
      "outputs": [
        {
          "output_type": "stream",
          "text": [
            "[[3855 1263]\n",
            " [1353 3765]]\n",
            "Acurácia (Cross-Validation): 0.7494 (+/- 0.01) \n",
            "\n",
            "[[3902 1216]\n",
            " [1535 3583]]\n",
            "Acurácia (Cross-Validation): 0.7255 (+/- 0.01) \n",
            "\n",
            "[[4150  968]\n",
            " [2000 3118]]\n",
            "Acurácia (Cross-Validation): 0.7214 (+/- 0.01) \n",
            "\n",
            "[[3940 1178]\n",
            " [1300 3818]]\n",
            "Acurácia (Cross-Validation): 0.7525 (+/- 0.01) \n",
            "\n"
          ],
          "name": "stdout"
        }
      ]
    },
    {
      "cell_type": "markdown",
      "metadata": {
        "id": "PLqRlokq7kM4"
      },
      "source": [
        "**Gráfico das acurácias dos modelos**"
      ]
    },
    {
      "cell_type": "code",
      "metadata": {
        "id": "6_DwKB0PTEoV",
        "colab": {
          "base_uri": "https://localhost:8080/"
        },
        "outputId": "5a0ecc25-646d-4d47-bbe3-50b8c790a972"
      },
      "source": [
        "b = sns.barplot(x=models_name, y=acc)\n",
        "b.set_title('Avaliação da acurácia dos modelos')\n",
        "b.set_ylabel('Acurácia')\n",
        "b.set_xlabel('Modelos');"
      ],
      "execution_count": null,
      "outputs": [
        {
          "output_type": "display_data",
          "data": {
            "image/png": "[encoded data removed]",
            "text/plain": [
              "<Figure size 432x288 with 1 Axes>"
            ]
          },
          "metadata": {
            "tags": [],
            "needs_background": "light"
          }
        }
      ]
    },
    {
      "cell_type": "markdown",
      "metadata": {
        "id": "77wzjFZw65ut"
      },
      "source": [
        "**Discussão**"
      ]
    },
    {
      "cell_type": "markdown",
      "metadata": {
        "id": "xLNKMzZT6--x"
      },
      "source": [
        "Sobre a análise de importância dos atributos, os atributos referente ao uso de suporte ventilatório, internação (leito comum e UTI) e idade destacaram-se como fatores de maior impacto para predição de óbitos e curas de pacientes acometidos por Covid-19. Para 75% dos algoritmos (Logistic Regression, Decision Tree, Naive Bayes e Random Forest) utilizados, o atributo referente ao suporte ventilatório foi o mais determinante para predição da evolução dos casos.\n",
        "\n",
        "Em seguida, para 50% dos modelos (Logistic Regression e Naive Bayes), o atributo referente à internação na UTI destacou-se como segundo principal atributo para predição. Semelhantemente, o atributo referente à faixa etária foi o segundo mais importante para predição dos modelos Random Forest e Decision Tree. Considerando a importância dos sintomas e comorbidades para a predição da evolução dos casos de Covid-19, os resultados obtidos nos modelos são considerados inconclusivos. \n"
      ]
    },
    {
      "cell_type": "markdown",
      "metadata": {
        "id": "Zdh7PM_BtP4g"
      },
      "source": [
        "## **6 Conclusão**"
      ]
    },
    {
      "cell_type": "markdown",
      "metadata": {
        "id": "67yA97VGtP4h"
      },
      "source": [
        "O presente estudo apresentou resultados sobre a evolução da SRAG e monitoramento da campanha de vacinação contra COVID-19 nos estados do nordeste brasileiro. Os resultados de taxa de mortalidade apresentados mostram que populações maiores não necessariamente são mais suscetíveis à altas taxas de mortalidade. Além disso, através dos resultados de taxa de letalidade, percebe-se que, alguns estados com baixas taxas de mortalidade possuem altas taxas de letalidade. Ambos resultados podem ser atribuídos a diversos fatores como condução de políticas públicas adotadas para o combate ao novo coronavírus, monitoramento dos dados epidemiológicos, estrutura etária da população, assim como desigualdades culturais, sociais e econômicas do estado.\n",
        "\n",
        "A partir dos resultados apresentados sobre os perfis epidemiológicos dos indivíduos é possível compreender alguns fatores impactantes para óbitos em decorrência da COVID-19. A presença de comorbidades e a faixa etária elevada de alguns pacientes mostraram-se como agravantes para a ocorrência de óbitos por COVID-19. Como agravante, as estatísticas apresentadas sobre o tempo de internação hospitalar (leitos comuns e UTI) por COVID-19 no Brasil evidenciam uma situação crítica do sistema de saúde para atender à demanda potencial gerada pela pandemia. Este resultado torna-se preocupante ao avaliarmos estados com preparo precário à ofertas de serviços, uma vez que a superlotação de hospitais compromete o atendimento, principalmente a pacientes com sintomas mais graves, resultando no aumento da mortalidade.\n",
        "\n",
        "Segundo os resultados sobre os dados da campanha de vacinação, aproximadamente 25.37% da população nordestina vacinada está com a segunda dose da vacina contra a Covid-19 atrasada. Esse dado alerta para o comprometimento da imunização por ameaçar a eficiência da vacina fora do prazo estipulado pelo fabricante, considerando que ela é baseada em ensaios clínicos que possuem esse período entre doses muito bem definido. Além disso, outro dado preocupante é a ocorrência de indivíduos que tomaram doses de vacinas de fabricantes diferentes. Assim como o atraso da segunda dose, doses de fabricantes diferentes podem comprometer a eficácia do imunizante, além de aumentar os riscos de reações.\n",
        "\n",
        "As principais limitações dos estudos são as inconsistências verificadas nos datasets, provavelmente ocasionadas pela não imposição de restrições no banco de dados. Foram encontrados dados duplicados, ausentes e preenchidos de maneira errada. Os dados precisaram ser adaptados verificando cada caso em particular para minimizar imprecisões na análise.  Além disso,  percebeu-se que há um atraso na coleta dos dados, ou seja, o dataset não dispõe de todos os dados referentes às semanas que antecedem sua data de publicação, o que impossibilita realizar uma análise segura nas semanas próximas à sua disponibilização. Em síntese, os dados analisados não são muito confiáveis, o que pode ocasionar em estatísticas e interpretações com propagação de erro, sendo esta a principal limitação do estudo. \n",
        "\n",
        "Como trabalhos futuros, pretende explorar as inconsistências encontradas para reportar seus principais problemas ao órgão público responsável por sua manutenção e monitoramento. Além disso, melhorar o classificador desenvolvido através do refinamento dos modelos e dos dados selecionados. Espera-se através do classificador auxiliar a tomada de decisão em relação ao monitoramento de pacientes em situação de vulnerabilidade. \n",
        "\n",
        "Por fim, em relação às melhorias que podem ser feitas, destacamos a melhoria do classificador através dos aspectos anteriormente descritos, melhoria dos gráficos apresentados através dos princípios ensinados na disciplina, e detalhamento e refinamento da apresentação dos resultados.\n"
      ]
    }
  ]
}