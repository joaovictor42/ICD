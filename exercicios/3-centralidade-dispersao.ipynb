{
 "cells": [
  {
   "cell_type": "markdown",
   "metadata": {},
   "source": [
    "# Introdução à Ciência de Dados - UFPB\n",
    "Professor: Yuri Malheiros  \n",
    "Aluno: João Victor Alcoforado de Araújo  \n",
    "Matrícula: 20180083830\n",
    "\n",
    "## Medidas de Centralidade e Dispersão"
   ]
  },
  {
   "cell_type": "markdown",
   "metadata": {},
   "source": [
    "A partir do dataset `movies.csv` calcule a média, mediana e desvio padrão para as colunas:"
   ]
  },
  {
   "cell_type": "code",
   "execution_count": 5,
   "metadata": {
    "scrolled": false
   },
   "outputs": [
    {
     "data": {
      "text/html": [
       "<div>\n",
       "<style scoped>\n",
       "    .dataframe tbody tr th:only-of-type {\n",
       "        vertical-align: middle;\n",
       "    }\n",
       "\n",
       "    .dataframe tbody tr th {\n",
       "        vertical-align: top;\n",
       "    }\n",
       "\n",
       "    .dataframe thead th {\n",
       "        text-align: right;\n",
       "    }\n",
       "</style>\n",
       "<table border=\"1\" class=\"dataframe\">\n",
       "  <thead>\n",
       "    <tr style=\"text-align: right;\">\n",
       "      <th></th>\n",
       "      <th>Title</th>\n",
       "      <th>US Gross</th>\n",
       "      <th>Production Budget</th>\n",
       "      <th>Running Time (min)</th>\n",
       "      <th>IMDB Rating</th>\n",
       "      <th>IMDB Votes</th>\n",
       "    </tr>\n",
       "  </thead>\n",
       "  <tbody>\n",
       "    <tr>\n",
       "      <th>0</th>\n",
       "      <td>The Land Girls</td>\n",
       "      <td>146083.0</td>\n",
       "      <td>8000000.0</td>\n",
       "      <td>NaN</td>\n",
       "      <td>6.1</td>\n",
       "      <td>1071.0</td>\n",
       "    </tr>\n",
       "    <tr>\n",
       "      <th>1</th>\n",
       "      <td>First Love, Last Rites</td>\n",
       "      <td>10876.0</td>\n",
       "      <td>300000.0</td>\n",
       "      <td>NaN</td>\n",
       "      <td>6.9</td>\n",
       "      <td>207.0</td>\n",
       "    </tr>\n",
       "    <tr>\n",
       "      <th>2</th>\n",
       "      <td>I Married a Strange Person</td>\n",
       "      <td>203134.0</td>\n",
       "      <td>250000.0</td>\n",
       "      <td>NaN</td>\n",
       "      <td>6.8</td>\n",
       "      <td>865.0</td>\n",
       "    </tr>\n",
       "    <tr>\n",
       "      <th>3</th>\n",
       "      <td>Let's Talk About Sex</td>\n",
       "      <td>373615.0</td>\n",
       "      <td>300000.0</td>\n",
       "      <td>NaN</td>\n",
       "      <td>NaN</td>\n",
       "      <td>NaN</td>\n",
       "    </tr>\n",
       "    <tr>\n",
       "      <th>4</th>\n",
       "      <td>Slam</td>\n",
       "      <td>1009819.0</td>\n",
       "      <td>1000000.0</td>\n",
       "      <td>NaN</td>\n",
       "      <td>3.4</td>\n",
       "      <td>165.0</td>\n",
       "    </tr>\n",
       "  </tbody>\n",
       "</table>\n",
       "</div>"
      ],
      "text/plain": [
       "                        Title   US Gross  Production Budget  \\\n",
       "0              The Land Girls   146083.0          8000000.0   \n",
       "1      First Love, Last Rites    10876.0           300000.0   \n",
       "2  I Married a Strange Person   203134.0           250000.0   \n",
       "3        Let's Talk About Sex   373615.0           300000.0   \n",
       "4                        Slam  1009819.0          1000000.0   \n",
       "\n",
       "   Running Time (min)  IMDB Rating  IMDB Votes  \n",
       "0                 NaN          6.1      1071.0  \n",
       "1                 NaN          6.9       207.0  \n",
       "2                 NaN          6.8       865.0  \n",
       "3                 NaN          NaN         NaN  \n",
       "4                 NaN          3.4       165.0  "
      ]
     },
     "execution_count": 5,
     "metadata": {},
     "output_type": "execute_result"
    }
   ],
   "source": [
    "import pandas as pd\n",
    "movies_df = pd.read_csv('https://raw.githubusercontent.com/yurimalheiros/icd/master/datasets/movies.csv')\n",
    "movies_df = movies_df[['Title', 'US Gross', 'Production Budget', 'Running Time (min)', 'IMDB Rating', 'IMDB Votes']]\n",
    "movies_df.head()"
   ]
  },
  {
   "cell_type": "code",
   "execution_count": 14,
   "metadata": {},
   "outputs": [],
   "source": [
    "def attribute_resume(series):\n",
    "    print(series.name)\n",
    "    print(f'Mean = {series.mean()}')\n",
    "    print(f'Median = {series.median()}')\n",
    "    print(f'Standard Deviation = {series.std()}')"
   ]
  },
  {
   "cell_type": "markdown",
   "metadata": {},
   "source": [
    "### US Gross"
   ]
  },
  {
   "cell_type": "code",
   "execution_count": 17,
   "metadata": {},
   "outputs": [
    {
     "name": "stdout",
     "output_type": "stream",
     "text": [
      "US Gross\n",
      "Mean = 44002085.163744524\n",
      "Median = 22019465.5\n",
      "Standard Deviation = 62555311.39066204\n"
     ]
    }
   ],
   "source": [
    "attribute_resume(movies_df['US Gross'])"
   ]
  },
  {
   "cell_type": "markdown",
   "metadata": {},
   "source": [
    "### Production Budget"
   ]
  },
  {
   "cell_type": "code",
   "execution_count": 18,
   "metadata": {},
   "outputs": [
    {
     "name": "stdout",
     "output_type": "stream",
     "text": [
      "Production Budget\n",
      "Mean = 31069171.4484375\n",
      "Median = 20000000.0\n",
      "Standard Deviation = 35585913.44464446\n"
     ]
    }
   ],
   "source": [
    "attribute_resume(movies_df['Production Budget'])"
   ]
  },
  {
   "cell_type": "markdown",
   "metadata": {},
   "source": [
    "### Running Time"
   ]
  },
  {
   "cell_type": "code",
   "execution_count": 19,
   "metadata": {},
   "outputs": [
    {
     "name": "stdout",
     "output_type": "stream",
     "text": [
      "Running Time (min)\n",
      "Mean = 110.19354838709677\n",
      "Median = 107.0\n",
      "Standard Deviation = 20.171013677535424\n"
     ]
    }
   ],
   "source": [
    "attribute_resume(movies_df['Running Time (min)'])"
   ]
  },
  {
   "cell_type": "markdown",
   "metadata": {},
   "source": [
    "### IMDB Rating"
   ]
  },
  {
   "cell_type": "code",
   "execution_count": 20,
   "metadata": {},
   "outputs": [
    {
     "name": "stdout",
     "output_type": "stream",
     "text": [
      "IMDB Rating\n",
      "Mean = 6.283467202141896\n",
      "Median = 6.4\n",
      "Standard Deviation = 1.2522899386004838\n"
     ]
    }
   ],
   "source": [
    "attribute_resume(movies_df['IMDB Rating'])"
   ]
  },
  {
   "cell_type": "markdown",
   "metadata": {},
   "source": [
    "### IMDB Votes"
   ]
  },
  {
   "cell_type": "code",
   "execution_count": 21,
   "metadata": {},
   "outputs": [
    {
     "name": "stdout",
     "output_type": "stream",
     "text": [
      "IMDB Votes\n",
      "Mean = 29908.64457831325\n",
      "Median = 15106.0\n",
      "Standard Deviation = 44937.58233504965\n"
     ]
    }
   ],
   "source": [
    "attribute_resume(movies_df['IMDB Votes'])"
   ]
  },
  {
   "cell_type": "markdown",
   "metadata": {},
   "source": [
    "___\n",
    "### Análise dos Resultados\n",
    "\n",
    "Quais colunas tiveram valores muito diferentes entre média e mediana? Quais os seus desvios padrão?"
   ]
  },
  {
   "cell_type": "markdown",
   "metadata": {},
   "source": [
    "    As colunas US Gross, Production Budget e IMDB Votes, seus desvios padrões são respectivamente 62555311, 35585913 e 44937."
   ]
  },
  {
   "cell_type": "markdown",
   "metadata": {},
   "source": [
    "Que conclusões podemos tirar desses resultados?"
   ]
  },
  {
   "cell_type": "markdown",
   "metadata": {},
   "source": [
    "    A primeira delas é que os valores das colunas US Gross, Production Budget e IMDB Votes são discrepantes. Portanto, pode-se inferir que existem filmes com altíssimos e baixíssimos valores de US Gross e Production Budegets.  \n",
    "\n",
    "    Além disso, existem filmes com muitos votos e poucos votos, o que pode interferir em outras métricas como o IMDB Rating. Neste caso, por tratar-se de uma média de avalição, poucas votações podem gerar uma avaliação que não reflete a percepção geral do publico."
   ]
  }
 ],
 "metadata": {
  "kernelspec": {
   "display_name": "Python 3",
   "language": "python",
   "name": "python3"
  },
  "language_info": {
   "codemirror_mode": {
    "name": "ipython",
    "version": 3
   },
   "file_extension": ".py",
   "mimetype": "text/x-python",
   "name": "python",
   "nbconvert_exporter": "python",
   "pygments_lexer": "ipython3",
   "version": "3.8.5"
  }
 },
 "nbformat": 4,
 "nbformat_minor": 4
}
